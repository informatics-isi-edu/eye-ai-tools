{
  "cells": [
    {
      "cell_type": "markdown",
      "metadata": {
        "id": "view-in-github",
        "colab_type": "text"
      },
      "source": [
        "<a href=\"https://colab.research.google.com/github/informatics-isi-edu/eye-ai-tools/blob/2-golden-standard-generation-for-diagnosis/notebooks/Golden_Label.ipynb\" target=\"_parent\"><img src=\"https://colab.research.google.com/assets/colab-badge.svg\" alt=\"Open In Colab\"/></a>"
      ]
    },
    {
      "cell_type": "code",
      "execution_count": 1,
      "metadata": {
        "id": "QxhaFfawhfE2",
        "outputId": "6913552c-ed07-4845-d2a8-4d2ead8b6fa7",
        "colab": {
          "base_uri": "https://localhost:8080/"
        }
      },
      "outputs": [
        {
          "output_type": "stream",
          "name": "stdout",
          "text": [
            "Collecting git+https://github.com/fair-research/bdbag\n",
            "  Cloning https://github.com/fair-research/bdbag to /tmp/pip-req-build-f3xx38zv\n",
            "  Running command git clone --filter=blob:none --quiet https://github.com/fair-research/bdbag /tmp/pip-req-build-f3xx38zv\n",
            "  Resolved https://github.com/fair-research/bdbag to commit 8ee285059caa71a0789179b8d57b03010ac00e7f\n",
            "  Preparing metadata (setup.py) ... \u001b[?25l\u001b[?25hdone\n",
            "Requirement already satisfied: pytz in /usr/local/lib/python3.10/dist-packages (from bdbag==1.7.1) (2023.3.post1)\n",
            "Requirement already satisfied: tzlocal in /usr/local/lib/python3.10/dist-packages (from bdbag==1.7.1) (5.2)\n",
            "Requirement already satisfied: certifi in /usr/local/lib/python3.10/dist-packages (from bdbag==1.7.1) (2023.11.17)\n",
            "Requirement already satisfied: packaging in /usr/local/lib/python3.10/dist-packages (from bdbag==1.7.1) (23.2)\n",
            "Requirement already satisfied: requests>=2.7.0 in /usr/local/lib/python3.10/dist-packages (from bdbag==1.7.1) (2.31.0)\n",
            "Requirement already satisfied: setuptools_scm<6.0 in /usr/local/lib/python3.10/dist-packages (from bdbag==1.7.1) (5.0.2)\n",
            "Requirement already satisfied: bagit==1.8.1 in /usr/local/lib/python3.10/dist-packages (from bdbag==1.7.1) (1.8.1)\n",
            "Requirement already satisfied: bagit-profile==1.3.1 in /usr/local/lib/python3.10/dist-packages (from bdbag==1.7.1) (1.3.1)\n",
            "Requirement already satisfied: charset-normalizer<4,>=2 in /usr/local/lib/python3.10/dist-packages (from requests>=2.7.0->bdbag==1.7.1) (3.3.2)\n",
            "Requirement already satisfied: idna<4,>=2.5 in /usr/local/lib/python3.10/dist-packages (from requests>=2.7.0->bdbag==1.7.1) (3.6)\n",
            "Requirement already satisfied: urllib3<3,>=1.21.1 in /usr/local/lib/python3.10/dist-packages (from requests>=2.7.0->bdbag==1.7.1) (1.26.18)\n",
            "Requirement already satisfied: setuptools in /usr/local/lib/python3.10/dist-packages (from setuptools_scm<6.0->bdbag==1.7.1) (67.7.2)\n",
            "Requirement already satisfied: deriva in /usr/local/lib/python3.10/dist-packages (1.6.3)\n",
            "Requirement already satisfied: setuptools>=20.2 in /usr/local/lib/python3.10/dist-packages (from deriva) (67.7.2)\n",
            "Requirement already satisfied: packaging in /usr/local/lib/python3.10/dist-packages (from deriva) (23.2)\n",
            "Requirement already satisfied: requests in /usr/local/lib/python3.10/dist-packages (from deriva) (2.31.0)\n",
            "Requirement already satisfied: certifi in /usr/local/lib/python3.10/dist-packages (from deriva) (2023.11.17)\n",
            "Requirement already satisfied: pika in /usr/local/lib/python3.10/dist-packages (from deriva) (1.3.2)\n",
            "Requirement already satisfied: urllib3<2.0,>=1.26.0 in /usr/local/lib/python3.10/dist-packages (from deriva) (1.26.18)\n",
            "Requirement already satisfied: portalocker>=1.2.1 in /usr/local/lib/python3.10/dist-packages (from deriva) (2.8.2)\n",
            "Requirement already satisfied: bdbag>=1.6.0 in /usr/local/lib/python3.10/dist-packages (from deriva) (1.7.1)\n",
            "Requirement already satisfied: globus-sdk<4 in /usr/local/lib/python3.10/dist-packages (from deriva) (3.33.0)\n",
            "Requirement already satisfied: fair-research-login>=0.2.6 in /usr/local/lib/python3.10/dist-packages (from deriva) (0.3.1)\n",
            "Requirement already satisfied: fair-identifiers-client>=0.5 in /usr/local/lib/python3.10/dist-packages (from deriva) (0.5.0)\n",
            "Requirement already satisfied: jsonschema>=3.1 in /usr/local/lib/python3.10/dist-packages (from deriva) (4.19.2)\n",
            "Requirement already satisfied: pytz in /usr/local/lib/python3.10/dist-packages (from bdbag>=1.6.0->deriva) (2023.3.post1)\n",
            "Requirement already satisfied: tzlocal in /usr/local/lib/python3.10/dist-packages (from bdbag>=1.6.0->deriva) (5.2)\n",
            "Requirement already satisfied: setuptools-scm<6.0 in /usr/local/lib/python3.10/dist-packages (from bdbag>=1.6.0->deriva) (5.0.2)\n",
            "Requirement already satisfied: bagit==1.8.1 in /usr/local/lib/python3.10/dist-packages (from bdbag>=1.6.0->deriva) (1.8.1)\n",
            "Requirement already satisfied: bagit-profile==1.3.1 in /usr/local/lib/python3.10/dist-packages (from bdbag>=1.6.0->deriva) (1.3.1)\n",
            "Requirement already satisfied: six<2.0.0,>=1.10.0 in /usr/local/lib/python3.10/dist-packages (from fair-identifiers-client>=0.5->deriva) (1.16.0)\n",
            "Requirement already satisfied: pyjwt[crypto]<3.0.0,>=2.0.0 in /usr/lib/python3/dist-packages (from globus-sdk<4->deriva) (2.3.0)\n",
            "Requirement already satisfied: cryptography!=3.4.0,>=3.3.1 in /usr/local/lib/python3.10/dist-packages (from globus-sdk<4->deriva) (41.0.7)\n",
            "Requirement already satisfied: attrs>=22.2.0 in /usr/local/lib/python3.10/dist-packages (from jsonschema>=3.1->deriva) (23.1.0)\n",
            "Requirement already satisfied: jsonschema-specifications>=2023.03.6 in /usr/local/lib/python3.10/dist-packages (from jsonschema>=3.1->deriva) (2023.11.2)\n",
            "Requirement already satisfied: referencing>=0.28.4 in /usr/local/lib/python3.10/dist-packages (from jsonschema>=3.1->deriva) (0.31.1)\n",
            "Requirement already satisfied: rpds-py>=0.7.1 in /usr/local/lib/python3.10/dist-packages (from jsonschema>=3.1->deriva) (0.13.2)\n",
            "Requirement already satisfied: charset-normalizer<4,>=2 in /usr/local/lib/python3.10/dist-packages (from requests->deriva) (3.3.2)\n",
            "Requirement already satisfied: idna<4,>=2.5 in /usr/local/lib/python3.10/dist-packages (from requests->deriva) (3.6)\n",
            "Requirement already satisfied: cffi>=1.12 in /usr/local/lib/python3.10/dist-packages (from cryptography!=3.4.0,>=3.3.1->globus-sdk<4->deriva) (1.16.0)\n",
            "Requirement already satisfied: pycparser in /usr/local/lib/python3.10/dist-packages (from cffi>=1.12->cryptography!=3.4.0,>=3.3.1->globus-sdk<4->deriva) (2.21)\n",
            "Collecting git+https://github.com/informatics-isi-edu/eye-ai-tools.git@2-golden-standard-generation-for-diagnosis\n",
            "  Cloning https://github.com/informatics-isi-edu/eye-ai-tools.git (to revision 2-golden-standard-generation-for-diagnosis) to /tmp/pip-req-build-nh187f92\n",
            "  Running command git clone --filter=blob:none --quiet https://github.com/informatics-isi-edu/eye-ai-tools.git /tmp/pip-req-build-nh187f92\n",
            "  Running command git checkout -b 2-golden-standard-generation-for-diagnosis --track origin/2-golden-standard-generation-for-diagnosis\n",
            "  Switched to a new branch '2-golden-standard-generation-for-diagnosis'\n",
            "  Branch '2-golden-standard-generation-for-diagnosis' set up to track remote branch '2-golden-standard-generation-for-diagnosis' from 'origin'.\n",
            "  Resolved https://github.com/informatics-isi-edu/eye-ai-tools.git to commit 99519f433bd3bef3116ab89916a57f3e75f28095\n",
            "  Installing build dependencies ... \u001b[?25l\u001b[?25hdone\n",
            "  Getting requirements to build wheel ... \u001b[?25l\u001b[?25hdone\n",
            "  Preparing metadata (pyproject.toml) ... \u001b[?25l\u001b[?25hdone\n"
          ]
        }
      ],
      "source": [
        "# Prerequisites\n",
        "!pip install git+https://github.com/fair-research/bdbag\n",
        "!pip install deriva\n",
        "!pip install 'git+https://github.com/informatics-isi-edu/eye-ai-tools.git@2-golden-standard-generation-for-diagnosis'\n"
      ]
    },
    {
      "cell_type": "code",
      "execution_count": 2,
      "metadata": {
        "id": "mVLFcQpzhi_0",
        "outputId": "fb19cdd8-7fbe-412c-c720-274a7d76d118",
        "colab": {
          "base_uri": "https://localhost:8080/"
        }
      },
      "outputs": [
        {
          "output_type": "stream",
          "name": "stdout",
          "text": [
            "You are already logged in.\n"
          ]
        }
      ],
      "source": [
        "# login to DERIVA via Globus Auth\n",
        "host = 'dev.eye-ai.org' #@param {type:\"string\"}\n",
        "!deriva-globus-auth-utils login --no-browser --host {host}"
      ]
    },
    {
      "cell_type": "markdown",
      "metadata": {
        "id": "kiBJIR0E7XUE"
      },
      "source": [
        "Make a connection to the Eye AI catalog and get a reference to the main schema: eye-ai"
      ]
    },
    {
      "cell_type": "code",
      "execution_count": 3,
      "metadata": {
        "id": "7vyUQWbIA79J"
      },
      "outputs": [],
      "source": [
        "# @title Configure Grader groups\n",
        "grader_list = [\"Benjamin Xu\", \"Kendra Hong\", \"Kent Nguyen\"] # @param\n",
        "dataset_rid = \"2-277M\" # @param {type:\"string\"}\n",
        "diagnosis_tag_rid = \"2-35RM\" # @param {type:\"string\"}\n"
      ]
    },
    {
      "cell_type": "code",
      "source": [
        "# @title Configure Process and\n",
        "process_tag_name = \"Test Diagnosis Generation\" # @param {type:\"string\"}\n",
        "Metadata = \"Test Diagnosis Generation\" # @param {type:\"string\"}\n",
        "Github_URL=\"\" # @param {type:\"string\"}\n",
        "Process_Tag = \"\" # @param {type: \"string\"}\n",
        "Description = \"\" # @param {type: \"string\"}\n",
        "Github_Checksum = \"\" # @param {type: \"string\"}\n",
        "\n",
        "\n",
        "\n",
        "Diagnosis_Tag_name = \"Test Diagnosis Generation\" # @param {type:\"string\"}\n",
        "Description = \"Generate new diagnosis based on a group of graders: \"+str(grader_list)\n",
        "synonyms = [] # @param\n"
      ],
      "metadata": {
        "id": "F-WtiyLWgHHl"
      },
      "execution_count": 4,
      "outputs": []
    },
    {
      "cell_type": "code",
      "source": [
        "from ml_utils import EyeAI\n",
        "EA = EyeAI(hostname = 'dev.eye-ai.org', catalog_number = 'eye-ai')"
      ],
      "metadata": {
        "id": "szzQ3ItUb2il"
      },
      "execution_count": 5,
      "outputs": []
    },
    {
      "cell_type": "code",
      "source": [
        "# @title Define generation rule\n",
        "def CDR_rule(values):\n",
        "    return values.mean()\n",
        "\n",
        "def Diag_rule(values):\n",
        "    # Use the mode function to get the most frequent diagnosis value\n",
        "    mode_diagnosis = values.mode()\n",
        "\n",
        "    # If there are multiple modes, take the first one\n",
        "    if not mode_diagnosis.empty:\n",
        "        return mode_diagnosis.iloc[0]\n",
        "    else:\n",
        "        # Handle the case where there is no mode (e.g., all values are unique)\n",
        "        return 'suspect/Not'\n",
        "\n",
        "def ImageQuality_rule(values):\n",
        "    mode_quality = values.mode()\n",
        "    if not mode_quality.empty:\n",
        "        return mode_quality.iloc[0]\n",
        "    else:\n",
        "        return \"Good/Bad\""
      ],
      "metadata": {
        "id": "TiGtTYw5cyyQ"
      },
      "execution_count": 6,
      "outputs": []
    },
    {
      "cell_type": "code",
      "source": [
        "# @title Extract the diagnosis in the catalog and generate new Diagnosis\n",
        "all_diag = EA.image_tall(dataset_rid, diagnosis_tag_rid)\n",
        "result = EA.generate_Diagnosis(all_diag[all_diag[\"Full_Name\"].isin(grader_list)], Diag_rule, CDR_rule, ImageQuality_rule)"
      ],
      "metadata": {
        "id": "JtoHFwVscdLQ"
      },
      "execution_count": 7,
      "outputs": []
    },
    {
      "cell_type": "code",
      "source": [
        "# @title Insert New Process_Tag, Proecess, and Diagnosis_Tag\n",
        "new_process_tag_RID = EA.insert_new_process(table_name='Process_Tag', name=process_tag_name, description=grader_list, synonyms=[], exist_ok=False)\n",
        "Process_RID = EA.insert_new_process(Metadata, Github_URL, new_process_tag_RID, Description, Github_Checksum)\n",
        "\n",
        "new_diag_tag_RID = EA.insert_new_tag('Diagnosis_Tag', Diagnosis_Tag_name, Description, exist_ok=False)\n"
      ],
      "metadata": {
        "id": "8jTE1iy9c19R"
      },
      "execution_count": 9,
      "outputs": []
    },
    {
      "cell_type": "code",
      "source": [
        "entities = EA.insert_new_diag(result[:5], new_diag_tag_RID, Process_RID)"
      ],
      "metadata": {
        "colab": {
          "base_uri": "https://localhost:8080/"
        },
        "id": "nwwG4pVSehMc",
        "outputId": "ccbee1a4-6c58-4b99-e3ed-c31287ac8d0d"
      },
      "execution_count": null,
      "outputs": [
        {
          "output_type": "stream",
          "name": "stdout",
          "text": [
            "0 1\n",
            "1 2\n",
            "2 3\n",
            "3 4\n",
            "4 5\n"
          ]
        }
      ]
    },
    {
      "cell_type": "code",
      "source": [],
      "metadata": {
        "id": "EnxnXvtKeuD0"
      },
      "execution_count": null,
      "outputs": []
    }
  ],
  "metadata": {
    "colab": {
      "provenance": [],
      "include_colab_link": true
    },
    "kernelspec": {
      "display_name": "Python 3",
      "name": "python3"
    },
    "language_info": {
      "name": "python"
    }
  },
  "nbformat": 4,
  "nbformat_minor": 0
}