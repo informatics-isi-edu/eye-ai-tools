{
  "cells": [
    {
      "cell_type": "markdown",
      "metadata": {
        "id": "view-in-github",
        "colab_type": "text"
      },
      "source": [
        "<a href=\"https://colab.research.google.com/github/informatics-isi-edu/eye-ai-tools/blob/main/notebooks/AccessDiagnosis.ipynb\" target=\"_parent\"><img src=\"https://colab.research.google.com/assets/colab-badge.svg\" alt=\"Open In Colab\"/></a>"
      ]
    },
    {
      "cell_type": "code",
      "execution_count": null,
      "metadata": {
        "id": "QxhaFfawhfE2"
      },
      "outputs": [],
      "source": [
        "# Prerequisites\n",
        "!pip install git+https://github.com/fair-research/bdbag\n",
        "!pip install deriva\n",
        "!pip install 'git+https://github.com/informatics-isi-edu/eye-ai-tools.git'\n"
      ]
    },
    {
      "cell_type": "code",
      "execution_count": null,
      "metadata": {
        "id": "mVLFcQpzhi_0"
      },
      "outputs": [],
      "source": [
        "# login to DERIVA via Globus Auth\n",
        "host = 'www.eye-ai.org' #@param {type:\"string\"}\n",
        "!deriva-globus-auth-utils login --no-browser --host {host}"
      ]
    },
    {
      "cell_type": "markdown",
      "metadata": {
        "id": "kiBJIR0E7XUE"
      },
      "source": [
        "Make a connection to the Eye AI catalog and get a reference to the main schema: eye-ai"
      ]
    },
    {
      "cell_type": "code",
      "execution_count": null,
      "metadata": {
        "id": "b1Gs4lGihs4U"
      },
      "outputs": [],
      "source": [
        "import pandas as pd\n",
        "import ml_utils\n",
        "from deriva.core import ErmrestCatalog, get_credential\n",
        "protocol = 'https'\n",
        "catalog_number = 'eye-ai'\n",
        "credential = get_credential(host)\n",
        "catalog = ErmrestCatalog(protocol, host, catalog_number, credential)\n",
        "\n",
        "# Get the path builder interface for this catalog\n",
        "pb = catalog.getPathBuilder()\n",
        "eye_ai = pb.schemas['eye-ai']\n"
      ]
    },
    {
      "cell_type": "code",
      "execution_count": null,
      "metadata": {
        "id": "640-Y94PbaSd"
      },
      "outputs": [],
      "source": [
        "def find_latest_observation(df: pd.DataFrame):\n",
        "  latest_encounters = {}\n",
        "  for index, row in df.iterrows():\n",
        "    subject_rid = row['Subject_RID']\n",
        "    date_of_encounter = row['Date_of_Encounter']\n",
        "    if subject_rid not in latest_encounters or date_of_encounter > latest_encounters[subject_rid]:\n",
        "      latest_encounters[subject_rid] = date_of_encounter\n",
        "  for index, row in df.iterrows():\n",
        "    if row['Date_of_Encounter'] != latest_encounters[row['Subject_RID']]:\n",
        "      df.drop(index, inplace=True)\n",
        "  df = df[['RID', 'RCB', 'Image',\t'Diagnosis_Vocab',\t'Cup/Disk_Ratio',\t'Image_Quality_Vocab']]\n",
        "  return df\n",
        "\n",
        "def image_tall(dataset_rid: str, diagnosis_tag_rid: str):\n",
        "  # Get references to tables to start path.\n",
        "  subject_dataset = eye_ai.Subject_Dataset\n",
        "  subject = eye_ai.Subject\n",
        "  image = eye_ai.Image\n",
        "  observation = eye_ai.Observation\n",
        "  path = subject_dataset.path\n",
        "\n",
        "  results = path.filter(subject_dataset.Dataset == dataset_rid)\\\n",
        "    .link(subject, on=subject_dataset.Subject==subject.RID)\\\n",
        "    .link(observation, on=subject.RID==observation.Subject)\\\n",
        "    .link(image, on=observation.RID==image.Observation)\\\n",
        "    .filter(image.Image_Angle_Vocab == angle_two_rid)\\\n",
        "    .link(diagnosis, on=image.RID==diagnosis.Image)\\\n",
        "    .filter(diagnosis.Diagnosis_Tag==diagnosis_tag_rid)\n",
        "\n",
        "  results = results.attributes(\n",
        "            results.Subject.RID.alias(\"Subject_RID\"),\n",
        "            results.Observation.Date_of_Encounter,\n",
        "            results.Diagnosis.RID,\n",
        "            results.Diagnosis.RCB,\n",
        "            results.Diagnosis.Image,\n",
        "            results.Diagnosis.Diagnosis_Vocab,\n",
        "            results.Diagnosis.column_definitions['Cup/Disk_Ratio'],\n",
        "            results.Diagnosis.Image_Quality_Vocab\n",
        "            )\n",
        "  image_frame = pd.DataFrame(results.fetch())\n",
        "\n",
        "  # # Select only the first observation which included in the grading app.\n",
        "  image_frame = find_latest_observation(image_frame)\n",
        "\n",
        "  # Show grader name\n",
        "  users = pb.schemas['public']\n",
        "  EC = users.ERMrest_Client\n",
        "  path = EC.path\n",
        "  User = pd.DataFrame(path.entities().fetch())[['ID', 'Full_Name']]\n",
        "  # image_frame = pd.merge(image_frame, User, how=\"left\", left_on='RCB', right_on='ID' )[['RID', 'Full_Name',\t'Image',\t'Diagnosis_Vocab',\t'Cup/Disk_Ratio',\t'Image_Quality_Vocab']]\n",
        "  image_frame = pd.merge(image_frame, User, how=\"left\", left_on='RCB', right_on='ID' )\n",
        "\n",
        "\n",
        "  # Now flatten out Diagnosis_Vocab and Image_quality_Vocab\n",
        "  diagnosis_vocab = pd.DataFrame(eye_ai.Diagnosis_Image_Vocab.entities().fetch())[['RID', \"Name\"]]\n",
        "  diagnosis_vocab.columns=['Diagnosis_Vocab', 'Diagnosis']\n",
        "  image_quality_vocab = pd.DataFrame(eye_ai.Image_Quality_Vocab.entities().fetch())[['RID', \"Name\"]]\n",
        "  image_quality_vocab.columns=['Image_Quality_Vocab', 'Image_Quality']\n",
        "\n",
        "  image_frame = pd.merge(image_frame, diagnosis_vocab, how=\"left\", on='Diagnosis_Vocab')\n",
        "  image_frame = pd.merge(image_frame, image_quality_vocab, how=\"left\", on='Image_Quality_Vocab')\n",
        "\n",
        "  if diagnosis_tag_rid == initial_diagnosis_rid:\n",
        "    image_frame['Full_Name'] = 'Initial Diagnosis'\n",
        "  return image_frame[['RID', 'Full_Name',\t'Image',\t'Diagnosis',\t'Cup/Disk_Ratio',\t'Image_Quality']]\n",
        "\n",
        "def Reshape_table(init_diag, grader_diag):\n",
        "  frames = [grader_diag, init_diag]\n",
        "  long = pd.concat(frames)\n",
        "  wide = pd.pivot(long, index='Image', columns = 'Full_Name', values = 'Diagnosis') #Reshape from long to wide\n",
        "  return long, wide"
      ]
    },
    {
      "cell_type": "code",
      "execution_count": null,
      "metadata": {
        "id": "BVHFGaL0iigj"
      },
      "outputs": [],
      "source": [
        "# @title Dataset Tags\n",
        "\n",
        "pd.DataFrame(eye_ai.Dataset.path.attributes(eye_ai.Dataset.RID, eye_ai.Dataset.Description))"
      ]
    },
    {
      "cell_type": "code",
      "execution_count": null,
      "metadata": {
        "id": "q93PWW2a9eHI"
      },
      "outputs": [],
      "source": [
        "# @title Diagnosis Tags\n",
        "pd.DataFrame(eye_ai.Diagnosis_Tag.path.attributes(\n",
        "    eye_ai.Diagnosis_Tag.RID,\n",
        "    eye_ai.Diagnosis_Tag.Name,\n",
        "    eye_ai.Diagnosis_Tag.Description))\n"
      ]
    },
    {
      "cell_type": "code",
      "execution_count": null,
      "metadata": {
        "id": "7vyUQWbIA79J"
      },
      "outputs": [],
      "source": [
        "# @title Configure\n",
        "diagnosis = eye_ai.Diagnosis  # All of the diagnosis in the catalog\n",
        "dataset_rid = \"2-277M\" # @param {type:\"string\"}\n",
        "diagnosis_rid = \"2-35RM\" # @param {type:\"string\"}\n",
        "initial_diagnosis_rid = \"C1T4\"\n",
        "angle_two_rid = '2SK6'\n",
        "\n",
        "dataset = eye_ai.Dataset\n",
        "ds = dataset.path.filter(dataset.RID==dataset_rid).attributes(dataset.RID, dataset.Description).fetch()[0]\n",
        "print(f\"Dataset tag (RID:{dataset_rid}):\\n\\tdescription: {ds['Description']}\")\n",
        "\n",
        "diagnosis_tag = eye_ai.Diagnosis_Tag\n",
        "diagnosis_info = diagnosis_tag.path.filter(diagnosis_tag.RID==diagnosis_rid).attributes(diagnosis_tag.RID, diagnosis_tag.Name, diagnosis_tag.Description).fetch()[0]\n",
        "print(f\"Diagnosis tag (RID:{diagnosis_rid}):\\n\\tname {diagnosis_info['Name']} \\n\\tdescription: {diagnosis_info['Description']}\")\n"
      ]
    },
    {
      "cell_type": "code",
      "execution_count": null,
      "metadata": {
        "id": "hCdLnrCH9UJs"
      },
      "outputs": [],
      "source": [
        "# @title Example of Graded Test Dataset\n",
        "\n",
        "Graded_test_initial_diag = image_tall(dataset_rid, initial_diagnosis_rid)\n",
        "Graded_test_grader_diag = image_tall(dataset_rid, diagnosis_rid)\n",
        "long, wide = Reshape_table(Graded_test_initial_diag, Graded_test_grader_diag)\n",
        "\n",
        "long.to_csv(\"GradedTest_diag_long.csv\")\n",
        "wide.to_csv(\"GradedTest_diag_wide.csv\")"
      ]
    }
  ],
  "metadata": {
    "colab": {
      "provenance": [],
      "include_colab_link": true
    },
    "kernelspec": {
      "display_name": "Python 3",
      "name": "python3"
    },
    "language_info": {
      "name": "python"
    }
  },
  "nbformat": 4,
  "nbformat_minor": 0
}