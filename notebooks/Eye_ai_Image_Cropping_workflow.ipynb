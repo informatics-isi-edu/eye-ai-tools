{
  "cells": [
    {
      "cell_type": "markdown",
      "metadata": {
        "id": "view-in-github",
        "colab_type": "text"
      },
      "source": [
        "<a href=\"https://colab.research.google.com/github/informatics-isi-edu/eye-ai-tools/blob/main/notebooks/Eye_ai_Image_Cropping_workflow.ipynb\" target=\"_parent\"><img src=\"https://colab.research.google.com/assets/colab-badge.svg\" alt=\"Open In Colab\"/></a>"
      ]
    },
    {
      "cell_type": "code",
      "execution_count": null,
      "metadata": {
        "id": "qBNfD8vlKgev"
      },
      "outputs": [],
      "source": [
        "# Prerequisites\n",
        "!pip install --upgrade --force pydantic git+https://github.com/fair-research/bdbag git+https://github.com/informatics-isi-edu/deriva-py git+https://github.com/informatics-isi-edu/eye-ai-tools git+https://github.com/informatics-isi-edu/deriva-ml git+https://github.com/informatics-isi-edu/eye-ai-ml\n",
        "import json\n",
        "import os\n",
        "from eye_ai import EyeAI\n",
        "import pandas as pd\n",
        "from pathlib import Path, PurePath\n"
      ]
    },
    {
      "cell_type": "code",
      "execution_count": null,
      "metadata": {
        "id": "qw-bW4bORlqQ"
      },
      "outputs": [],
      "source": [
        "# @title login to DERIVA via Globus Auth\n",
        "\n",
        "DEBUG_MODE = True #@param [\"False\", \"True\"] {type:\"raw\"}\n",
        "catalog_id = \"eye-ai\" #@param\n",
        "DEFAULT_SERVER = 'dev.eye-ai.org' if DEBUG_MODE else 'www.eye-ai.org'\n",
        "\n",
        "!deriva-globus-auth-utils login --no-browser --host {DEFAULT_SERVER}\n"
      ]
    },
    {
      "cell_type": "code",
      "source": [
        "EA = EyeAI(hostname = DEFAULT_SERVER, catalog_id = catalog_id )"
      ],
      "metadata": {
        "id": "A1Cg1lLQiSk4"
      },
      "execution_count": null,
      "outputs": []
    },
    {
      "cell_type": "code",
      "execution_count": null,
      "metadata": {
        "id": "kCIfOvbUXTGB"
      },
      "outputs": [],
      "source": [
        "# @title Initiate an Execution\n",
        "configuration_records = EA.execution_init(configuration_rid=\"2-5PXA\")\n",
        "configuration_records\n"
      ]
    },
    {
      "cell_type": "code",
      "execution_count": null,
      "metadata": {
        "id": "iUuTRgyg7Ys1"
      },
      "outputs": [],
      "source": [
        "# @title Data Preprocessing (Filtering Image.csv for just Field_2 Images)\n",
        "# Selecting image of angle 2 (Field 2) -- Image angle vocab 2SK6;\n",
        "bag_path1 = configuration_records['bag_paths'][0]\n",
        "Dataset_Path = PurePath(bag_path1, 'data/Image.csv')\n",
        "Dataset = pd.read_csv(Dataset_Path)\n",
        "\n",
        "Dataset_Field_2 = Dataset[Dataset['Image_Angle_Vocab'] == \"2SK6\"]\n",
        "\n",
        "# Dataset_Field_2.head()\n",
        "# for sanity check compare the filtered data length with just taking Filename column and filtering it with the same condition where it has Field 2 in it as a substring.\n",
        "\n",
        "print(len(Dataset_Field_2))\n",
        "print(len(Dataset[Dataset['Filename'].str.contains(\"Field 2\")]))\n",
        "\n",
        "file2_csv_path = PurePath(bag_path1, 'Field_2.csv')\n",
        "Dataset_Field_2.to_csv(file2_csv_path, index=False)"
      ]
    },
    {
      "cell_type": "code",
      "source": [
        "# @title Execute workflow algorithm (Cropping)\n",
        "from eye_ai_ml.glaucoma.optic_disk_crop import preprocess_and_crop\n",
        "cm = EA.start_execution(execution_rid=configuration_records['execution'])\n",
        "with cm as exec:\n",
        "  preprocess_and_crop(\n",
        "      bag_path1+\"/data/assets/Image/\",\n",
        "      file2_csv_path,\n",
        "      './output.csv',\n",
        "      'template.jpg',\n",
        "      './',\n",
        "      './'+configuration_records['model_paths'][0],\n",
        "      configuration_records['Annotation_Type'][0][\"RID\"],\n",
        "      configuration_records['Annotation_Type'][0][\"name\"],\n",
        "      False\n",
        "      )"
      ],
      "metadata": {
        "id": "YIJj6Uj73sOm"
      },
      "execution_count": null,
      "outputs": []
    },
    {
      "cell_type": "code",
      "source": [
        "# @title Insert metadata into image_annotation\n",
        "annot_metadata = pd.read_csv('output.csv')\n",
        "EA.insert_image_annotation(cm.uploded_assets['Execution_Assets/Image_Annotation'], annot_metadata)"
      ],
      "metadata": {
        "id": "OKTMtNr24Za8"
      },
      "execution_count": null,
      "outputs": []
    },
    {
      "cell_type": "code",
      "source": [],
      "metadata": {
        "id": "Bbcv8XQLRxCY"
      },
      "execution_count": null,
      "outputs": []
    }
  ],
  "metadata": {
    "colab": {
      "provenance": [],
      "include_colab_link": true
    },
    "kernelspec": {
      "display_name": "Python 3",
      "name": "python3"
    },
    "language_info": {
      "name": "python"
    }
  },
  "nbformat": 4,
  "nbformat_minor": 0
}