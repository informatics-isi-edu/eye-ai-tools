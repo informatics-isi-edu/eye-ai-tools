{
  "cells": [
    {
      "cell_type": "markdown",
      "metadata": {
        "id": "view-in-github",
        "colab_type": "text"
      },
      "source": [
        "<a href=\"https://colab.research.google.com/github/informatics-isi-edu/eye-ai-tools/blob/main/notebooks/Eye_ai_Image_Cropping_workflow.ipynb\" target=\"_parent\"><img src=\"https://colab.research.google.com/assets/colab-badge.svg\" alt=\"Open In Colab\"/></a>"
      ]
    },
    {
      "cell_type": "code",
      "execution_count": 1,
      "metadata": {
        "colab": {
          "base_uri": "https://localhost:8080/"
        },
        "id": "qBNfD8vlKgev",
        "outputId": "4927f699-27a5-4d0e-dbf5-1ad71273b257"
      },
      "outputs": [
        {
          "output_type": "stream",
          "name": "stdout",
          "text": [
            "Collecting git+https://github.com/fair-research/bdbag\n",
            "  Cloning https://github.com/fair-research/bdbag to /tmp/pip-req-build-q1jyluo2\n",
            "  Running command git clone --filter=blob:none --quiet https://github.com/fair-research/bdbag /tmp/pip-req-build-q1jyluo2\n",
            "  Resolved https://github.com/fair-research/bdbag to commit f8d81362ceaff7a0328dd89257655cfcb3f7d111\n",
            "  Preparing metadata (setup.py) ... \u001b[?25l\u001b[?25hdone\n",
            "Requirement already satisfied: pytz in /usr/local/lib/python3.10/dist-packages (from bdbag==1.7.2) (2023.3.post1)\n",
            "Requirement already satisfied: tzlocal in /usr/local/lib/python3.10/dist-packages (from bdbag==1.7.2) (5.2)\n",
            "Requirement already satisfied: certifi in /usr/local/lib/python3.10/dist-packages (from bdbag==1.7.2) (2023.11.17)\n",
            "Requirement already satisfied: packaging in /usr/local/lib/python3.10/dist-packages (from bdbag==1.7.2) (23.2)\n",
            "Requirement already satisfied: requests>=2.7.0 in /usr/local/lib/python3.10/dist-packages (from bdbag==1.7.2) (2.31.0)\n",
            "Collecting setuptools_scm<6.0 (from bdbag==1.7.2)\n",
            "  Downloading setuptools_scm-5.0.2-py2.py3-none-any.whl (29 kB)\n",
            "Collecting bagit==1.8.1 (from bdbag==1.7.2)\n",
            "  Downloading bagit-1.8.1-py2.py3-none-any.whl (35 kB)\n",
            "Collecting bagit-profile==1.3.1 (from bdbag==1.7.2)\n",
            "  Downloading bagit_profile-1.3.1-py3-none-any.whl (14 kB)\n",
            "Requirement already satisfied: charset-normalizer<4,>=2 in /usr/local/lib/python3.10/dist-packages (from requests>=2.7.0->bdbag==1.7.2) (3.3.2)\n",
            "Requirement already satisfied: idna<4,>=2.5 in /usr/local/lib/python3.10/dist-packages (from requests>=2.7.0->bdbag==1.7.2) (3.6)\n",
            "Requirement already satisfied: urllib3<3,>=1.21.1 in /usr/local/lib/python3.10/dist-packages (from requests>=2.7.0->bdbag==1.7.2) (2.0.7)\n",
            "Requirement already satisfied: setuptools in /usr/local/lib/python3.10/dist-packages (from setuptools_scm<6.0->bdbag==1.7.2) (67.7.2)\n",
            "Building wheels for collected packages: bdbag\n",
            "  Building wheel for bdbag (setup.py) ... \u001b[?25l\u001b[?25hdone\n",
            "  Created wheel for bdbag: filename=bdbag-1.7.2-py2.py3-none-any.whl size=74828 sha256=c1251651087930353845a3bdc9cfce55dc758a63840e8f09acaa17a659e3289f\n",
            "  Stored in directory: /tmp/pip-ephem-wheel-cache-0l7g6ox4/wheels/e6/37/a1/ed335483cf88440ed32b8f918cc20fa31b2ee2c81dd9504f7a\n",
            "Successfully built bdbag\n",
            "Installing collected packages: bagit, setuptools_scm, bagit-profile, bdbag\n",
            "Successfully installed bagit-1.8.1 bagit-profile-1.3.1 bdbag-1.7.2 setuptools_scm-5.0.2\n",
            "Collecting git+https://github.com/informatics-isi-edu/deriva-py\n",
            "  Cloning https://github.com/informatics-isi-edu/deriva-py to /tmp/pip-req-build-82qqtthm\n",
            "  Running command git clone --filter=blob:none --quiet https://github.com/informatics-isi-edu/deriva-py /tmp/pip-req-build-82qqtthm\n",
            "  Resolved https://github.com/informatics-isi-edu/deriva-py to commit 3dda9d8bda15f00434263d3509ef33895fdbdfd5\n",
            "  Preparing metadata (setup.py) ... \u001b[?25l\u001b[?25hdone\n",
            "Requirement already satisfied: setuptools>=20.2 in /usr/local/lib/python3.10/dist-packages (from deriva==1.6.4) (67.7.2)\n",
            "Requirement already satisfied: packaging in /usr/local/lib/python3.10/dist-packages (from deriva==1.6.4) (23.2)\n",
            "Requirement already satisfied: requests in /usr/local/lib/python3.10/dist-packages (from deriva==1.6.4) (2.31.0)\n",
            "Requirement already satisfied: certifi in /usr/local/lib/python3.10/dist-packages (from deriva==1.6.4) (2023.11.17)\n",
            "Collecting pika (from deriva==1.6.4)\n",
            "  Downloading pika-1.3.2-py3-none-any.whl (155 kB)\n",
            "\u001b[2K     \u001b[90m━━━━━━━━━━━━━━━━━━━━━━━━━━━━━━━━━━━━━━━━\u001b[0m \u001b[32m155.4/155.4 kB\u001b[0m \u001b[31m3.1 MB/s\u001b[0m eta \u001b[36m0:00:00\u001b[0m\n",
            "\u001b[?25hCollecting urllib3<2.0,>=1.26.0 (from deriva==1.6.4)\n",
            "  Downloading urllib3-1.26.18-py2.py3-none-any.whl (143 kB)\n",
            "\u001b[2K     \u001b[90m━━━━━━━━━━━━━━━━━━━━━━━━━━━━━━━━━━━━━━━━\u001b[0m \u001b[32m143.8/143.8 kB\u001b[0m \u001b[31m6.5 MB/s\u001b[0m eta \u001b[36m0:00:00\u001b[0m\n",
            "\u001b[?25hCollecting portalocker>=1.2.1 (from deriva==1.6.4)\n",
            "  Downloading portalocker-2.8.2-py3-none-any.whl (17 kB)\n",
            "Requirement already satisfied: bdbag>=1.6.0 in /usr/local/lib/python3.10/dist-packages (from deriva==1.6.4) (1.7.2)\n",
            "Collecting globus_sdk<4,>=3 (from deriva==1.6.4)\n",
            "  Downloading globus_sdk-3.35.0-py3-none-any.whl (292 kB)\n",
            "\u001b[2K     \u001b[90m━━━━━━━━━━━━━━━━━━━━━━━━━━━━━━━━━━━━━━━━\u001b[0m \u001b[32m292.4/292.4 kB\u001b[0m \u001b[31m7.6 MB/s\u001b[0m eta \u001b[36m0:00:00\u001b[0m\n",
            "\u001b[?25hCollecting fair-research-login>=0.2.6 (from deriva==1.6.4)\n",
            "  Downloading fair_research_login-0.3.1-py3-none-any.whl (39 kB)\n",
            "Collecting fair-identifiers-client>=0.5 (from deriva==1.6.4)\n",
            "  Downloading fair_identifiers_client-0.5.1-py3-none-any.whl (45 kB)\n",
            "\u001b[2K     \u001b[90m━━━━━━━━━━━━━━━━━━━━━━━━━━━━━━━━━━━━━━━━\u001b[0m \u001b[32m45.7/45.7 kB\u001b[0m \u001b[31m3.4 MB/s\u001b[0m eta \u001b[36m0:00:00\u001b[0m\n",
            "\u001b[?25hRequirement already satisfied: jsonschema>=3.1 in /usr/local/lib/python3.10/dist-packages (from deriva==1.6.4) (4.19.2)\n",
            "Requirement already satisfied: pytz in /usr/local/lib/python3.10/dist-packages (from bdbag>=1.6.0->deriva==1.6.4) (2023.3.post1)\n",
            "Requirement already satisfied: tzlocal in /usr/local/lib/python3.10/dist-packages (from bdbag>=1.6.0->deriva==1.6.4) (5.2)\n",
            "Requirement already satisfied: setuptools-scm<6.0 in /usr/local/lib/python3.10/dist-packages (from bdbag>=1.6.0->deriva==1.6.4) (5.0.2)\n",
            "Requirement already satisfied: bagit==1.8.1 in /usr/local/lib/python3.10/dist-packages (from bdbag>=1.6.0->deriva==1.6.4) (1.8.1)\n",
            "Requirement already satisfied: bagit-profile==1.3.1 in /usr/local/lib/python3.10/dist-packages (from bdbag>=1.6.0->deriva==1.6.4) (1.3.1)\n",
            "Requirement already satisfied: six<2.0.0,>=1.10.0 in /usr/local/lib/python3.10/dist-packages (from fair-identifiers-client>=0.5->deriva==1.6.4) (1.16.0)\n",
            "Requirement already satisfied: pyjwt[crypto]<3.0.0,>=2.0.0 in /usr/lib/python3/dist-packages (from globus_sdk<4,>=3->deriva==1.6.4) (2.3.0)\n",
            "Requirement already satisfied: cryptography!=3.4.0,>=3.3.1 in /usr/local/lib/python3.10/dist-packages (from globus_sdk<4,>=3->deriva==1.6.4) (42.0.1)\n",
            "Requirement already satisfied: attrs>=22.2.0 in /usr/local/lib/python3.10/dist-packages (from jsonschema>=3.1->deriva==1.6.4) (23.2.0)\n",
            "Requirement already satisfied: jsonschema-specifications>=2023.03.6 in /usr/local/lib/python3.10/dist-packages (from jsonschema>=3.1->deriva==1.6.4) (2023.12.1)\n",
            "Requirement already satisfied: referencing>=0.28.4 in /usr/local/lib/python3.10/dist-packages (from jsonschema>=3.1->deriva==1.6.4) (0.32.1)\n",
            "Requirement already satisfied: rpds-py>=0.7.1 in /usr/local/lib/python3.10/dist-packages (from jsonschema>=3.1->deriva==1.6.4) (0.17.1)\n",
            "Requirement already satisfied: charset-normalizer<4,>=2 in /usr/local/lib/python3.10/dist-packages (from requests->deriva==1.6.4) (3.3.2)\n",
            "Requirement already satisfied: idna<4,>=2.5 in /usr/local/lib/python3.10/dist-packages (from requests->deriva==1.6.4) (3.6)\n",
            "Requirement already satisfied: cffi>=1.12 in /usr/local/lib/python3.10/dist-packages (from cryptography!=3.4.0,>=3.3.1->globus_sdk<4,>=3->deriva==1.6.4) (1.16.0)\n",
            "Requirement already satisfied: pycparser in /usr/local/lib/python3.10/dist-packages (from cffi>=1.12->cryptography!=3.4.0,>=3.3.1->globus_sdk<4,>=3->deriva==1.6.4) (2.21)\n",
            "Building wheels for collected packages: deriva\n",
            "  Building wheel for deriva (setup.py) ... \u001b[?25l\u001b[?25hdone\n",
            "  Created wheel for deriva: filename=deriva-1.6.4-py2.py3-none-any.whl size=212102 sha256=cbaf17a5963fdec7b7a7d570c117cf7cfefa90d7572e9fe62e2a031c2fdd46e6\n",
            "  Stored in directory: /tmp/pip-ephem-wheel-cache-qqwtwbnz/wheels/f5/4a/e4/12bf545b4525249722e860b95e934babd35df222684152f80d\n",
            "Successfully built deriva\n",
            "Installing collected packages: urllib3, portalocker, pika, globus_sdk, fair-research-login, fair-identifiers-client, deriva\n",
            "  Attempting uninstall: urllib3\n",
            "    Found existing installation: urllib3 2.0.7\n",
            "    Uninstalling urllib3-2.0.7:\n",
            "      Successfully uninstalled urllib3-2.0.7\n",
            "Successfully installed deriva-1.6.4 fair-identifiers-client-0.5.1 fair-research-login-0.3.1 globus_sdk-3.35.0 pika-1.3.2 portalocker-2.8.2 urllib3-1.26.18\n",
            "Collecting git+https://github.com/informatics-isi-edu/eye-ai-tools\n",
            "  Cloning https://github.com/informatics-isi-edu/eye-ai-tools to /tmp/pip-req-build-bgre5o04\n",
            "  Running command git clone --filter=blob:none --quiet https://github.com/informatics-isi-edu/eye-ai-tools /tmp/pip-req-build-bgre5o04\n",
            "  Resolved https://github.com/informatics-isi-edu/eye-ai-tools to commit fdfe274df767a61c94e1a0bc9d7b2f4f7f456515\n",
            "  Installing build dependencies ... \u001b[?25l\u001b[?25hdone\n",
            "  Getting requirements to build wheel ... \u001b[?25l\u001b[?25hdone\n",
            "  Preparing metadata (pyproject.toml) ... \u001b[?25l\u001b[?25hdone\n",
            "Building wheels for collected packages: eye-ai\n",
            "  Building wheel for eye-ai (pyproject.toml) ... \u001b[?25l\u001b[?25hdone\n",
            "  Created wheel for eye-ai: filename=eye_ai-0.0.1-py3-none-any.whl size=8790 sha256=487d2f17f5dcb1d5f5e38fc26b3240ed892c6a665530e34d105032581f2a4668\n",
            "  Stored in directory: /tmp/pip-ephem-wheel-cache-sgzgc1z4/wheels/b8/3d/ee/56cb93f0a37d21370f4ad75a02619f63503d0ba0c6987ccf30\n",
            "Successfully built eye-ai\n",
            "Installing collected packages: eye-ai\n",
            "Successfully installed eye-ai-0.0.1\n",
            "Collecting git+https://github.com/informatics-isi-edu/deriva-ml\n",
            "  Cloning https://github.com/informatics-isi-edu/deriva-ml to /tmp/pip-req-build-ho6yc7ih\n",
            "  Running command git clone --filter=blob:none --quiet https://github.com/informatics-isi-edu/deriva-ml /tmp/pip-req-build-ho6yc7ih\n",
            "  Resolved https://github.com/informatics-isi-edu/deriva-ml to commit feacac67a4a932cdad1ecb80e7ceae4759a7a12c\n",
            "  Installing build dependencies ... \u001b[?25l\u001b[?25hdone\n",
            "  Getting requirements to build wheel ... \u001b[?25l\u001b[?25hdone\n",
            "  Preparing metadata (pyproject.toml) ... \u001b[?25l\u001b[?25hdone\n",
            "Building wheels for collected packages: deriva-ml\n",
            "  Building wheel for deriva-ml (pyproject.toml) ... \u001b[?25l\u001b[?25hdone\n",
            "  Created wheel for deriva-ml: filename=deriva_ml-0.0.1-py3-none-any.whl size=12592 sha256=67bed1eabf98e135f8658516f52c23a12453b383772d6a3d4dbfbbe98d0f56a0\n",
            "  Stored in directory: /tmp/pip-ephem-wheel-cache-r7ils3b6/wheels/5e/44/fc/69aec1f5d3789673392eb399c637044c66aa264ce8ec4b43a7\n",
            "Successfully built deriva-ml\n",
            "Installing collected packages: deriva-ml\n",
            "Successfully installed deriva-ml-0.0.1\n"
          ]
        }
      ],
      "source": [
        "# Prerequisites\n",
        "!pip install git+https://github.com/fair-research/bdbag\n",
        "!pip install git+https://github.com/informatics-isi-edu/deriva-py\n",
        "!pip install 'git+https://github.com/informatics-isi-edu/eye-ai-tools' --upgrade --force\n",
        "!pip install 'git+https://github.com/informatics-isi-edu/deriva-ml' --upgrade --force\n",
        "\n",
        "import json\n",
        "import os\n",
        "from eye_ai import EyeAI\n",
        "import pandas as pd\n",
        "from pathlib import Path, PurePosixPath\n",
        "\n"
      ]
    },
    {
      "cell_type": "code",
      "execution_count": 2,
      "metadata": {
        "id": "qw-bW4bORlqQ",
        "colab": {
          "base_uri": "https://localhost:8080/"
        },
        "outputId": "c72b51cd-d0ff-4e92-cb85-e35ae346a646"
      },
      "outputs": [
        {
          "output_type": "stream",
          "name": "stdout",
          "text": [
            "2024-02-01 17:25:47,527 - INFO - No default configuration file found, attempting to create one at: /root/.deriva/config.json\n",
            "2024-02-01 17:25:48,172 - INFO - NoSavedTokens: No tokens were loaded\n",
            "Please paste the following URL in a browser:\n",
            "https://auth.globus.org/v2/oauth2/authorize?client_id=8ef15ba9-2b4a-469c-a163-7fd910c9d111&redirect_uri=https%3A%2F%2Fauth.globus.org%2Fv2%2Fweb%2Fauth-code&scope=https%3A%2F%2Fauth.globus.org%2Fscopes%2Fdev.eye-ai.org%2Fderiva_all+openid+urn%3Aglobus%3Aauth%3Ascope%3Agroups.api.globus.org%3Aview_my_groups_and_memberships&state=_default&response_type=code&code_challenge=IJssgQ4lnOzvp6UBy6cEK8u_7x7lIDU-fxBkRPmU_pk&code_challenge_method=S256&access_type=online&prefill_named_grant=Login+from+deriva-client+on+0a21adc9365d+%5BLinux-6.1.58%2B-x86_64-with-glibc2.35%5D+to+hosts+%5Bdev.eye-ai.org%5D+with+requested+scopes+%5Bhttps%3A%2F%2Fauth.globus.org%2Fscopes%2Fdev.eye-ai.org%2Fderiva_all%2C+openid%2C+urn%3Aglobus%3Aauth%3Ascope%3Agroups.api.globus.org%3Aview_my_groups_and_memberships%5D+\n",
            "Please Paste your Auth Code Below: \n",
            "BknwUVx3en7h28JVxsVwPbLvtsqbDS\n",
            "Login Successful\n"
          ]
        }
      ],
      "source": [
        "# @title login to DERIVA via Globus Auth\n",
        "\n",
        "DEBUG_MODE = True # False #@param\n",
        "catalog_id = \"eye-ai\" #@param\n",
        "DEFAULT_SERVER = 'dev.eye-ai.org' if DEBUG_MODE else 'www.eye-ai.org'\n",
        "\n",
        "!deriva-globus-auth-utils login --no-browser --host {DEFAULT_SERVER}\n"
      ]
    },
    {
      "cell_type": "code",
      "source": [
        "EA = EyeAI(hostname = DEFAULT_SERVER, catalog_id = catalog_id )"
      ],
      "metadata": {
        "id": "A1Cg1lLQiSk4"
      },
      "execution_count": 3,
      "outputs": []
    },
    {
      "cell_type": "code",
      "execution_count": 4,
      "metadata": {
        "colab": {
          "base_uri": "https://localhost:8080/"
        },
        "id": "kCIfOvbUXTGB",
        "outputId": "37000afe-4524-48a8-f90e-54d6b543dd1f"
      },
      "outputs": [
        {
          "output_type": "stream",
          "name": "stdout",
          "text": [
            "Configuration validation successful!\n"
          ]
        },
        {
          "output_type": "stream",
          "name": "stderr",
          "text": [
            "2024-02-01 17:30:10,891 - INFO - Wrote configuration file: /root/.bdbag/bdbag.json\n",
            "2024-02-01 17:30:10,895 - INFO - Attempting to resolve http://identifiers.org/minid:oLkKfQWmEfXw into a valid set of URLs.\n",
            "2024-02-01 17:30:12,012 - INFO - The identifier minid:oLkKfQWmEfXw resolved into the following locations: [https://eye-ai-shared.s3.amazonaws.com//6656e08709b2f7c0bbed8284fdfb550d/2024-01-16_17.33.09/Dataset_2-5K2C.zip]\n",
            "2024-02-01 17:30:12,021 - INFO - Attempting GET from URL: https://eye-ai-shared.s3.amazonaws.com//6656e08709b2f7c0bbed8284fdfb550d/2024-01-16_17.33.09/Dataset_2-5K2C.zip\n",
            "2024-02-01 17:30:12,498 - INFO - File [/content/Dataset_2-5K2C.zip] transfer complete. 8.533 KB transferred. Elapsed time: 0:00:00.000382.\n",
            "2024-02-01 17:30:12,503 - INFO - Extracting ZIP archived file: /content/Dataset_2-5K2C.zip\n",
            "2024-02-01 17:30:12,510 - INFO - File /content/Dataset_2-5K2C.zip was successfully extracted to directory /content/Dataset_2-5K2C\n",
            "2024-02-01 17:30:12,525 - INFO - Attempting to resolve remote file references from /content/Dataset_2-5K2C/fetch.txt.\n",
            "2024-02-01 17:30:12,530 - INFO - Attempting GET from URL: https://dev.eye-ai.org/hatrac/images/scans/subject/632534/observation/873477/image/10000839/8b3b3fd980bf7526d4abef9d9b7bb358.jpg\n",
            "2024-02-01 17:30:13,482 - INFO - File [/content/Dataset_2-5K2C/data/assets/Image/632534_873477_10000839_Left Field 1.jpg] transfer complete. 349.472 KB transferred. Elapsed time: 0:00:00.358854.\n",
            "2024-02-01 17:30:13,485 - INFO - Attempting GET from URL: https://dev.eye-ai.org/hatrac/images/scans/subject/632534/observation/873477/image/10000840/0ace778ddb060d634ce69c78bfa1c735.jpg\n",
            "2024-02-01 17:30:13,657 - INFO - File [/content/Dataset_2-5K2C/data/assets/Image/632534_873477_10000840_Right Field 1.jpg] transfer complete. 298.639 KB transferred. Elapsed time: 0:00:00.001001.\n",
            "2024-02-01 17:30:13,659 - INFO - Attempting GET from URL: https://dev.eye-ai.org/hatrac/images/scans/subject/632534/observation/873477/image/10000841/b2a99c6cb454df46d40a5dc53292e701.jpg\n",
            "2024-02-01 17:30:13,841 - INFO - File [/content/Dataset_2-5K2C/data/assets/Image/632534_873477_10000841_Left Field 3.jpg] transfer complete. 298.572 KB transferred. Elapsed time: 0:00:00.001007.\n",
            "2024-02-01 17:30:13,844 - INFO - Attempting GET from URL: https://dev.eye-ai.org/hatrac/images/scans/subject/632534/observation/873477/image/10000842/96eae36a4784e783fd817d7ca7329886.jpg\n",
            "2024-02-01 17:30:14,295 - INFO - File [/content/Dataset_2-5K2C/data/assets/Image/632534_873477_10000842_Left Field 2.jpg] transfer complete. 304.460 KB transferred. Elapsed time: 0:00:00.071628.\n",
            "2024-02-01 17:30:14,298 - INFO - Attempting GET from URL: https://dev.eye-ai.org/hatrac/images/scans/subject/632534/observation/873477/image/10000843/5dbf52454065c5acd554a381a8c94ade.jpg\n",
            "2024-02-01 17:30:14,592 - INFO - File [/content/Dataset_2-5K2C/data/assets/Image/632534_873477_10000843_Right Field 2.jpg] transfer complete. 294.099 KB transferred. Elapsed time: 0:00:00.001081.\n",
            "2024-02-01 17:30:14,595 - INFO - Attempting GET from URL: https://dev.eye-ai.org/hatrac/images/scans/subject/632534/observation/873477/image/10000844/34dddd19f3ae07ac34d9d15a568bfc1f.jpg\n",
            "2024-02-01 17:30:14,856 - INFO - File [/content/Dataset_2-5K2C/data/assets/Image/632534_873477_10000844_Right Field 3.jpg] transfer complete. 298.370 KB transferred. Elapsed time: 0:00:00.001442.\n",
            "2024-02-01 17:30:14,859 - INFO - Attempting GET from URL: https://dev.eye-ai.org/hatrac/images/scans/subject/666736/observation/1168008/image/12352757/e3bcdf432c06e5c3a242f7c2a58b545a.JPG\n",
            "2024-02-01 17:30:15,097 - INFO - File [/content/Dataset_2-5K2C/data/assets/Image/666736_1168008_12352757_Left Field 2.JPG] transfer complete. 608.604 KB transferred. Elapsed time: 0:00:00.073466.\n",
            "2024-02-01 17:30:15,099 - INFO - Attempting GET from URL: https://dev.eye-ai.org/hatrac/images/scans/subject/666736/observation/1168008/image/12352759/8529e50bf7b1410f88dc5e29a8298ef7.JPG\n",
            "2024-02-01 17:30:15,292 - INFO - File [/content/Dataset_2-5K2C/data/assets/Image/666736_1168008_12352759_Left Field 3.JPG] transfer complete. 648.788 KB transferred. Elapsed time: 0:00:00.002284.\n",
            "2024-02-01 17:30:15,294 - INFO - Attempting GET from URL: https://dev.eye-ai.org/hatrac/images/scans/subject/666736/observation/1168008/image/12352761/9d547f3276ee55e52db9f3bc43c719d4.JPG\n",
            "2024-02-01 17:30:15,490 - INFO - File [/content/Dataset_2-5K2C/data/assets/Image/666736_1168008_12352761_Left Field 1.JPG] transfer complete. 717.765 KB transferred. Elapsed time: 0:00:00.004398.\n",
            "2024-02-01 17:30:15,493 - INFO - Attempting GET from URL: https://dev.eye-ai.org/hatrac/images/scans/subject/666736/observation/1168008/image/12352763/d4f0329b51b3d992c06f12dd08012244.JPG\n",
            "2024-02-01 17:30:15,659 - INFO - File [/content/Dataset_2-5K2C/data/assets/Image/666736_1168008_12352763_Right Field 1.JPG] transfer complete. 737.111 KB transferred. Elapsed time: 0:00:00.003040.\n",
            "2024-02-01 17:30:15,662 - INFO - Attempting GET from URL: https://dev.eye-ai.org/hatrac/images/scans/subject/666736/observation/1168008/image/12352765/5416a97af70e0dc866d46bfa0c621ec8.JPG\n",
            "2024-02-01 17:30:15,827 - INFO - File [/content/Dataset_2-5K2C/data/assets/Image/666736_1168008_12352765_Right Field 3.JPG] transfer complete. 661.175 KB transferred. Elapsed time: 0:00:00.001983.\n",
            "2024-02-01 17:30:15,830 - INFO - Attempting GET from URL: https://dev.eye-ai.org/hatrac/images/scans/subject/666736/observation/1168008/image/12352766/b3fad7680640bb496a26603d3b860c8e.JPG\n",
            "2024-02-01 17:30:16,020 - INFO - File [/content/Dataset_2-5K2C/data/assets/Image/666736_1168008_12352766_Right Field 2.JPG] transfer complete. 733.625 KB transferred. Elapsed time: 0:00:00.002235.\n",
            "2024-02-01 17:30:16,022 - INFO - Attempting GET from URL: https://dev.eye-ai.org/hatrac/images/scans/subject/666736/observation/924539/image/10399833/101e5402ae232662eaa805fc07473239.JPG\n",
            "2024-02-01 17:30:16,205 - INFO - File [/content/Dataset_2-5K2C/data/assets/Image/666736_924539_10399833_Left Field 3.JPG] transfer complete. 613.398 KB transferred. Elapsed time: 0:00:00.002198.\n",
            "2024-02-01 17:30:16,207 - INFO - Attempting GET from URL: https://dev.eye-ai.org/hatrac/images/scans/subject/666736/observation/924539/image/10399834/ec29ed7ad91adde1b58bee3f7175ca5a.JPG\n",
            "2024-02-01 17:30:16,401 - INFO - File [/content/Dataset_2-5K2C/data/assets/Image/666736_924539_10399834_Right Field 3.JPG] transfer complete. 703.688 KB transferred. Elapsed time: 0:00:00.002291.\n",
            "2024-02-01 17:30:16,403 - INFO - Attempting GET from URL: https://dev.eye-ai.org/hatrac/images/scans/subject/666736/observation/924539/image/10399835/a36534deb37e9da5eaaa0bf8d711fa0d.JPG\n",
            "2024-02-01 17:30:16,585 - INFO - File [/content/Dataset_2-5K2C/data/assets/Image/666736_924539_10399835_Right Field 3.JPG] transfer complete. 563.929 KB transferred. Elapsed time: 0:00:00.002403.\n",
            "2024-02-01 17:30:16,588 - INFO - Attempting GET from URL: https://dev.eye-ai.org/hatrac/images/scans/subject/666736/observation/924539/image/10399837/c73f713cfaf3510f66f48b589297632e.JPG\n",
            "2024-02-01 17:30:16,797 - INFO - File [/content/Dataset_2-5K2C/data/assets/Image/666736_924539_10399837_Right Field 3.JPG] transfer complete. 735.490 KB transferred. Elapsed time: 0:00:00.002980.\n",
            "2024-02-01 17:30:16,800 - INFO - Attempting GET from URL: https://dev.eye-ai.org/hatrac/images/scans/subject/666736/observation/924539/image/10399838/8e3f5b3e732ad2bbb1ef01573896e740.JPG\n",
            "2024-02-01 17:30:16,987 - INFO - File [/content/Dataset_2-5K2C/data/assets/Image/666736_924539_10399838_Left Field 2.JPG] transfer complete. 690.949 KB transferred. Elapsed time: 0:00:00.008878.\n",
            "2024-02-01 17:30:16,990 - INFO - Attempting GET from URL: https://dev.eye-ai.org/hatrac/images/scans/subject/666736/observation/924539/image/10399839/69a3ea0cc85724ba8aa2a553ccdda3a7.JPG\n",
            "2024-02-01 17:30:17,170 - INFO - File [/content/Dataset_2-5K2C/data/assets/Image/666736_924539_10399839_Left Field 3.JPG] transfer complete. 676.441 KB transferred. Elapsed time: 0:00:00.003411.\n",
            "2024-02-01 17:30:17,173 - INFO - Fetch complete. Elapsed time: 0:00:04.644399\n",
            "2024-02-01 17:30:17,180 - INFO - Validating bag: /content/Dataset_2-5K2C\n",
            "2024-02-01 17:30:17,205 - INFO - Verifying checksum for file /content/Dataset_2-5K2C/data/Diagnosis.csv\n",
            "2024-02-01 17:30:17,208 - INFO - Verifying checksum for file /content/Dataset_2-5K2C/data/Diagnosis_Image_Vocabulary.csv\n",
            "2024-02-01 17:30:17,210 - INFO - Verifying checksum for file /content/Dataset_2-5K2C/data/Diagnosis_Tag.csv\n",
            "2024-02-01 17:30:17,212 - INFO - Verifying checksum for file /content/Dataset_2-5K2C/data/Image.csv\n",
            "2024-02-01 17:30:17,214 - INFO - Verifying checksum for file /content/Dataset_2-5K2C/data/Observation.csv\n",
            "2024-02-01 17:30:17,216 - INFO - Verifying checksum for file /content/Dataset_2-5K2C/data/Subject.csv\n",
            "2024-02-01 17:30:17,218 - INFO - Verifying checksum for file /content/Dataset_2-5K2C/data/assets/Image/632534_873477_10000839_Left Field 1.jpg\n",
            "2024-02-01 17:30:17,220 - INFO - Verifying checksum for file /content/Dataset_2-5K2C/data/assets/Image/632534_873477_10000840_Right Field 1.jpg\n",
            "2024-02-01 17:30:17,223 - INFO - Verifying checksum for file /content/Dataset_2-5K2C/data/assets/Image/632534_873477_10000841_Left Field 3.jpg\n",
            "2024-02-01 17:30:17,225 - INFO - Verifying checksum for file /content/Dataset_2-5K2C/data/assets/Image/632534_873477_10000842_Left Field 2.jpg\n",
            "2024-02-01 17:30:17,227 - INFO - Verifying checksum for file /content/Dataset_2-5K2C/data/assets/Image/632534_873477_10000843_Right Field 2.jpg\n",
            "2024-02-01 17:30:17,230 - INFO - Verifying checksum for file /content/Dataset_2-5K2C/data/assets/Image/632534_873477_10000844_Right Field 3.jpg\n",
            "2024-02-01 17:30:17,232 - INFO - Verifying checksum for file /content/Dataset_2-5K2C/data/assets/Image/666736_1168008_12352757_Left Field 2.JPG\n",
            "2024-02-01 17:30:17,235 - INFO - Verifying checksum for file /content/Dataset_2-5K2C/data/assets/Image/666736_1168008_12352759_Left Field 3.JPG\n",
            "2024-02-01 17:30:17,239 - INFO - Verifying checksum for file /content/Dataset_2-5K2C/data/assets/Image/666736_1168008_12352761_Left Field 1.JPG\n",
            "2024-02-01 17:30:17,242 - INFO - Verifying checksum for file /content/Dataset_2-5K2C/data/assets/Image/666736_1168008_12352763_Right Field 1.JPG\n",
            "2024-02-01 17:30:17,246 - INFO - Verifying checksum for file /content/Dataset_2-5K2C/data/assets/Image/666736_1168008_12352765_Right Field 3.JPG\n",
            "2024-02-01 17:30:17,260 - INFO - Verifying checksum for file /content/Dataset_2-5K2C/data/assets/Image/666736_1168008_12352766_Right Field 2.JPG\n",
            "2024-02-01 17:30:17,264 - INFO - Verifying checksum for file /content/Dataset_2-5K2C/data/assets/Image/666736_924539_10399833_Left Field 3.JPG\n",
            "2024-02-01 17:30:17,267 - INFO - Verifying checksum for file /content/Dataset_2-5K2C/data/assets/Image/666736_924539_10399834_Right Field 3.JPG\n",
            "2024-02-01 17:30:17,271 - INFO - Verifying checksum for file /content/Dataset_2-5K2C/data/assets/Image/666736_924539_10399835_Right Field 3.JPG\n",
            "2024-02-01 17:30:17,273 - INFO - Verifying checksum for file /content/Dataset_2-5K2C/data/assets/Image/666736_924539_10399837_Right Field 3.JPG\n",
            "2024-02-01 17:30:17,280 - INFO - Verifying checksum for file /content/Dataset_2-5K2C/data/assets/Image/666736_924539_10399838_Left Field 2.JPG\n",
            "2024-02-01 17:30:17,284 - INFO - Verifying checksum for file /content/Dataset_2-5K2C/data/assets/Image/666736_924539_10399839_Left Field 3.JPG\n",
            "2024-02-01 17:30:17,292 - INFO - Verifying checksum for file /content/Dataset_2-5K2C/bagit.txt\n",
            "2024-02-01 17:30:17,300 - INFO - Verifying checksum for file /content/Dataset_2-5K2C/bag-info.txt\n",
            "2024-02-01 17:30:17,303 - INFO - Verifying checksum for file /content/Dataset_2-5K2C/metadata/manifest.json\n",
            "2024-02-01 17:30:17,306 - INFO - Verifying checksum for file /content/Dataset_2-5K2C/manifest-md5.txt\n",
            "2024-02-01 17:30:17,309 - INFO - Verifying checksum for file /content/Dataset_2-5K2C/fetch.txt\n",
            "2024-02-01 17:30:17,311 - INFO - Bag /content/Dataset_2-5K2C is valid\n",
            "2024-02-01 17:30:22,352 - INFO - File [download/Merged_Cropped_Porper_or_Not_Dataset_TLBR_95_VGG19_Val_Accuracy.hdf5] transfer successful. 76.75 MB transferred at 22.69 MB/second. Elapsed time: 0:00:03.382022.\n",
            "2024-02-01 17:30:22,354 - INFO - Verifying MD5 checksum for downloaded file [download/Merged_Cropped_Porper_or_Not_Dataset_TLBR_95_VGG19_Val_Accuracy.hdf5]\n"
          ]
        },
        {
          "output_type": "execute_result",
          "data": {
            "text/plain": [
              "{'annotation_tag_rid': '2-5N4E',\n",
              " 'execution': '2-5N6E',\n",
              " 'workflow': '2-5N5T',\n",
              " 'process': ['2-5N5R'],\n",
              " 'bag_paths': ['/content/Dataset_2-5K2C'],\n",
              " 'model_paths': ['download/Merged_Cropped_Porper_or_Not_Dataset_TLBR_95_VGG19_Val_Accuracy.hdf5'],\n",
              " 'configuration_path': 'download/2-5MW8_config_cropping_test.json'}"
            ]
          },
          "metadata": {},
          "execution_count": 4
        }
      ],
      "source": [
        "# @title Initiate an Execution\n",
        "configuration_records, cm = EA.execution_init(configuration_rid=\"2-5N5P\")\n",
        "configuration_records\n"
      ]
    },
    {
      "cell_type": "code",
      "execution_count": 5,
      "metadata": {
        "colab": {
          "base_uri": "https://localhost:8080/"
        },
        "id": "ggE1q_I87XWC",
        "outputId": "ec0394ee-0360-4848-fc71-643c6e43cb9f"
      },
      "outputs": [
        {
          "output_type": "stream",
          "name": "stdout",
          "text": [
            "Cloning into 'eye-ai-ml'...\n",
            "remote: Enumerating objects: 125, done.\u001b[K\n",
            "remote: Counting objects:   1% (1/56)\u001b[K\rremote: Counting objects:   3% (2/56)\u001b[K\rremote: Counting objects:   5% (3/56)\u001b[K\rremote: Counting objects:   7% (4/56)\u001b[K\rremote: Counting objects:   8% (5/56)\u001b[K\rremote: Counting objects:  10% (6/56)\u001b[K\rremote: Counting objects:  12% (7/56)\u001b[K\rremote: Counting objects:  14% (8/56)\u001b[K\rremote: Counting objects:  16% (9/56)\u001b[K\rremote: Counting objects:  17% (10/56)\u001b[K\rremote: Counting objects:  19% (11/56)\u001b[K\rremote: Counting objects:  21% (12/56)\u001b[K\rremote: Counting objects:  23% (13/56)\u001b[K\rremote: Counting objects:  25% (14/56)\u001b[K\rremote: Counting objects:  26% (15/56)\u001b[K\rremote: Counting objects:  28% (16/56)\u001b[K\rremote: Counting objects:  30% (17/56)\u001b[K\rremote: Counting objects:  32% (18/56)\u001b[K\rremote: Counting objects:  33% (19/56)\u001b[K\rremote: Counting objects:  35% (20/56)\u001b[K\rremote: Counting objects:  37% (21/56)\u001b[K\rremote: Counting objects:  39% (22/56)\u001b[K\rremote: Counting objects:  41% (23/56)\u001b[K\rremote: Counting objects:  42% (24/56)\u001b[K\rremote: Counting objects:  44% (25/56)\u001b[K\rremote: Counting objects:  46% (26/56)\u001b[K\rremote: Counting objects:  48% (27/56)\u001b[K\rremote: Counting objects:  50% (28/56)\u001b[K\rremote: Counting objects:  51% (29/56)\u001b[K\rremote: Counting objects:  53% (30/56)\u001b[K\rremote: Counting objects:  55% (31/56)\u001b[K\rremote: Counting objects:  57% (32/56)\u001b[K\rremote: Counting objects:  58% (33/56)\u001b[K\rremote: Counting objects:  60% (34/56)\u001b[K\rremote: Counting objects:  62% (35/56)\u001b[K\rremote: Counting objects:  64% (36/56)\u001b[K\rremote: Counting objects:  66% (37/56)\u001b[K\rremote: Counting objects:  67% (38/56)\u001b[K\rremote: Counting objects:  69% (39/56)\u001b[K\rremote: Counting objects:  71% (40/56)\u001b[K\rremote: Counting objects:  73% (41/56)\u001b[K\rremote: Counting objects:  75% (42/56)\u001b[K\rremote: Counting objects:  76% (43/56)\u001b[K\rremote: Counting objects:  78% (44/56)\u001b[K\rremote: Counting objects:  80% (45/56)\u001b[K\rremote: Counting objects:  82% (46/56)\u001b[K\rremote: Counting objects:  83% (47/56)\u001b[K\rremote: Counting objects:  85% (48/56)\u001b[K\rremote: Counting objects:  87% (49/56)\u001b[K\rremote: Counting objects:  89% (50/56)\u001b[K\rremote: Counting objects:  91% (51/56)\u001b[K\rremote: Counting objects:  92% (52/56)\u001b[K\rremote: Counting objects:  94% (53/56)\u001b[K\rremote: Counting objects:  96% (54/56)\u001b[K\rremote: Counting objects:  98% (55/56)\u001b[K\rremote: Counting objects: 100% (56/56)\u001b[K\rremote: Counting objects: 100% (56/56), done.\u001b[K\n",
            "remote: Compressing objects: 100% (37/37), done.\u001b[K\n",
            "remote: Total 125 (delta 30), reused 45 (delta 19), pack-reused 69\u001b[K\n",
            "Receiving objects: 100% (125/125), 194.99 MiB | 29.43 MiB/s, done.\n",
            "Resolving deltas: 100% (66/66), done.\n",
            "Updating files: 100% (16/16), done.\n"
          ]
        }
      ],
      "source": [
        "# @title Clone github repo\n",
        "for proc in EA.configuration.process:\n",
        "  !git clone https://github.com/{proc.owner}/{proc.repo}.git"
      ]
    },
    {
      "cell_type": "code",
      "execution_count": 6,
      "metadata": {
        "colab": {
          "base_uri": "https://localhost:8080/"
        },
        "id": "iUuTRgyg7Ys1",
        "outputId": "6ef4316d-0812-48fe-ba9c-8e97b41082e8"
      },
      "outputs": [
        {
          "output_type": "stream",
          "name": "stdout",
          "text": [
            "5\n",
            "5\n"
          ]
        }
      ],
      "source": [
        "# @title Data Preprocessing (Filtering Image.csv for just Field_2 Images)\n",
        "\n",
        "# Selecting image of angle 2 (Field 2) -- Image angle vocab 2SK6;\n",
        "bag_path1 = configuration_records['bag_paths'][0]\n",
        "Dataset_Path = os.path.join(bag_path1, 'data/Image.csv')\n",
        "Dataset = pd.read_csv(Dataset_Path)\n",
        "\n",
        "Dataset_Field_2 = Dataset[Dataset['Image_Angle_Vocab'] == \"2SK6\"]\n",
        "\n",
        "# Dataset_Field_2.head()\n",
        "# for sanity check compare the filtered data length with just taking Filename column and filtering it with the same condition where it has Field 2 in it as a substring.\n",
        "\n",
        "print(len(Dataset_Field_2))\n",
        "print(len(Dataset[Dataset['Filename'].str.contains(\"Field 2\")]))\n",
        "\n",
        "file2_csv_path = f\"{bag_path1}_Field_2.csv\"\n",
        "Dataset_Field_2.to_csv(file2_csv_path, index=False)"
      ]
    },
    {
      "cell_type": "code",
      "source": [
        "# @title Execute Proecss algorithm (Cropping)\n",
        "\n",
        "os.chdir('/content/eye-ai-ml/Glaucoma Suspect or No Glaaucoma/')\n",
        "from Cleaned_Optic_Disc_Cropping_Algorithm_1_0_3_SVG import preprocess_and_crop\n",
        "\n",
        "with cm as exec:\n",
        "  preprocess_and_crop(\n",
        "      \"/content/Dataset_2-5K2C/data/assets/Image/\",\n",
        "      file2_csv_path,\n",
        "      '../../output/output.csv',\n",
        "      'template.jpg',  # If required, otherwise remove this argument\n",
        "      '../../output/',\n",
        "      '/content/'+configuration_records['model_paths'][0],  # If required, otherwise remove this argument\n",
        "      configuration_records['process'][0],\n",
        "      configuration_records['annotation_tag_rid'],\n",
        "      EA.configuration.annotation_tag.name\n",
        "      )\n",
        "  os.chdir('/content')"
      ],
      "metadata": {
        "colab": {
          "base_uri": "https://localhost:8080/"
        },
        "id": "YIJj6Uj73sOm",
        "outputId": "3662929d-dcbd-4555-dcc2-8cf682141cd2"
      },
      "execution_count": 33,
      "outputs": [
        {
          "output_type": "stream",
          "name": "stdout",
          "text": [
            "Processing image 632534_873477_10000842_Left Field 2.jpg : , trial 1, color channel grey, resize function imgResize_primary\n",
            "1/1 [==============================] - 2s 2s/step\n",
            "SVG for 8GER saved.\n",
            "Image 632534_873477_10000842_Left Field 2.jpg (grey) cropped and saved at ../../output/Cropped_High_Resolution_8GER_632534_873477_10000842_Left Field 2_V9J0.jpg.\n",
            "Processing image 632534_873477_10000843_Right Field 2.jpg : , trial 1, color channel grey, resize function imgResize_primary\n",
            "1/1 [==============================] - 1s 1s/step\n",
            "Processing image 632534_873477_10000843_Right Field 2.jpg : , trial 2, color channel green, resize function imgResize_primary\n",
            "1/1 [==============================] - 1s 1s/step\n",
            "Processing image 632534_873477_10000843_Right Field 2.jpg : , trial 3, color channel red, resize function imgResize_primary\n",
            "1/1 [==============================] - 2s 2s/step\n",
            "Processing image 632534_873477_10000843_Right Field 2.jpg : , trial 4, color channel blue, resize function imgResize_primary\n",
            "1/1 [==============================] - 1s 1s/step\n",
            "Processing image 632534_873477_10000843_Right Field 2.jpg : , trial 1, color channel grey, resize function imgResize_secondary\n",
            "1/1 [==============================] - 1s 1s/step\n",
            "Processing image 632534_873477_10000843_Right Field 2.jpg : , trial 2, color channel green, resize function imgResize_secondary\n",
            "1/1 [==============================] - 1s 1s/step\n",
            "Processing image 632534_873477_10000843_Right Field 2.jpg : , trial 3, color channel red, resize function imgResize_secondary\n",
            "1/1 [==============================] - 1s 1s/step\n",
            "Processing image 632534_873477_10000843_Right Field 2.jpg : , trial 4, color channel blue, resize function imgResize_secondary\n",
            "1/1 [==============================] - 1s 1s/step\n",
            "Processing image 632534_873477_10000843_Right Field 2.jpg : , trial 1, color channel grey, resize function imgResize_primary\n",
            "1/1 [==============================] - 1s 1s/step\n",
            "Processing image 632534_873477_10000843_Right Field 2.jpg : , trial 2, color channel green, resize function imgResize_primary\n",
            "1/1 [==============================] - 1s 1s/step\n",
            "Processing image 632534_873477_10000843_Right Field 2.jpg : , trial 3, color channel red, resize function imgResize_primary\n",
            "1/1 [==============================] - 1s 1s/step\n",
            "Processing image 632534_873477_10000843_Right Field 2.jpg : , trial 4, color channel blue, resize function imgResize_primary\n",
            "1/1 [==============================] - 1s 1s/step\n",
            "Processing image 632534_873477_10000843_Right Field 2.jpg : , trial 1, color channel grey, resize function imgResize_secondary\n",
            "1/1 [==============================] - 1s 1s/step\n",
            "Processing image 632534_873477_10000843_Right Field 2.jpg : , trial 2, color channel green, resize function imgResize_secondary\n",
            "1/1 [==============================] - 1s 1s/step\n",
            "Processing image 632534_873477_10000843_Right Field 2.jpg : , trial 3, color channel red, resize function imgResize_secondary\n",
            "1/1 [==============================] - 1s 1s/step\n",
            "Processing image 632534_873477_10000843_Right Field 2.jpg : , trial 4, color channel blue, resize function imgResize_secondary\n",
            "1/1 [==============================] - 2s 2s/step\n",
            "Processing image 632534_873477_10000843_Right Field 2.jpg : , trial 1, color channel grey, resize function imgResize_primary\n",
            "1/1 [==============================] - 1s 1s/step\n",
            "Processing image 632534_873477_10000843_Right Field 2.jpg : , trial 2, color channel green, resize function imgResize_primary\n",
            "1/1 [==============================] - 1s 1s/step\n",
            "Processing image 632534_873477_10000843_Right Field 2.jpg : , trial 3, color channel red, resize function imgResize_primary\n",
            "1/1 [==============================] - 2s 2s/step\n",
            "Processing image 632534_873477_10000843_Right Field 2.jpg : , trial 4, color channel blue, resize function imgResize_primary\n",
            "1/1 [==============================] - 1s 1s/step\n",
            "Processing image 632534_873477_10000843_Right Field 2.jpg : , trial 1, color channel grey, resize function imgResize_secondary\n",
            "1/1 [==============================] - 1s 1s/step\n",
            "Processing image 632534_873477_10000843_Right Field 2.jpg : , trial 2, color channel green, resize function imgResize_secondary\n",
            "1/1 [==============================] - 2s 2s/step\n",
            "Processing image 632534_873477_10000843_Right Field 2.jpg : , trial 3, color channel red, resize function imgResize_secondary\n",
            "1/1 [==============================] - 1s 1s/step\n",
            "Processing image 632534_873477_10000843_Right Field 2.jpg : , trial 4, color channel blue, resize function imgResize_secondary\n",
            "1/1 [==============================] - 1s 1s/step\n",
            "Raw Image 632534_873477_10000843_Right Field 2.jpg saved  at ../../output/Cropped_High_Resolution_8GET_632534_873477_10000843_Right Field 2_V9J0.jpg.\n",
            "SVG for 8GET saved.\n",
            "Processing image 666736_1168008_12352757_Left Field 2.JPG : , trial 1, color channel grey, resize function imgResize_primary\n",
            "1/1 [==============================] - 1s 1s/step\n",
            "Processing image 666736_1168008_12352757_Left Field 2.JPG : , trial 2, color channel green, resize function imgResize_primary\n",
            "1/1 [==============================] - 1s 1s/step\n",
            "Processing image 666736_1168008_12352757_Left Field 2.JPG : , trial 3, color channel red, resize function imgResize_primary\n",
            "1/1 [==============================] - 1s 1s/step\n",
            "Processing image 666736_1168008_12352757_Left Field 2.JPG : , trial 4, color channel blue, resize function imgResize_primary\n",
            "1/1 [==============================] - 1s 1s/step\n",
            "Processing image 666736_1168008_12352757_Left Field 2.JPG : , trial 1, color channel grey, resize function imgResize_secondary\n",
            "1/1 [==============================] - 2s 2s/step\n",
            "Processing image 666736_1168008_12352757_Left Field 2.JPG : , trial 2, color channel green, resize function imgResize_secondary\n",
            "1/1 [==============================] - 1s 1s/step\n",
            "Processing image 666736_1168008_12352757_Left Field 2.JPG : , trial 3, color channel red, resize function imgResize_secondary\n",
            "1/1 [==============================] - 1s 1s/step\n",
            "Processing image 666736_1168008_12352757_Left Field 2.JPG : , trial 4, color channel blue, resize function imgResize_secondary\n",
            "1/1 [==============================] - 2s 2s/step\n",
            "Processing image 666736_1168008_12352757_Left Field 2.JPG : , trial 1, color channel grey, resize function imgResize_primary\n",
            "1/1 [==============================] - 1s 1s/step\n",
            "Processing image 666736_1168008_12352757_Left Field 2.JPG : , trial 2, color channel green, resize function imgResize_primary\n",
            "1/1 [==============================] - 1s 1s/step\n",
            "Processing image 666736_1168008_12352757_Left Field 2.JPG : , trial 3, color channel red, resize function imgResize_primary\n",
            "1/1 [==============================] - 1s 1s/step\n",
            "Processing image 666736_1168008_12352757_Left Field 2.JPG : , trial 4, color channel blue, resize function imgResize_primary\n",
            "1/1 [==============================] - 2s 2s/step\n",
            "Processing image 666736_1168008_12352757_Left Field 2.JPG : , trial 1, color channel grey, resize function imgResize_secondary\n",
            "1/1 [==============================] - 1s 1s/step\n",
            "Processing image 666736_1168008_12352757_Left Field 2.JPG : , trial 2, color channel green, resize function imgResize_secondary\n",
            "1/1 [==============================] - 1s 1s/step\n",
            "Processing image 666736_1168008_12352757_Left Field 2.JPG : , trial 3, color channel red, resize function imgResize_secondary\n",
            "1/1 [==============================] - 2s 2s/step\n",
            "Processing image 666736_1168008_12352757_Left Field 2.JPG : , trial 4, color channel blue, resize function imgResize_secondary\n",
            "1/1 [==============================] - 1s 1s/step\n",
            "Processing image 666736_1168008_12352757_Left Field 2.JPG : , trial 1, color channel grey, resize function imgResize_primary\n",
            "1/1 [==============================] - 1s 1s/step\n",
            "Processing image 666736_1168008_12352757_Left Field 2.JPG : , trial 2, color channel green, resize function imgResize_primary\n",
            "1/1 [==============================] - 1s 1s/step\n",
            "Processing image 666736_1168008_12352757_Left Field 2.JPG : , trial 3, color channel red, resize function imgResize_primary\n",
            "1/1 [==============================] - 1s 1s/step\n",
            "Processing image 666736_1168008_12352757_Left Field 2.JPG : , trial 4, color channel blue, resize function imgResize_primary\n",
            "1/1 [==============================] - 1s 1s/step\n",
            "Processing image 666736_1168008_12352757_Left Field 2.JPG : , trial 1, color channel grey, resize function imgResize_secondary\n",
            "1/1 [==============================] - 1s 1s/step\n",
            "Processing image 666736_1168008_12352757_Left Field 2.JPG : , trial 2, color channel green, resize function imgResize_secondary\n",
            "1/1 [==============================] - 2s 2s/step\n",
            "Processing image 666736_1168008_12352757_Left Field 2.JPG : , trial 3, color channel red, resize function imgResize_secondary\n",
            "1/1 [==============================] - 1s 1s/step\n",
            "Processing image 666736_1168008_12352757_Left Field 2.JPG : , trial 4, color channel blue, resize function imgResize_secondary\n",
            "1/1 [==============================] - 1s 1s/step\n",
            "Raw Image 666736_1168008_12352757_Left Field 2.JPG saved  at ../../output/Cropped_High_Resolution_9YS2_666736_1168008_12352757_Left Field 2_V9J0.JPG.\n",
            "SVG for 9YS2 saved.\n",
            "Processing image 666736_1168008_12352766_Right Field 2.JPG : , trial 1, color channel grey, resize function imgResize_primary\n",
            "1/1 [==============================] - 1s 1s/step\n",
            "SVG for 9YSC saved.\n",
            "Image 666736_1168008_12352766_Right Field 2.JPG (grey) cropped and saved at ../../output/Cropped_High_Resolution_9YSC_666736_1168008_12352766_Right Field 2_V9J0.JPG.\n",
            "Processing image 666736_924539_10399838_Left Field 2.JPG : , trial 1, color channel grey, resize function imgResize_primary\n",
            "1/1 [==============================] - 1s 1s/step\n"
          ]
        },
        {
          "output_type": "stream",
          "name": "stderr",
          "text": [
            "2024-02-01 18:18:23,306 - INFO - Initializing uploader: GenericUploader v1.6.4 [Python 3.10.12, Linux-6.1.58+-x86_64-with-glibc2.35]\n",
            "2024-02-01 18:18:23,307 - INFO - Creating client of type <class 'globus_sdk.services.auth.client.native_client.NativeAppAuthClient'> for service \"auth\"\n",
            "2024-02-01 18:18:23,312 - INFO - Finished initializing AuthLoginClient. client_id='8ef15ba9-2b4a-469c-a163-7fd910c9d111', type(authorizer)=<class 'globus_sdk.authorizers.base.NullAuthorizer'>\n",
            "2024-02-01 18:18:23,315 - INFO - Checking for updated configuration...\n"
          ]
        },
        {
          "output_type": "stream",
          "name": "stdout",
          "text": [
            "SVG for 9YSP saved.\n",
            "Image 666736_924539_10399838_Left Field 2.JPG (grey) cropped and saved at ../../output/Cropped_High_Resolution_9YSP_666736_924539_10399838_Left Field 2_V9J0.JPG.\n",
            "Number of images in CSV: 5\n",
            "Number of images in directory: 18\n",
            "Number of images in output directory: 7\n",
            "Number of cropped images: 5\n",
            "--- 200.9882538318634 seconds ---\n",
            "Exeption type: None, Exeption value: None, Exeption traceback: None\n"
          ]
        },
        {
          "output_type": "stream",
          "name": "stderr",
          "text": [
            "2024-02-01 18:18:24,224 - INFO - Updated configuration found.\n",
            "2024-02-01 18:18:24,228 - INFO - Attempting to acquire a dependent lock in [/content/ExecutionAssets]\n",
            "2024-02-01 18:18:24,230 - INFO - Scanning files in directory [/content/ExecutionAssets]...\n",
            "2024-02-01 18:18:24,231 - INFO - File upload processing completed: 0 files were uploaded successfully, 0 files failed to upload due to errors, 0 files were skipped because they did not satisfy the matching criteria of the configuration.\n"
          ]
        }
      ]
    },
    {
      "cell_type": "code",
      "execution_count": 34,
      "metadata": {
        "id": "vT2etwRNVmjo",
        "colab": {
          "base_uri": "https://localhost:8080/"
        },
        "outputId": "54a03d45-5498-4056-ca3f-89e8c1b44d62"
      },
      "outputs": [
        {
          "output_type": "stream",
          "name": "stderr",
          "text": [
            "2024-02-01 18:30:06,849 - WARNING - <ipython-input-34-0d106c82c7be>:8: SettingWithCopyWarning: \n",
            "A value is trying to be set on a copy of a slice from a DataFrame\n",
            "\n",
            "See the caveats in the documentation: https://pandas.pydata.org/pandas-docs/stable/user_guide/indexing.html#returning-a-view-versus-a-copy\n",
            "  cropped_info.rename(columns={'Image RID': 'RID'}, inplace=True)\n",
            "\n"
          ]
        }
      ],
      "source": [
        "# @title ML result analysis\n",
        "import numpy as np\n",
        "output_csv_path = \"output/output.csv\"\n",
        "cropped_info = pd.read_csv(output_csv_path)[[\"Image RID\", \"Worked Image Cropping Function\"]]\n",
        "\n",
        "cropped_info['Cropped'] = np.where(cropped_info['Worked Image Cropping Function'] == 'Raw Cropped to Eye', 'False', 'True')\n",
        "cropped_info = cropped_info[[\"Image RID\", \"Cropped\"]]\n",
        "cropped_info.rename(columns={'Image RID': 'RID'}, inplace=True)"
      ]
    },
    {
      "cell_type": "code",
      "execution_count": 35,
      "metadata": {
        "colab": {
          "base_uri": "https://localhost:8080/"
        },
        "id": "PodDp0IvObZP",
        "outputId": "0377055c-c5a0-448d-a00c-011d0070cddb"
      },
      "outputs": [
        {
          "output_type": "stream",
          "name": "stderr",
          "text": [
            "2024-02-01 18:30:23,261 - INFO - Initializing uploader: GenericUploader v1.6.4 [Python 3.10.12, Linux-6.1.58+-x86_64-with-glibc2.35]\n",
            "2024-02-01 18:30:23,265 - INFO - Creating client of type <class 'globus_sdk.services.auth.client.native_client.NativeAppAuthClient'> for service \"auth\"\n",
            "2024-02-01 18:30:23,267 - INFO - Finished initializing AuthLoginClient. client_id='8ef15ba9-2b4a-469c-a163-7fd910c9d111', type(authorizer)=<class 'globus_sdk.authorizers.base.NullAuthorizer'>\n",
            "2024-02-01 18:30:23,272 - INFO - Checking for updated configuration...\n",
            "2024-02-01 18:30:24,413 - INFO - Updated configuration found.\n",
            "2024-02-01 18:30:24,419 - INFO - Scanning files in directory [/content/output/2-5N5R]...\n",
            "2024-02-01 18:30:24,428 - INFO - Including file: [/content/output/2-5N5R/2-5N4E_9YSC_imgResize_primary.svg].\n",
            "2024-02-01 18:30:24,431 - INFO - Including file: [/content/output/2-5N5R/2-5N4E_8GER_imgResize_primary.svg].\n",
            "2024-02-01 18:30:24,433 - INFO - Including file: [/content/output/2-5N5R/2-5N4E_9YSP_imgResize_primary.svg].\n",
            "2024-02-01 18:30:24,436 - INFO - Including file: [/content/output/2-5N5R/2-5N4E_8GET_Raw_Cropped_to_Eye.svg].\n",
            "2024-02-01 18:30:24,438 - INFO - Including file: [/content/output/2-5N5R/2-5N4E_9YS2_Raw_Cropped_to_Eye.svg].\n",
            "2024-02-01 18:30:24,439 - INFO - Processing: [/content/output/2-5N5R/2-5N4E_9YSC_imgResize_primary.svg]\n",
            "2024-02-01 18:30:24,442 - INFO - Computing checksums for file: [/content/output/2-5N5R/2-5N4E_9YSC_imgResize_primary.svg]. Please wait...\n",
            "2024-02-01 18:30:24,528 - INFO - Uploading file: [/content/output/2-5N5R/2-5N4E_9YSC_imgResize_primary.svg] to host https://dev.eye-ai.org. Please wait...\n",
            "2024-02-01 18:30:25,703 - INFO - Processing: [/content/output/2-5N5R/2-5N4E_8GER_imgResize_primary.svg]\n",
            "2024-02-01 18:30:25,706 - INFO - Computing checksums for file: [/content/output/2-5N5R/2-5N4E_8GER_imgResize_primary.svg]. Please wait...\n",
            "2024-02-01 18:30:25,789 - INFO - Uploading file: [/content/output/2-5N5R/2-5N4E_8GER_imgResize_primary.svg] to host https://dev.eye-ai.org. Please wait...\n",
            "2024-02-01 18:30:25,973 - INFO - Processing: [/content/output/2-5N5R/2-5N4E_9YSP_imgResize_primary.svg]\n",
            "2024-02-01 18:30:25,975 - INFO - Computing checksums for file: [/content/output/2-5N5R/2-5N4E_9YSP_imgResize_primary.svg]. Please wait...\n",
            "2024-02-01 18:30:26,056 - INFO - Uploading file: [/content/output/2-5N5R/2-5N4E_9YSP_imgResize_primary.svg] to host https://dev.eye-ai.org. Please wait...\n",
            "2024-02-01 18:30:26,576 - INFO - Processing: [/content/output/2-5N5R/2-5N4E_8GET_Raw_Cropped_to_Eye.svg]\n",
            "2024-02-01 18:30:26,578 - INFO - Computing checksums for file: [/content/output/2-5N5R/2-5N4E_8GET_Raw_Cropped_to_Eye.svg]. Please wait...\n",
            "2024-02-01 18:30:26,660 - INFO - Uploading file: [/content/output/2-5N5R/2-5N4E_8GET_Raw_Cropped_to_Eye.svg] to host https://dev.eye-ai.org. Please wait...\n",
            "2024-02-01 18:30:27,163 - INFO - Processing: [/content/output/2-5N5R/2-5N4E_9YS2_Raw_Cropped_to_Eye.svg]\n",
            "2024-02-01 18:30:27,166 - INFO - Computing checksums for file: [/content/output/2-5N5R/2-5N4E_9YS2_Raw_Cropped_to_Eye.svg]. Please wait...\n",
            "2024-02-01 18:30:27,249 - INFO - Uploading file: [/content/output/2-5N5R/2-5N4E_9YS2_Raw_Cropped_to_Eye.svg] to host https://dev.eye-ai.org. Please wait...\n",
            "2024-02-01 18:30:27,421 - INFO - File upload processing completed: 5 files were uploaded successfully, 0 files failed to upload due to errors, 0 files were skipped because they did not satisfy the matching criteria of the configuration.\n"
          ]
        }
      ],
      "source": [
        "# @title Upload ML results\n",
        "# upload cropping bounding box\n",
        "EA.upload_assets(f'/content/output/{configuration_records[\"process\"][0]}')\n",
        "\n",
        "# upload cropping metadata\n",
        "EA.update_image_table(cropped_info)"
      ]
    },
    {
      "cell_type": "code",
      "source": [],
      "metadata": {
        "id": "Q8QMtZI_Volr"
      },
      "execution_count": null,
      "outputs": []
    }
  ],
  "metadata": {
    "colab": {
      "provenance": [],
      "include_colab_link": true
    },
    "kernelspec": {
      "display_name": "Python 3",
      "name": "python3"
    },
    "language_info": {
      "name": "python"
    }
  },
  "nbformat": 4,
  "nbformat_minor": 0
}