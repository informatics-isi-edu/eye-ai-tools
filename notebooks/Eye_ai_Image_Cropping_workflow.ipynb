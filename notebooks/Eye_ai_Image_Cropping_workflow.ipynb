{
  "cells": [
    {
      "cell_type": "markdown",
      "metadata": {
        "id": "view-in-github",
        "colab_type": "text"
      },
      "source": [
        "<a href=\"https://colab.research.google.com/github/informatics-isi-edu/eye-ai-tools/blob/main/notebooks/Eye_ai_Image_Cropping_workflow.ipynb\" target=\"_parent\"><img src=\"https://colab.research.google.com/assets/colab-badge.svg\" alt=\"Open In Colab\"/></a>"
      ]
    },
    {
      "cell_type": "code",
      "execution_count": 1,
      "metadata": {
        "colab": {
          "base_uri": "https://localhost:8080/"
        },
        "id": "qBNfD8vlKgev",
        "outputId": "aa036075-904d-469b-ff80-a34335b61163"
      },
      "outputs": [
        {
          "output_type": "stream",
          "name": "stdout",
          "text": [
            "Collecting git+https://github.com/fair-research/bdbag\n",
            "  Cloning https://github.com/fair-research/bdbag to /tmp/pip-req-build-741tp5dz\n",
            "  Running command git clone --filter=blob:none --quiet https://github.com/fair-research/bdbag /tmp/pip-req-build-741tp5dz\n",
            "  Resolved https://github.com/fair-research/bdbag to commit f8d81362ceaff7a0328dd89257655cfcb3f7d111\n",
            "  Preparing metadata (setup.py) ... \u001b[?25l\u001b[?25hdone\n",
            "Requirement already satisfied: pytz in /usr/local/lib/python3.10/dist-packages (from bdbag==1.7.2) (2023.4)\n",
            "Requirement already satisfied: tzlocal in /usr/local/lib/python3.10/dist-packages (from bdbag==1.7.2) (5.2)\n",
            "Requirement already satisfied: certifi in /usr/local/lib/python3.10/dist-packages (from bdbag==1.7.2) (2023.11.17)\n",
            "Requirement already satisfied: packaging in /usr/local/lib/python3.10/dist-packages (from bdbag==1.7.2) (23.2)\n",
            "Requirement already satisfied: requests>=2.7.0 in /usr/local/lib/python3.10/dist-packages (from bdbag==1.7.2) (2.31.0)\n",
            "Collecting setuptools_scm<6.0 (from bdbag==1.7.2)\n",
            "  Downloading setuptools_scm-5.0.2-py2.py3-none-any.whl (29 kB)\n",
            "Collecting bagit==1.8.1 (from bdbag==1.7.2)\n",
            "  Downloading bagit-1.8.1-py2.py3-none-any.whl (35 kB)\n",
            "Collecting bagit-profile==1.3.1 (from bdbag==1.7.2)\n",
            "  Downloading bagit_profile-1.3.1-py3-none-any.whl (14 kB)\n",
            "Requirement already satisfied: charset-normalizer<4,>=2 in /usr/local/lib/python3.10/dist-packages (from requests>=2.7.0->bdbag==1.7.2) (3.3.2)\n",
            "Requirement already satisfied: idna<4,>=2.5 in /usr/local/lib/python3.10/dist-packages (from requests>=2.7.0->bdbag==1.7.2) (3.6)\n",
            "Requirement already satisfied: urllib3<3,>=1.21.1 in /usr/local/lib/python3.10/dist-packages (from requests>=2.7.0->bdbag==1.7.2) (2.0.7)\n",
            "Requirement already satisfied: setuptools in /usr/local/lib/python3.10/dist-packages (from setuptools_scm<6.0->bdbag==1.7.2) (67.7.2)\n",
            "Building wheels for collected packages: bdbag\n",
            "  Building wheel for bdbag (setup.py) ... \u001b[?25l\u001b[?25hdone\n",
            "  Created wheel for bdbag: filename=bdbag-1.7.2-py2.py3-none-any.whl size=74828 sha256=0d0f63fd1a56ac370306af7d6a2f1a1d47d82308f1c4e9e265260b8edbb11fd9\n",
            "  Stored in directory: /tmp/pip-ephem-wheel-cache-r95hfm4k/wheels/e6/37/a1/ed335483cf88440ed32b8f918cc20fa31b2ee2c81dd9504f7a\n",
            "Successfully built bdbag\n",
            "Installing collected packages: bagit, setuptools_scm, bagit-profile, bdbag\n",
            "Successfully installed bagit-1.8.1 bagit-profile-1.3.1 bdbag-1.7.2 setuptools_scm-5.0.2\n",
            "Collecting git+https://github.com/informatics-isi-edu/deriva-py\n",
            "  Cloning https://github.com/informatics-isi-edu/deriva-py to /tmp/pip-req-build-34ynw3v8\n",
            "  Running command git clone --filter=blob:none --quiet https://github.com/informatics-isi-edu/deriva-py /tmp/pip-req-build-34ynw3v8\n",
            "  Resolved https://github.com/informatics-isi-edu/deriva-py to commit 3dda9d8bda15f00434263d3509ef33895fdbdfd5\n",
            "  Preparing metadata (setup.py) ... \u001b[?25l\u001b[?25hdone\n",
            "Requirement already satisfied: setuptools>=20.2 in /usr/local/lib/python3.10/dist-packages (from deriva==1.6.4) (67.7.2)\n",
            "Requirement already satisfied: packaging in /usr/local/lib/python3.10/dist-packages (from deriva==1.6.4) (23.2)\n",
            "Requirement already satisfied: requests in /usr/local/lib/python3.10/dist-packages (from deriva==1.6.4) (2.31.0)\n",
            "Requirement already satisfied: certifi in /usr/local/lib/python3.10/dist-packages (from deriva==1.6.4) (2023.11.17)\n",
            "Collecting pika (from deriva==1.6.4)\n",
            "  Downloading pika-1.3.2-py3-none-any.whl (155 kB)\n",
            "\u001b[2K     \u001b[90m━━━━━━━━━━━━━━━━━━━━━━━━━━━━━━━━━━━━━━━━\u001b[0m \u001b[32m155.4/155.4 kB\u001b[0m \u001b[31m3.3 MB/s\u001b[0m eta \u001b[36m0:00:00\u001b[0m\n",
            "\u001b[?25hCollecting urllib3<2.0,>=1.26.0 (from deriva==1.6.4)\n",
            "  Downloading urllib3-1.26.18-py2.py3-none-any.whl (143 kB)\n",
            "\u001b[2K     \u001b[90m━━━━━━━━━━━━━━━━━━━━━━━━━━━━━━━━━━━━━━━━\u001b[0m \u001b[32m143.8/143.8 kB\u001b[0m \u001b[31m7.1 MB/s\u001b[0m eta \u001b[36m0:00:00\u001b[0m\n",
            "\u001b[?25hCollecting portalocker>=1.2.1 (from deriva==1.6.4)\n",
            "  Downloading portalocker-2.8.2-py3-none-any.whl (17 kB)\n",
            "Requirement already satisfied: bdbag>=1.6.0 in /usr/local/lib/python3.10/dist-packages (from deriva==1.6.4) (1.7.2)\n",
            "Collecting globus_sdk<4,>=3 (from deriva==1.6.4)\n",
            "  Downloading globus_sdk-3.35.0-py3-none-any.whl (292 kB)\n",
            "\u001b[2K     \u001b[90m━━━━━━━━━━━━━━━━━━━━━━━━━━━━━━━━━━━━━━━━\u001b[0m \u001b[32m292.4/292.4 kB\u001b[0m \u001b[31m7.8 MB/s\u001b[0m eta \u001b[36m0:00:00\u001b[0m\n",
            "\u001b[?25hCollecting fair-research-login>=0.2.6 (from deriva==1.6.4)\n",
            "  Downloading fair_research_login-0.3.1-py3-none-any.whl (39 kB)\n",
            "Collecting fair-identifiers-client>=0.5 (from deriva==1.6.4)\n",
            "  Downloading fair_identifiers_client-0.5.1-py3-none-any.whl (45 kB)\n",
            "\u001b[2K     \u001b[90m━━━━━━━━━━━━━━━━━━━━━━━━━━━━━━━━━━━━━━━━\u001b[0m \u001b[32m45.7/45.7 kB\u001b[0m \u001b[31m4.5 MB/s\u001b[0m eta \u001b[36m0:00:00\u001b[0m\n",
            "\u001b[?25hRequirement already satisfied: jsonschema>=3.1 in /usr/local/lib/python3.10/dist-packages (from deriva==1.6.4) (4.19.2)\n",
            "Requirement already satisfied: pytz in /usr/local/lib/python3.10/dist-packages (from bdbag>=1.6.0->deriva==1.6.4) (2023.4)\n",
            "Requirement already satisfied: tzlocal in /usr/local/lib/python3.10/dist-packages (from bdbag>=1.6.0->deriva==1.6.4) (5.2)\n",
            "Requirement already satisfied: setuptools-scm<6.0 in /usr/local/lib/python3.10/dist-packages (from bdbag>=1.6.0->deriva==1.6.4) (5.0.2)\n",
            "Requirement already satisfied: bagit==1.8.1 in /usr/local/lib/python3.10/dist-packages (from bdbag>=1.6.0->deriva==1.6.4) (1.8.1)\n",
            "Requirement already satisfied: bagit-profile==1.3.1 in /usr/local/lib/python3.10/dist-packages (from bdbag>=1.6.0->deriva==1.6.4) (1.3.1)\n",
            "Requirement already satisfied: six<2.0.0,>=1.10.0 in /usr/local/lib/python3.10/dist-packages (from fair-identifiers-client>=0.5->deriva==1.6.4) (1.16.0)\n",
            "Requirement already satisfied: pyjwt[crypto]<3.0.0,>=2.0.0 in /usr/lib/python3/dist-packages (from globus_sdk<4,>=3->deriva==1.6.4) (2.3.0)\n",
            "Requirement already satisfied: cryptography!=3.4.0,>=3.3.1 in /usr/local/lib/python3.10/dist-packages (from globus_sdk<4,>=3->deriva==1.6.4) (42.0.1)\n",
            "Requirement already satisfied: attrs>=22.2.0 in /usr/local/lib/python3.10/dist-packages (from jsonschema>=3.1->deriva==1.6.4) (23.2.0)\n",
            "Requirement already satisfied: jsonschema-specifications>=2023.03.6 in /usr/local/lib/python3.10/dist-packages (from jsonschema>=3.1->deriva==1.6.4) (2023.12.1)\n",
            "Requirement already satisfied: referencing>=0.28.4 in /usr/local/lib/python3.10/dist-packages (from jsonschema>=3.1->deriva==1.6.4) (0.33.0)\n",
            "Requirement already satisfied: rpds-py>=0.7.1 in /usr/local/lib/python3.10/dist-packages (from jsonschema>=3.1->deriva==1.6.4) (0.17.1)\n",
            "Requirement already satisfied: charset-normalizer<4,>=2 in /usr/local/lib/python3.10/dist-packages (from requests->deriva==1.6.4) (3.3.2)\n",
            "Requirement already satisfied: idna<4,>=2.5 in /usr/local/lib/python3.10/dist-packages (from requests->deriva==1.6.4) (3.6)\n",
            "Requirement already satisfied: cffi>=1.12 in /usr/local/lib/python3.10/dist-packages (from cryptography!=3.4.0,>=3.3.1->globus_sdk<4,>=3->deriva==1.6.4) (1.16.0)\n",
            "Requirement already satisfied: pycparser in /usr/local/lib/python3.10/dist-packages (from cffi>=1.12->cryptography!=3.4.0,>=3.3.1->globus_sdk<4,>=3->deriva==1.6.4) (2.21)\n",
            "Building wheels for collected packages: deriva\n",
            "  Building wheel for deriva (setup.py) ... \u001b[?25l\u001b[?25hdone\n",
            "  Created wheel for deriva: filename=deriva-1.6.4-py2.py3-none-any.whl size=212102 sha256=d79467abae4a54730c70ca76e190daa414e3f66ebf9aa934b1d23412f83742b3\n",
            "  Stored in directory: /tmp/pip-ephem-wheel-cache-5ijovm53/wheels/f5/4a/e4/12bf545b4525249722e860b95e934babd35df222684152f80d\n",
            "Successfully built deriva\n",
            "Installing collected packages: urllib3, portalocker, pika, globus_sdk, fair-research-login, fair-identifiers-client, deriva\n",
            "  Attempting uninstall: urllib3\n",
            "    Found existing installation: urllib3 2.0.7\n",
            "    Uninstalling urllib3-2.0.7:\n",
            "      Successfully uninstalled urllib3-2.0.7\n",
            "Successfully installed deriva-1.6.4 fair-identifiers-client-0.5.1 fair-research-login-0.3.1 globus_sdk-3.35.0 pika-1.3.2 portalocker-2.8.2 urllib3-1.26.18\n",
            "Collecting git+https://github.com/informatics-isi-edu/eye-ai-tools\n",
            "  Cloning https://github.com/informatics-isi-edu/eye-ai-tools to /tmp/pip-req-build-cymj2hyr\n",
            "  Running command git clone --filter=blob:none --quiet https://github.com/informatics-isi-edu/eye-ai-tools /tmp/pip-req-build-cymj2hyr\n",
            "  Resolved https://github.com/informatics-isi-edu/eye-ai-tools to commit a05f078c6e6686ddc9d62d40ea73a4b7ed748c2c\n",
            "  Installing build dependencies ... \u001b[?25l\u001b[?25hdone\n",
            "  Getting requirements to build wheel ... \u001b[?25l\u001b[?25hdone\n",
            "  Preparing metadata (pyproject.toml) ... \u001b[?25l\u001b[?25hdone\n",
            "Building wheels for collected packages: eye-ai\n",
            "  Building wheel for eye-ai (pyproject.toml) ... \u001b[?25l\u001b[?25hdone\n",
            "  Created wheel for eye-ai: filename=eye_ai-0.0.1-py3-none-any.whl size=8787 sha256=a50b32702addc2e33dccdd6734ef7c4d734c35f8e65bb8b6798c4995e7e1b18d\n",
            "  Stored in directory: /tmp/pip-ephem-wheel-cache-l4njc3v_/wheels/b8/3d/ee/56cb93f0a37d21370f4ad75a02619f63503d0ba0c6987ccf30\n",
            "Successfully built eye-ai\n",
            "Installing collected packages: eye-ai\n",
            "Successfully installed eye-ai-0.0.1\n",
            "Collecting git+https://github.com/informatics-isi-edu/deriva-ml\n",
            "  Cloning https://github.com/informatics-isi-edu/deriva-ml to /tmp/pip-req-build-bvujtzyg\n",
            "  Running command git clone --filter=blob:none --quiet https://github.com/informatics-isi-edu/deriva-ml /tmp/pip-req-build-bvujtzyg\n",
            "  Resolved https://github.com/informatics-isi-edu/deriva-ml to commit 011206857a4fc9309fa624735b733d2be7739960\n",
            "  Installing build dependencies ... \u001b[?25l\u001b[?25hdone\n",
            "  Getting requirements to build wheel ... \u001b[?25l\u001b[?25hdone\n",
            "  Preparing metadata (pyproject.toml) ... \u001b[?25l\u001b[?25hdone\n",
            "Building wheels for collected packages: deriva-ml\n",
            "  Building wheel for deriva-ml (pyproject.toml) ... \u001b[?25l\u001b[?25hdone\n",
            "  Created wheel for deriva-ml: filename=deriva_ml-0.0.1-py3-none-any.whl size=12630 sha256=541d620b1c0e0cb676187441d218187d248e663383580f9679f832983500e172\n",
            "  Stored in directory: /tmp/pip-ephem-wheel-cache-mi1cmb84/wheels/5e/44/fc/69aec1f5d3789673392eb399c637044c66aa264ce8ec4b43a7\n",
            "Successfully built deriva-ml\n",
            "Installing collected packages: deriva-ml\n",
            "Successfully installed deriva-ml-0.0.1\n",
            "Collecting git+https://github.com/informatics-isi-edu/eye-ai-ml\n",
            "  Cloning https://github.com/informatics-isi-edu/eye-ai-ml to /tmp/pip-req-build-3zmjifg4\n",
            "  Running command git clone --filter=blob:none --quiet https://github.com/informatics-isi-edu/eye-ai-ml /tmp/pip-req-build-3zmjifg4\n",
            "  Resolved https://github.com/informatics-isi-edu/eye-ai-ml to commit e30393f0f02535b8607d72f8153a5257a0ff7dea\n",
            "  Installing build dependencies ... \u001b[?25l\u001b[?25hdone\n",
            "  Getting requirements to build wheel ... \u001b[?25l\u001b[?25hdone\n",
            "  Preparing metadata (pyproject.toml) ... \u001b[?25l\u001b[?25hdone\n",
            "Building wheels for collected packages: eye-ai-ml\n",
            "  Building wheel for eye-ai-ml (pyproject.toml) ... \u001b[?25l\u001b[?25hdone\n",
            "  Created wheel for eye-ai-ml: filename=eye_ai_ml-0.0.1-py3-none-any.whl size=11467 sha256=c72b03611a93c1e4dd697f3da6c80827af370e5405e86be19af22f33d0446545\n",
            "  Stored in directory: /tmp/pip-ephem-wheel-cache-hrv2vy79/wheels/1e/7f/76/67bd42d2c427a39149e1ebd833d93bd7aad1b774daba1f8c07\n",
            "Successfully built eye-ai-ml\n",
            "Installing collected packages: eye-ai-ml\n",
            "Successfully installed eye-ai-ml-0.0.1\n",
            "Collecting pydantic\n",
            "  Downloading pydantic-2.6.0-py3-none-any.whl (394 kB)\n",
            "\u001b[2K     \u001b[90m━━━━━━━━━━━━━━━━━━━━━━━━━━━━━━━━━━━━━━━━\u001b[0m \u001b[32m394.2/394.2 kB\u001b[0m \u001b[31m6.0 MB/s\u001b[0m eta \u001b[36m0:00:00\u001b[0m\n",
            "\u001b[?25hCollecting annotated-types>=0.4.0 (from pydantic)\n",
            "  Downloading annotated_types-0.6.0-py3-none-any.whl (12 kB)\n",
            "Collecting pydantic-core==2.16.1 (from pydantic)\n",
            "  Downloading pydantic_core-2.16.1-cp310-cp310-manylinux_2_17_x86_64.manylinux2014_x86_64.whl (2.2 MB)\n",
            "\u001b[2K     \u001b[90m━━━━━━━━━━━━━━━━━━━━━━━━━━━━━━━━━━━━━━━━\u001b[0m \u001b[32m2.2/2.2 MB\u001b[0m \u001b[31m13.4 MB/s\u001b[0m eta \u001b[36m0:00:00\u001b[0m\n",
            "\u001b[?25hCollecting typing-extensions>=4.6.1 (from pydantic)\n",
            "  Downloading typing_extensions-4.9.0-py3-none-any.whl (32 kB)\n",
            "Installing collected packages: typing-extensions, annotated-types, pydantic-core, pydantic\n",
            "  Attempting uninstall: typing-extensions\n",
            "    Found existing installation: typing_extensions 4.5.0\n",
            "    Uninstalling typing_extensions-4.5.0:\n",
            "      Successfully uninstalled typing_extensions-4.5.0\n",
            "  Attempting uninstall: pydantic\n",
            "    Found existing installation: pydantic 1.10.14\n",
            "    Uninstalling pydantic-1.10.14:\n",
            "      Successfully uninstalled pydantic-1.10.14\n",
            "\u001b[31mERROR: pip's dependency resolver does not currently take into account all the packages that are installed. This behaviour is the source of the following dependency conflicts.\n",
            "lida 0.0.10 requires fastapi, which is not installed.\n",
            "lida 0.0.10 requires kaleido, which is not installed.\n",
            "lida 0.0.10 requires python-multipart, which is not installed.\n",
            "lida 0.0.10 requires uvicorn, which is not installed.\n",
            "llmx 0.0.15a0 requires cohere, which is not installed.\n",
            "llmx 0.0.15a0 requires openai, which is not installed.\n",
            "llmx 0.0.15a0 requires tiktoken, which is not installed.\n",
            "tensorflow-probability 0.22.0 requires typing-extensions<4.6.0, but you have typing-extensions 4.9.0 which is incompatible.\u001b[0m\u001b[31m\n",
            "\u001b[0mSuccessfully installed annotated-types-0.6.0 pydantic-2.6.0 pydantic-core-2.16.1 typing-extensions-4.9.0\n"
          ]
        }
      ],
      "source": [
        "# Prerequisites\n",
        "!pip install git+https://github.com/fair-research/bdbag\n",
        "!pip install git+https://github.com/informatics-isi-edu/deriva-py\n",
        "!pip install 'git+https://github.com/informatics-isi-edu/eye-ai-tools' --upgrade --force\n",
        "!pip install 'git+https://github.com/informatics-isi-edu/deriva-ml' --upgrade --force\n",
        "!pip install git+https://github.com/informatics-isi-edu/eye-ai-ml\n",
        "!pip install pydantic --upgrade --force\n",
        "\n",
        "import json\n",
        "import os\n",
        "from eye_ai import EyeAI\n",
        "import pandas as pd\n",
        "from pathlib import Path, PurePath\n",
        "\n"
      ]
    },
    {
      "cell_type": "code",
      "execution_count": 2,
      "metadata": {
        "id": "qw-bW4bORlqQ",
        "colab": {
          "base_uri": "https://localhost:8080/"
        },
        "outputId": "a13b9e14-4e70-4155-fba8-e46f90312096"
      },
      "outputs": [
        {
          "output_type": "stream",
          "name": "stdout",
          "text": [
            "2024-02-01 23:16:24,527 - INFO - No default configuration file found, attempting to create one at: /root/.deriva/config.json\n",
            "2024-02-01 23:16:25,123 - INFO - NoSavedTokens: No tokens were loaded\n",
            "Please paste the following URL in a browser:\n",
            "https://auth.globus.org/v2/oauth2/authorize?client_id=8ef15ba9-2b4a-469c-a163-7fd910c9d111&redirect_uri=https%3A%2F%2Fauth.globus.org%2Fv2%2Fweb%2Fauth-code&scope=https%3A%2F%2Fauth.globus.org%2Fscopes%2Fdev.eye-ai.org%2Fderiva_all+openid+urn%3Aglobus%3Aauth%3Ascope%3Agroups.api.globus.org%3Aview_my_groups_and_memberships&state=_default&response_type=code&code_challenge=A-2O8bl1tsX7dEbRBxf7BTz_86c1m91M3Oaj2F8DWOc&code_challenge_method=S256&access_type=online&prefill_named_grant=Login+from+deriva-client+on+66ad4ca3d491+%5BLinux-6.1.58%2B-x86_64-with-glibc2.35%5D+to+hosts+%5Bdev.eye-ai.org%5D+with+requested+scopes+%5Bhttps%3A%2F%2Fauth.globus.org%2Fscopes%2Fdev.eye-ai.org%2Fderiva_all%2C+openid%2C+urn%3Aglobus%3Aauth%3Ascope%3Agroups.api.globus.org%3Aview_my_groups_and_memberships%5D+\n",
            "Please Paste your Auth Code Below: \n",
            "jnsckzllexIxk5UHui3DPtJ96Mqfs8\n",
            "Login Successful\n"
          ]
        }
      ],
      "source": [
        "# @title login to DERIVA via Globus Auth\n",
        "\n",
        "DEBUG_MODE = True # False #@param\n",
        "catalog_id = \"eye-ai\" #@param\n",
        "DEFAULT_SERVER = 'dev.eye-ai.org' if DEBUG_MODE else 'www.eye-ai.org'\n",
        "\n",
        "!deriva-globus-auth-utils login --no-browser --host {DEFAULT_SERVER}\n"
      ]
    },
    {
      "cell_type": "code",
      "source": [
        "EA = EyeAI(hostname = DEFAULT_SERVER, catalog_id = catalog_id )"
      ],
      "metadata": {
        "id": "A1Cg1lLQiSk4"
      },
      "execution_count": 3,
      "outputs": []
    },
    {
      "cell_type": "code",
      "execution_count": 5,
      "metadata": {
        "colab": {
          "base_uri": "https://localhost:8080/"
        },
        "id": "kCIfOvbUXTGB",
        "outputId": "0525b27f-c0c6-43c6-c320-bedb29d38ab2"
      },
      "outputs": [
        {
          "output_type": "stream",
          "name": "stdout",
          "text": [
            "Configuration validation successful!\n"
          ]
        },
        {
          "output_type": "stream",
          "name": "stderr",
          "text": [
            "2024-02-01 23:17:16,925 - INFO - Wrote configuration file: /root/.bdbag/bdbag.json\n",
            "2024-02-01 23:17:16,929 - INFO - Attempting to resolve http://identifiers.org/minid:oLkKfQWmEfXw into a valid set of URLs.\n",
            "2024-02-01 23:17:18,251 - INFO - The identifier minid:oLkKfQWmEfXw resolved into the following locations: [https://eye-ai-shared.s3.amazonaws.com//6656e08709b2f7c0bbed8284fdfb550d/2024-01-16_17.33.09/Dataset_2-5K2C.zip]\n",
            "2024-02-01 23:17:18,262 - INFO - Attempting GET from URL: https://eye-ai-shared.s3.amazonaws.com//6656e08709b2f7c0bbed8284fdfb550d/2024-01-16_17.33.09/Dataset_2-5K2C.zip\n",
            "2024-02-01 23:17:18,728 - INFO - File [/content/Dataset_2-5K2C.zip] transfer complete. 8.533 KB transferred. Elapsed time: 0:00:00.000464.\n",
            "2024-02-01 23:17:18,734 - INFO - Extracting ZIP archived file: /content/Dataset_2-5K2C.zip\n",
            "2024-02-01 23:17:18,740 - INFO - File /content/Dataset_2-5K2C.zip was successfully extracted to directory /content/Dataset_2-5K2C\n",
            "2024-02-01 23:17:18,764 - INFO - Attempting to resolve remote file references from /content/Dataset_2-5K2C/fetch.txt.\n",
            "2024-02-01 23:17:18,770 - INFO - Attempting GET from URL: https://dev.eye-ai.org/hatrac/images/scans/subject/632534/observation/873477/image/10000839/8b3b3fd980bf7526d4abef9d9b7bb358.jpg\n",
            "2024-02-01 23:17:19,935 - INFO - File [/content/Dataset_2-5K2C/data/assets/Image/632534_873477_10000839_Left Field 1.jpg] transfer complete. 349.472 KB transferred. Elapsed time: 0:00:00.355384.\n",
            "2024-02-01 23:17:19,938 - INFO - Attempting GET from URL: https://dev.eye-ai.org/hatrac/images/scans/subject/632534/observation/873477/image/10000840/0ace778ddb060d634ce69c78bfa1c735.jpg\n",
            "2024-02-01 23:17:20,329 - INFO - File [/content/Dataset_2-5K2C/data/assets/Image/632534_873477_10000840_Right Field 1.jpg] transfer complete. 298.639 KB transferred. Elapsed time: 0:00:00.071298.\n",
            "2024-02-01 23:17:20,331 - INFO - Attempting GET from URL: https://dev.eye-ai.org/hatrac/images/scans/subject/632534/observation/873477/image/10000841/b2a99c6cb454df46d40a5dc53292e701.jpg\n",
            "2024-02-01 23:17:20,706 - INFO - File [/content/Dataset_2-5K2C/data/assets/Image/632534_873477_10000841_Left Field 3.jpg] transfer complete. 298.572 KB transferred. Elapsed time: 0:00:00.071235.\n",
            "2024-02-01 23:17:20,707 - INFO - Attempting GET from URL: https://dev.eye-ai.org/hatrac/images/scans/subject/632534/observation/873477/image/10000842/96eae36a4784e783fd817d7ca7329886.jpg\n",
            "2024-02-01 23:17:20,985 - INFO - File [/content/Dataset_2-5K2C/data/assets/Image/632534_873477_10000842_Left Field 2.jpg] transfer complete. 304.460 KB transferred. Elapsed time: 0:00:00.001014.\n",
            "2024-02-01 23:17:20,987 - INFO - Attempting GET from URL: https://dev.eye-ai.org/hatrac/images/scans/subject/632534/observation/873477/image/10000843/5dbf52454065c5acd554a381a8c94ade.jpg\n",
            "2024-02-01 23:17:21,179 - INFO - File [/content/Dataset_2-5K2C/data/assets/Image/632534_873477_10000843_Right Field 2.jpg] transfer complete. 294.099 KB transferred. Elapsed time: 0:00:00.001018.\n",
            "2024-02-01 23:17:21,181 - INFO - Attempting GET from URL: https://dev.eye-ai.org/hatrac/images/scans/subject/632534/observation/873477/image/10000844/34dddd19f3ae07ac34d9d15a568bfc1f.jpg\n",
            "2024-02-01 23:17:21,344 - INFO - File [/content/Dataset_2-5K2C/data/assets/Image/632534_873477_10000844_Right Field 3.jpg] transfer complete. 298.370 KB transferred. Elapsed time: 0:00:00.001029.\n",
            "2024-02-01 23:17:21,346 - INFO - Attempting GET from URL: https://dev.eye-ai.org/hatrac/images/scans/subject/666736/observation/1168008/image/12352757/e3bcdf432c06e5c3a242f7c2a58b545a.JPG\n",
            "2024-02-01 23:17:21,519 - INFO - File [/content/Dataset_2-5K2C/data/assets/Image/666736_1168008_12352757_Left Field 2.JPG] transfer complete. 608.604 KB transferred. Elapsed time: 0:00:00.003372.\n",
            "2024-02-01 23:17:21,522 - INFO - Attempting GET from URL: https://dev.eye-ai.org/hatrac/images/scans/subject/666736/observation/1168008/image/12352759/8529e50bf7b1410f88dc5e29a8298ef7.JPG\n",
            "2024-02-01 23:17:21,699 - INFO - File [/content/Dataset_2-5K2C/data/assets/Image/666736_1168008_12352759_Left Field 3.JPG] transfer complete. 648.788 KB transferred. Elapsed time: 0:00:00.002117.\n",
            "2024-02-01 23:17:21,701 - INFO - Attempting GET from URL: https://dev.eye-ai.org/hatrac/images/scans/subject/666736/observation/1168008/image/12352761/9d547f3276ee55e52db9f3bc43c719d4.JPG\n",
            "2024-02-01 23:17:21,902 - INFO - File [/content/Dataset_2-5K2C/data/assets/Image/666736_1168008_12352761_Left Field 1.JPG] transfer complete. 717.765 KB transferred. Elapsed time: 0:00:00.002596.\n",
            "2024-02-01 23:17:21,904 - INFO - Attempting GET from URL: https://dev.eye-ai.org/hatrac/images/scans/subject/666736/observation/1168008/image/12352763/d4f0329b51b3d992c06f12dd08012244.JPG\n",
            "2024-02-01 23:17:22,076 - INFO - File [/content/Dataset_2-5K2C/data/assets/Image/666736_1168008_12352763_Right Field 1.JPG] transfer complete. 737.111 KB transferred. Elapsed time: 0:00:00.004024.\n",
            "2024-02-01 23:17:22,079 - INFO - Attempting GET from URL: https://dev.eye-ai.org/hatrac/images/scans/subject/666736/observation/1168008/image/12352765/5416a97af70e0dc866d46bfa0c621ec8.JPG\n",
            "2024-02-01 23:17:22,261 - INFO - File [/content/Dataset_2-5K2C/data/assets/Image/666736_1168008_12352765_Right Field 3.JPG] transfer complete. 661.175 KB transferred. Elapsed time: 0:00:00.002624.\n",
            "2024-02-01 23:17:22,262 - INFO - Attempting GET from URL: https://dev.eye-ai.org/hatrac/images/scans/subject/666736/observation/1168008/image/12352766/b3fad7680640bb496a26603d3b860c8e.JPG\n",
            "2024-02-01 23:17:22,429 - INFO - File [/content/Dataset_2-5K2C/data/assets/Image/666736_1168008_12352766_Right Field 2.JPG] transfer complete. 733.625 KB transferred. Elapsed time: 0:00:00.002288.\n",
            "2024-02-01 23:17:22,431 - INFO - Attempting GET from URL: https://dev.eye-ai.org/hatrac/images/scans/subject/666736/observation/924539/image/10399833/101e5402ae232662eaa805fc07473239.JPG\n",
            "2024-02-01 23:17:22,626 - INFO - File [/content/Dataset_2-5K2C/data/assets/Image/666736_924539_10399833_Left Field 3.JPG] transfer complete. 613.398 KB transferred. Elapsed time: 0:00:00.002458.\n",
            "2024-02-01 23:17:22,628 - INFO - Attempting GET from URL: https://dev.eye-ai.org/hatrac/images/scans/subject/666736/observation/924539/image/10399834/ec29ed7ad91adde1b58bee3f7175ca5a.JPG\n",
            "2024-02-01 23:17:22,822 - INFO - File [/content/Dataset_2-5K2C/data/assets/Image/666736_924539_10399834_Right Field 3.JPG] transfer complete. 703.688 KB transferred. Elapsed time: 0:00:00.002353.\n",
            "2024-02-01 23:17:22,825 - INFO - Attempting GET from URL: https://dev.eye-ai.org/hatrac/images/scans/subject/666736/observation/924539/image/10399835/a36534deb37e9da5eaaa0bf8d711fa0d.JPG\n",
            "2024-02-01 23:17:23,067 - INFO - File [/content/Dataset_2-5K2C/data/assets/Image/666736_924539_10399835_Right Field 3.JPG] transfer complete. 563.929 KB transferred. Elapsed time: 0:00:00.001889.\n",
            "2024-02-01 23:17:23,070 - INFO - Attempting GET from URL: https://dev.eye-ai.org/hatrac/images/scans/subject/666736/observation/924539/image/10399837/c73f713cfaf3510f66f48b589297632e.JPG\n",
            "2024-02-01 23:17:23,256 - INFO - File [/content/Dataset_2-5K2C/data/assets/Image/666736_924539_10399837_Right Field 3.JPG] transfer complete. 735.490 KB transferred. Elapsed time: 0:00:00.003002.\n",
            "2024-02-01 23:17:23,259 - INFO - Attempting GET from URL: https://dev.eye-ai.org/hatrac/images/scans/subject/666736/observation/924539/image/10399838/8e3f5b3e732ad2bbb1ef01573896e740.JPG\n",
            "2024-02-01 23:17:23,537 - INFO - File [/content/Dataset_2-5K2C/data/assets/Image/666736_924539_10399838_Left Field 2.JPG] transfer complete. 690.949 KB transferred. Elapsed time: 0:00:00.002369.\n",
            "2024-02-01 23:17:23,539 - INFO - Attempting GET from URL: https://dev.eye-ai.org/hatrac/images/scans/subject/666736/observation/924539/image/10399839/69a3ea0cc85724ba8aa2a553ccdda3a7.JPG\n",
            "2024-02-01 23:17:23,711 - INFO - File [/content/Dataset_2-5K2C/data/assets/Image/666736_924539_10399839_Left Field 3.JPG] transfer complete. 676.441 KB transferred. Elapsed time: 0:00:00.007138.\n",
            "2024-02-01 23:17:23,713 - INFO - Fetch complete. Elapsed time: 0:00:04.944225\n",
            "2024-02-01 23:17:23,718 - INFO - Validating bag: /content/Dataset_2-5K2C\n",
            "2024-02-01 23:17:23,728 - INFO - Verifying checksum for file /content/Dataset_2-5K2C/data/Diagnosis.csv\n",
            "2024-02-01 23:17:23,731 - INFO - Verifying checksum for file /content/Dataset_2-5K2C/data/Diagnosis_Image_Vocabulary.csv\n",
            "2024-02-01 23:17:23,732 - INFO - Verifying checksum for file /content/Dataset_2-5K2C/data/Diagnosis_Tag.csv\n",
            "2024-02-01 23:17:23,733 - INFO - Verifying checksum for file /content/Dataset_2-5K2C/data/Image.csv\n",
            "2024-02-01 23:17:23,735 - INFO - Verifying checksum for file /content/Dataset_2-5K2C/data/Observation.csv\n",
            "2024-02-01 23:17:23,736 - INFO - Verifying checksum for file /content/Dataset_2-5K2C/data/Subject.csv\n",
            "2024-02-01 23:17:23,738 - INFO - Verifying checksum for file /content/Dataset_2-5K2C/data/assets/Image/632534_873477_10000839_Left Field 1.jpg\n",
            "2024-02-01 23:17:23,740 - INFO - Verifying checksum for file /content/Dataset_2-5K2C/data/assets/Image/632534_873477_10000840_Right Field 1.jpg\n",
            "2024-02-01 23:17:23,742 - INFO - Verifying checksum for file /content/Dataset_2-5K2C/data/assets/Image/632534_873477_10000841_Left Field 3.jpg\n",
            "2024-02-01 23:17:23,744 - INFO - Verifying checksum for file /content/Dataset_2-5K2C/data/assets/Image/632534_873477_10000842_Left Field 2.jpg\n",
            "2024-02-01 23:17:23,746 - INFO - Verifying checksum for file /content/Dataset_2-5K2C/data/assets/Image/632534_873477_10000843_Right Field 2.jpg\n",
            "2024-02-01 23:17:23,748 - INFO - Verifying checksum for file /content/Dataset_2-5K2C/data/assets/Image/632534_873477_10000844_Right Field 3.jpg\n",
            "2024-02-01 23:17:23,750 - INFO - Verifying checksum for file /content/Dataset_2-5K2C/data/assets/Image/666736_1168008_12352757_Left Field 2.JPG\n",
            "2024-02-01 23:17:23,753 - INFO - Verifying checksum for file /content/Dataset_2-5K2C/data/assets/Image/666736_1168008_12352759_Left Field 3.JPG\n",
            "2024-02-01 23:17:23,757 - INFO - Verifying checksum for file /content/Dataset_2-5K2C/data/assets/Image/666736_1168008_12352761_Left Field 1.JPG\n",
            "2024-02-01 23:17:23,764 - INFO - Verifying checksum for file /content/Dataset_2-5K2C/data/assets/Image/666736_1168008_12352763_Right Field 1.JPG\n",
            "2024-02-01 23:17:23,767 - INFO - Verifying checksum for file /content/Dataset_2-5K2C/data/assets/Image/666736_1168008_12352765_Right Field 3.JPG\n",
            "2024-02-01 23:17:23,770 - INFO - Verifying checksum for file /content/Dataset_2-5K2C/data/assets/Image/666736_1168008_12352766_Right Field 2.JPG\n",
            "2024-02-01 23:17:23,785 - INFO - Verifying checksum for file /content/Dataset_2-5K2C/data/assets/Image/666736_924539_10399833_Left Field 3.JPG\n",
            "2024-02-01 23:17:23,789 - INFO - Verifying checksum for file /content/Dataset_2-5K2C/data/assets/Image/666736_924539_10399834_Right Field 3.JPG\n",
            "2024-02-01 23:17:23,794 - INFO - Verifying checksum for file /content/Dataset_2-5K2C/data/assets/Image/666736_924539_10399835_Right Field 3.JPG\n",
            "2024-02-01 23:17:23,798 - INFO - Verifying checksum for file /content/Dataset_2-5K2C/data/assets/Image/666736_924539_10399837_Right Field 3.JPG\n",
            "2024-02-01 23:17:23,802 - INFO - Verifying checksum for file /content/Dataset_2-5K2C/data/assets/Image/666736_924539_10399838_Left Field 2.JPG\n",
            "2024-02-01 23:17:23,805 - INFO - Verifying checksum for file /content/Dataset_2-5K2C/data/assets/Image/666736_924539_10399839_Left Field 3.JPG\n",
            "2024-02-01 23:17:23,809 - INFO - Verifying checksum for file /content/Dataset_2-5K2C/bagit.txt\n",
            "2024-02-01 23:17:23,811 - INFO - Verifying checksum for file /content/Dataset_2-5K2C/bag-info.txt\n",
            "2024-02-01 23:17:23,813 - INFO - Verifying checksum for file /content/Dataset_2-5K2C/metadata/manifest.json\n",
            "2024-02-01 23:17:23,815 - INFO - Verifying checksum for file /content/Dataset_2-5K2C/manifest-md5.txt\n",
            "2024-02-01 23:17:23,816 - INFO - Verifying checksum for file /content/Dataset_2-5K2C/fetch.txt\n",
            "2024-02-01 23:17:23,817 - INFO - Bag /content/Dataset_2-5K2C is valid\n",
            "2024-02-01 23:17:28,921 - INFO - File [download/Merged_Cropped_Porper_or_Not_Dataset_TLBR_95_VGG19_Val_Accuracy.hdf5] transfer successful. 76.75 MB transferred at 21.45 MB/second. Elapsed time: 0:00:03.578374.\n",
            "2024-02-01 23:17:28,923 - INFO - Verifying MD5 checksum for downloaded file [download/Merged_Cropped_Porper_or_Not_Dataset_TLBR_95_VGG19_Val_Accuracy.hdf5]\n",
            "2024-02-01 23:17:29,113 - WARNING - Retrying (Retry(total=9, connect=2, read=3, redirect=None, status=None)) after connection broken by 'ProtocolError('Connection aborted.', RemoteDisconnected('Remote end closed connection without response'))': /ermrest/catalog/eye-ai/attributegroup/eye-ai:Execution/RID;Status_Detail,Status\n"
          ]
        },
        {
          "output_type": "execute_result",
          "data": {
            "text/plain": [
              "{'annotation_tag_rid': '2-5N4E',\n",
              " 'diagnosis_tag_rid': '2-5N4G',\n",
              " 'execution': '2-5N7T',\n",
              " 'workflow': '2-5MWY',\n",
              " 'process': ['2-5N0Y'],\n",
              " 'bag_paths': ['/content/Dataset_2-5K2C'],\n",
              " 'model_paths': ['download/Merged_Cropped_Porper_or_Not_Dataset_TLBR_95_VGG19_Val_Accuracy.hdf5'],\n",
              " 'configuration_path': 'download/2-5MW8_image_cropping_notebook.json'}"
            ]
          },
          "metadata": {},
          "execution_count": 5
        }
      ],
      "source": [
        "# @title Initiate an Execution\n",
        "configuration_records, cm = EA.execution_init(configuration_rid=\"2-5N6Y\")\n",
        "configuration_records\n"
      ]
    },
    {
      "cell_type": "code",
      "execution_count": 6,
      "metadata": {
        "colab": {
          "base_uri": "https://localhost:8080/"
        },
        "id": "iUuTRgyg7Ys1",
        "outputId": "1614c898-9d78-4f25-f501-53934f438a37"
      },
      "outputs": [
        {
          "output_type": "stream",
          "name": "stdout",
          "text": [
            "5\n",
            "5\n"
          ]
        }
      ],
      "source": [
        "# @title Data Preprocessing (Filtering Image.csv for just Field_2 Images)\n",
        "from pathlib import Path, PurePath\n",
        "# Selecting image of angle 2 (Field 2) -- Image angle vocab 2SK6;\n",
        "bag_path1 = configuration_records['bag_paths'][0]\n",
        "Dataset_Path = PurePath(bag_path1, 'data/Image.csv')\n",
        "Dataset = pd.read_csv(Dataset_Path)\n",
        "\n",
        "Dataset_Field_2 = Dataset[Dataset['Image_Angle_Vocab'] == \"2SK6\"]\n",
        "\n",
        "# Dataset_Field_2.head()\n",
        "# for sanity check compare the filtered data length with just taking Filename column and filtering it with the same condition where it has Field 2 in it as a substring.\n",
        "\n",
        "print(len(Dataset_Field_2))\n",
        "print(len(Dataset[Dataset['Filename'].str.contains(\"Field 2\")]))\n",
        "\n",
        "file2_csv_path = PurePath(bag_path1, '_Field_2.csv')\n",
        "Dataset_Field_2.to_csv(file2_csv_path, index=False)"
      ]
    },
    {
      "cell_type": "code",
      "source": [
        "# @title Execute Proecss algorithm (Cropping)\n",
        "from eye_ai_ml.glaucoma.optic_disk_crop import preprocess_and_crop\n",
        "with cm as exec:\n",
        "  preprocess_and_crop(\n",
        "      bag_path1+\"/data/assets/Image/\",\n",
        "      file2_csv_path,\n",
        "      './output/output.csv',\n",
        "      'template.jpg',\n",
        "      './output/',\n",
        "      './'+configuration_records['model_paths'][0],\n",
        "      configuration_records['process'][0],\n",
        "      configuration_records['annotation_tag_rid'],\n",
        "      EA.configuration.annotation_tag.name\n",
        "      )"
      ],
      "metadata": {
        "colab": {
          "base_uri": "https://localhost:8080/"
        },
        "id": "YIJj6Uj73sOm",
        "outputId": "3281a781-e107-4cf2-d733-425be2363df9"
      },
      "execution_count": 7,
      "outputs": [
        {
          "output_type": "stream",
          "name": "stdout",
          "text": [
            "Downloading data from https://storage.googleapis.com/tensorflow/keras-applications/vgg19/vgg19_weights_tf_dim_ordering_tf_kernels_notop.h5\n",
            "80134624/80134624 [==============================] - 1s 0us/step\n",
            "Processing image 632534_873477_10000842_Left Field 2.jpg : , trial 1, color channel grey, resize function imgResize_primary\n",
            "1/1 [==============================] - 2s 2s/step\n",
            "SVG for 8GER saved.\n",
            "Image 632534_873477_10000842_Left Field 2.jpg (grey) cropped and saved at ./output/Cropped_High_Resolution_8GER_632534_873477_10000842_Left Field 2_V9J0.jpg.\n",
            "Processing image 632534_873477_10000843_Right Field 2.jpg : , trial 1, color channel grey, resize function imgResize_primary\n",
            "1/1 [==============================] - 1s 1s/step\n",
            "Processing image 632534_873477_10000843_Right Field 2.jpg : , trial 2, color channel green, resize function imgResize_primary\n",
            "1/1 [==============================] - 2s 2s/step\n",
            "Processing image 632534_873477_10000843_Right Field 2.jpg : , trial 3, color channel red, resize function imgResize_primary\n",
            "1/1 [==============================] - 1s 1s/step\n",
            "Processing image 632534_873477_10000843_Right Field 2.jpg : , trial 4, color channel blue, resize function imgResize_primary\n",
            "1/1 [==============================] - 1s 1s/step\n",
            "Processing image 632534_873477_10000843_Right Field 2.jpg : , trial 1, color channel grey, resize function imgResize_secondary\n",
            "1/1 [==============================] - 1s 1s/step\n",
            "Processing image 632534_873477_10000843_Right Field 2.jpg : , trial 2, color channel green, resize function imgResize_secondary\n",
            "1/1 [==============================] - 1s 1s/step\n",
            "Processing image 632534_873477_10000843_Right Field 2.jpg : , trial 3, color channel red, resize function imgResize_secondary\n",
            "1/1 [==============================] - 1s 1s/step\n",
            "Processing image 632534_873477_10000843_Right Field 2.jpg : , trial 4, color channel blue, resize function imgResize_secondary\n",
            "1/1 [==============================] - 1s 1s/step\n",
            "Processing image 632534_873477_10000843_Right Field 2.jpg : , trial 1, color channel grey, resize function imgResize_primary\n",
            "1/1 [==============================] - 1s 1s/step\n",
            "Processing image 632534_873477_10000843_Right Field 2.jpg : , trial 2, color channel green, resize function imgResize_primary\n",
            "1/1 [==============================] - 1s 1s/step\n",
            "Processing image 632534_873477_10000843_Right Field 2.jpg : , trial 3, color channel red, resize function imgResize_primary\n",
            "1/1 [==============================] - 1s 1s/step\n",
            "Processing image 632534_873477_10000843_Right Field 2.jpg : , trial 4, color channel blue, resize function imgResize_primary\n",
            "1/1 [==============================] - 2s 2s/step\n",
            "Processing image 632534_873477_10000843_Right Field 2.jpg : , trial 1, color channel grey, resize function imgResize_secondary\n",
            "1/1 [==============================] - 1s 1s/step\n",
            "Processing image 632534_873477_10000843_Right Field 2.jpg : , trial 2, color channel green, resize function imgResize_secondary\n",
            "1/1 [==============================] - 1s 1s/step\n",
            "Processing image 632534_873477_10000843_Right Field 2.jpg : , trial 3, color channel red, resize function imgResize_secondary\n",
            "1/1 [==============================] - 2s 2s/step\n",
            "Processing image 632534_873477_10000843_Right Field 2.jpg : , trial 4, color channel blue, resize function imgResize_secondary\n",
            "1/1 [==============================] - 1s 1s/step\n",
            "Processing image 632534_873477_10000843_Right Field 2.jpg : , trial 1, color channel grey, resize function imgResize_primary\n",
            "1/1 [==============================] - 1s 1s/step\n",
            "Processing image 632534_873477_10000843_Right Field 2.jpg : , trial 2, color channel green, resize function imgResize_primary\n",
            "1/1 [==============================] - 1s 1s/step\n",
            "Processing image 632534_873477_10000843_Right Field 2.jpg : , trial 3, color channel red, resize function imgResize_primary\n",
            "1/1 [==============================] - 1s 1s/step\n",
            "Processing image 632534_873477_10000843_Right Field 2.jpg : , trial 4, color channel blue, resize function imgResize_primary\n",
            "1/1 [==============================] - 1s 1s/step\n",
            "Processing image 632534_873477_10000843_Right Field 2.jpg : , trial 1, color channel grey, resize function imgResize_secondary\n",
            "1/1 [==============================] - 1s 1s/step\n",
            "Processing image 632534_873477_10000843_Right Field 2.jpg : , trial 2, color channel green, resize function imgResize_secondary\n",
            "1/1 [==============================] - 1s 1s/step\n",
            "Processing image 632534_873477_10000843_Right Field 2.jpg : , trial 3, color channel red, resize function imgResize_secondary\n",
            "1/1 [==============================] - 1s 1s/step\n",
            "SVG for 8GET saved.\n",
            "Image 632534_873477_10000843_Right Field 2.jpg (red) cropped and saved at ./output/Cropped_High_Resolution_8GET_632534_873477_10000843_Right Field 2_V9J0.jpg.\n",
            "Processing image 666736_1168008_12352757_Left Field 2.JPG : , trial 1, color channel grey, resize function imgResize_primary\n",
            "1/1 [==============================] - 1s 1s/step\n",
            "Processing image 666736_1168008_12352757_Left Field 2.JPG : , trial 2, color channel green, resize function imgResize_primary\n",
            "1/1 [==============================] - 2s 2s/step\n",
            "Processing image 666736_1168008_12352757_Left Field 2.JPG : , trial 3, color channel red, resize function imgResize_primary\n",
            "1/1 [==============================] - 1s 1s/step\n",
            "Processing image 666736_1168008_12352757_Left Field 2.JPG : , trial 4, color channel blue, resize function imgResize_primary\n",
            "1/1 [==============================] - 1s 1s/step\n",
            "Processing image 666736_1168008_12352757_Left Field 2.JPG : , trial 1, color channel grey, resize function imgResize_secondary\n",
            "1/1 [==============================] - 1s 1s/step\n",
            "Processing image 666736_1168008_12352757_Left Field 2.JPG : , trial 2, color channel green, resize function imgResize_secondary\n",
            "1/1 [==============================] - 1s 1s/step\n",
            "Processing image 666736_1168008_12352757_Left Field 2.JPG : , trial 3, color channel red, resize function imgResize_secondary\n",
            "1/1 [==============================] - 1s 1s/step\n",
            "Processing image 666736_1168008_12352757_Left Field 2.JPG : , trial 4, color channel blue, resize function imgResize_secondary\n",
            "1/1 [==============================] - 1s 1s/step\n",
            "Processing image 666736_1168008_12352757_Left Field 2.JPG : , trial 1, color channel grey, resize function imgResize_primary\n",
            "1/1 [==============================] - 1s 1s/step\n",
            "Processing image 666736_1168008_12352757_Left Field 2.JPG : , trial 2, color channel green, resize function imgResize_primary\n",
            "1/1 [==============================] - 1s 1s/step\n",
            "Processing image 666736_1168008_12352757_Left Field 2.JPG : , trial 3, color channel red, resize function imgResize_primary\n",
            "1/1 [==============================] - 1s 1s/step\n",
            "Processing image 666736_1168008_12352757_Left Field 2.JPG : , trial 4, color channel blue, resize function imgResize_primary\n",
            "1/1 [==============================] - 2s 2s/step\n",
            "Processing image 666736_1168008_12352757_Left Field 2.JPG : , trial 1, color channel grey, resize function imgResize_secondary\n",
            "1/1 [==============================] - 1s 1s/step\n",
            "Processing image 666736_1168008_12352757_Left Field 2.JPG : , trial 2, color channel green, resize function imgResize_secondary\n",
            "1/1 [==============================] - 1s 1s/step\n",
            "Processing image 666736_1168008_12352757_Left Field 2.JPG : , trial 3, color channel red, resize function imgResize_secondary\n",
            "1/1 [==============================] - 1s 1s/step\n",
            "Processing image 666736_1168008_12352757_Left Field 2.JPG : , trial 4, color channel blue, resize function imgResize_secondary\n",
            "1/1 [==============================] - 1s 1s/step\n",
            "Processing image 666736_1168008_12352757_Left Field 2.JPG : , trial 1, color channel grey, resize function imgResize_primary\n",
            "1/1 [==============================] - 1s 1s/step\n",
            "Processing image 666736_1168008_12352757_Left Field 2.JPG : , trial 2, color channel green, resize function imgResize_primary\n",
            "1/1 [==============================] - 1s 1s/step\n",
            "Processing image 666736_1168008_12352757_Left Field 2.JPG : , trial 3, color channel red, resize function imgResize_primary\n",
            "1/1 [==============================] - 2s 2s/step\n",
            "Processing image 666736_1168008_12352757_Left Field 2.JPG : , trial 4, color channel blue, resize function imgResize_primary\n",
            "1/1 [==============================] - 1s 1s/step\n",
            "Processing image 666736_1168008_12352757_Left Field 2.JPG : , trial 1, color channel grey, resize function imgResize_secondary\n",
            "1/1 [==============================] - 1s 1s/step\n",
            "Processing image 666736_1168008_12352757_Left Field 2.JPG : , trial 2, color channel green, resize function imgResize_secondary\n",
            "1/1 [==============================] - 2s 2s/step\n",
            "Processing image 666736_1168008_12352757_Left Field 2.JPG : , trial 3, color channel red, resize function imgResize_secondary\n",
            "1/1 [==============================] - 1s 1s/step\n",
            "Processing image 666736_1168008_12352757_Left Field 2.JPG : , trial 4, color channel blue, resize function imgResize_secondary\n",
            "1/1 [==============================] - 1s 1s/step\n",
            "Raw Image 666736_1168008_12352757_Left Field 2.JPG saved  at ./output/Cropped_High_Resolution_9YS2_666736_1168008_12352757_Left Field 2_V9J0.JPG.\n",
            "SVG for 9YS2 saved.\n",
            "Processing image 666736_1168008_12352766_Right Field 2.JPG : , trial 1, color channel grey, resize function imgResize_primary\n",
            "1/1 [==============================] - 1s 1s/step\n",
            "SVG for 9YSC saved.\n",
            "Image 666736_1168008_12352766_Right Field 2.JPG (grey) cropped and saved at ./output/Cropped_High_Resolution_9YSC_666736_1168008_12352766_Right Field 2_V9J0.JPG.\n",
            "Processing image 666736_924539_10399838_Left Field 2.JPG : , trial 1, color channel grey, resize function imgResize_primary\n",
            "1/1 [==============================] - 1s 1s/step\n"
          ]
        },
        {
          "output_type": "stream",
          "name": "stderr",
          "text": [
            "2024-02-01 23:21:52,462 - INFO - Initializing uploader: GenericUploader v1.6.4 [Python 3.10.12, Linux-6.1.58+-x86_64-with-glibc2.35]\n",
            "2024-02-01 23:21:52,464 - INFO - Creating client of type <class 'globus_sdk.services.auth.client.native_client.NativeAppAuthClient'> for service \"auth\"\n",
            "2024-02-01 23:21:52,468 - INFO - Finished initializing AuthLoginClient. client_id='8ef15ba9-2b4a-469c-a163-7fd910c9d111', type(authorizer)=<class 'globus_sdk.authorizers.base.NullAuthorizer'>\n",
            "2024-02-01 23:21:52,473 - INFO - Checking for updated configuration...\n"
          ]
        },
        {
          "output_type": "stream",
          "name": "stdout",
          "text": [
            "SVG for 9YSP saved.\n",
            "Image 666736_924539_10399838_Left Field 2.JPG (grey) cropped and saved at ./output/Cropped_High_Resolution_9YSP_666736_924539_10399838_Left Field 2_V9J0.JPG.\n",
            "Number of images in CSV: 5\n",
            "Number of images in directory: 18\n",
            "Number of images in output directory: 7\n",
            "Number of cropped images: 5\n",
            "--- 192.50071740150452 seconds ---\n",
            "Exeption type: None, Exeption value: None, Exeption traceback: None\n"
          ]
        },
        {
          "output_type": "stream",
          "name": "stderr",
          "text": [
            "2024-02-01 23:21:53,458 - INFO - Updated configuration found.\n",
            "2024-02-01 23:21:53,461 - INFO - Scanning files in directory [/content/ExecutionAssets]...\n",
            "2024-02-01 23:21:53,463 - INFO - File upload processing completed: 0 files were uploaded successfully, 0 files failed to upload due to errors, 0 files were skipped because they did not satisfy the matching criteria of the configuration.\n"
          ]
        }
      ]
    },
    {
      "cell_type": "code",
      "execution_count": 9,
      "metadata": {
        "id": "vT2etwRNVmjo"
      },
      "outputs": [],
      "source": [
        "# @title ML result analysis\n",
        "import numpy as np\n",
        "output_csv_path = \"output/output.csv\"\n",
        "cropped_info = pd.read_csv(output_csv_path)[[\"Image RID\", \"Worked Image Cropping Function\"]]\n",
        "\n",
        "cropped_info['Cropped'] = np.where(cropped_info['Worked Image Cropping Function'] == 'Raw Cropped to Eye', 'False', 'True')\n",
        "cropped_info = cropped_info[[\"Image RID\", \"Cropped\"]]\n",
        "cropped_info.rename(columns={'Image RID': 'RID'}, inplace=True)"
      ]
    },
    {
      "cell_type": "code",
      "execution_count": 11,
      "metadata": {
        "colab": {
          "base_uri": "https://localhost:8080/"
        },
        "id": "PodDp0IvObZP",
        "outputId": "a4ae6590-7aaa-4e01-e7ea-eeb275baffea"
      },
      "outputs": [
        {
          "output_type": "stream",
          "name": "stderr",
          "text": [
            "2024-02-01 23:24:23,520 - INFO - Initializing uploader: GenericUploader v1.6.4 [Python 3.10.12, Linux-6.1.58+-x86_64-with-glibc2.35]\n",
            "2024-02-01 23:24:23,527 - INFO - Creating client of type <class 'globus_sdk.services.auth.client.native_client.NativeAppAuthClient'> for service \"auth\"\n",
            "2024-02-01 23:24:23,531 - INFO - Finished initializing AuthLoginClient. client_id='8ef15ba9-2b4a-469c-a163-7fd910c9d111', type(authorizer)=<class 'globus_sdk.authorizers.base.NullAuthorizer'>\n",
            "2024-02-01 23:24:23,533 - INFO - Checking for updated configuration...\n",
            "2024-02-01 23:24:24,577 - INFO - Updated configuration found.\n",
            "2024-02-01 23:24:24,585 - INFO - Attempting to acquire a dependent lock in [/content/output/2-5N0Y]\n",
            "2024-02-01 23:24:24,592 - INFO - Scanning files in directory [/content/output/2-5N0Y]...\n",
            "2024-02-01 23:24:24,596 - INFO - Including file: [/content/output/2-5N0Y/2-5N4E_9YSC_imgResize_primary.svg].\n",
            "2024-02-01 23:24:24,600 - INFO - Including file: [/content/output/2-5N0Y/2-5N4E_8GER_imgResize_primary.svg].\n",
            "2024-02-01 23:24:24,606 - INFO - Including file: [/content/output/2-5N0Y/2-5N4E_8GET_imgResize_secondary.svg].\n",
            "2024-02-01 23:24:24,609 - INFO - Including file: [/content/output/2-5N0Y/2-5N4E_9YS2_Raw_Cropped_to_Eye.svg].\n",
            "2024-02-01 23:24:24,613 - INFO - Including file: [/content/output/2-5N0Y/2-5N4E_9YSP_imgResize_primary.svg].\n",
            "2024-02-01 23:24:24,623 - INFO - Processing: [/content/output/2-5N0Y/2-5N4E_9YSC_imgResize_primary.svg]\n",
            "2024-02-01 23:24:24,625 - INFO - Computing checksums for file: [/content/output/2-5N0Y/2-5N4E_9YSC_imgResize_primary.svg]. Please wait...\n",
            "2024-02-01 23:24:24,720 - INFO - Uploading file: [/content/output/2-5N0Y/2-5N4E_9YSC_imgResize_primary.svg] to host https://dev.eye-ai.org. Please wait...\n",
            "2024-02-01 23:24:25,394 - INFO - Processing: [/content/output/2-5N0Y/2-5N4E_8GER_imgResize_primary.svg]\n",
            "2024-02-01 23:24:25,401 - INFO - Computing checksums for file: [/content/output/2-5N0Y/2-5N4E_8GER_imgResize_primary.svg]. Please wait...\n",
            "2024-02-01 23:24:25,486 - INFO - Uploading file: [/content/output/2-5N0Y/2-5N4E_8GER_imgResize_primary.svg] to host https://dev.eye-ai.org. Please wait...\n",
            "2024-02-01 23:24:25,660 - INFO - Processing: [/content/output/2-5N0Y/2-5N4E_8GET_imgResize_secondary.svg]\n",
            "2024-02-01 23:24:25,667 - INFO - Computing checksums for file: [/content/output/2-5N0Y/2-5N4E_8GET_imgResize_secondary.svg]. Please wait...\n",
            "2024-02-01 23:24:25,749 - INFO - Uploading file: [/content/output/2-5N0Y/2-5N4E_8GET_imgResize_secondary.svg] to host https://dev.eye-ai.org. Please wait...\n",
            "2024-02-01 23:24:25,936 - INFO - Processing: [/content/output/2-5N0Y/2-5N4E_9YS2_Raw_Cropped_to_Eye.svg]\n",
            "2024-02-01 23:24:25,943 - INFO - Computing checksums for file: [/content/output/2-5N0Y/2-5N4E_9YS2_Raw_Cropped_to_Eye.svg]. Please wait...\n",
            "2024-02-01 23:24:26,029 - INFO - Uploading file: [/content/output/2-5N0Y/2-5N4E_9YS2_Raw_Cropped_to_Eye.svg] to host https://dev.eye-ai.org. Please wait...\n",
            "2024-02-01 23:24:26,203 - INFO - Processing: [/content/output/2-5N0Y/2-5N4E_9YSP_imgResize_primary.svg]\n",
            "2024-02-01 23:24:26,210 - INFO - Computing checksums for file: [/content/output/2-5N0Y/2-5N4E_9YSP_imgResize_primary.svg]. Please wait...\n",
            "2024-02-01 23:24:26,292 - INFO - Uploading file: [/content/output/2-5N0Y/2-5N4E_9YSP_imgResize_primary.svg] to host https://dev.eye-ai.org. Please wait...\n",
            "2024-02-01 23:24:26,468 - INFO - File upload processing completed: 5 files were uploaded successfully, 0 files failed to upload due to errors, 0 files were skipped because they did not satisfy the matching criteria of the configuration.\n"
          ]
        }
      ],
      "source": [
        "# @title Upload ML results\n",
        "# upload cropping bounding box\n",
        "EA.upload_assets(f'./output/{configuration_records[\"process\"][0]}')\n",
        "\n",
        "# upload cropping metadata\n",
        "EA.update_image_table(cropped_info)"
      ]
    },
    {
      "cell_type": "code",
      "source": [],
      "metadata": {
        "id": "Q8QMtZI_Volr"
      },
      "execution_count": null,
      "outputs": []
    }
  ],
  "metadata": {
    "colab": {
      "provenance": [],
      "include_colab_link": true
    },
    "kernelspec": {
      "display_name": "Python 3",
      "name": "python3"
    },
    "language_info": {
      "name": "python"
    }
  },
  "nbformat": 4,
  "nbformat_minor": 0
}