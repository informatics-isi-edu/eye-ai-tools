{
  "cells": [
    {
      "cell_type": "markdown",
      "metadata": {
        "id": "view-in-github",
        "colab_type": "text"
      },
      "source": [
        "<a href=\"https://colab.research.google.com/github/informatics-isi-edu/eye-ai-tools/blob/main/notebooks/Eye_ai_workflow_temp.ipynb\" target=\"_parent\"><img src=\"https://colab.research.google.com/assets/colab-badge.svg\" alt=\"Open In Colab\"/></a>"
      ]
    },
    {
      "cell_type": "code",
      "execution_count": 2,
      "metadata": {
        "id": "qBNfD8vlKgev"
      },
      "outputs": [],
      "source": [
        "# Prerequisites\n",
        "!pip install git+https://github.com/fair-research/bdbag\n",
        "!pip install git+https://github.com/informatics-isi-edu/deriva-py\n",
        "!pip install 'git+https://github.com/informatics-isi-edu/eye-ai-tools' --upgrade --force\n",
        "!pip install 'git+https://github.com/informatics-isi-edu/deriva-ml' --upgrade --force\n",
        "!pip install git+https://github.com/informatics-isi-edu/eye-ai-ml\n",
        "!pip install pydantic --upgrade --force\n",
        "\n",
        "import json\n",
        "import os\n",
        "from eye_ai import EyeAI\n",
        "import pandas as pd\n",
        "from pathlib import Path, PurePath\n",
        "\n"
      ]
    },
    {
      "cell_type": "code",
      "execution_count": 3,
      "metadata": {
        "id": "qw-bW4bORlqQ"
      },
      "outputs": [],
      "source": [
        "# @title Login to DERIVA via Globus Auth\n",
        "\n",
        "DEBUG_MODE = True #@param [\"False\", \"True\"] {type:\"raw\"}\n",
        "catalog_id = \"eye-ai\" #@param\n",
        "DEFAULT_SERVER = 'dev.eye-ai.org' if DEBUG_MODE else 'www.eye-ai.org'\n",
        "\n",
        "!deriva-globus-auth-utils login --no-browser --host {DEFAULT_SERVER}\n"
      ]
    },
    {
      "cell_type": "code",
      "source": [
        "EA = EyeAI(hostname = DEFAULT_SERVER, catalog_id = catalog_id )"
      ],
      "metadata": {
        "id": "A1Cg1lLQiSk4"
      },
      "execution_count": null,
      "outputs": []
    },
    {
      "cell_type": "code",
      "execution_count": 4,
      "metadata": {
        "id": "kCIfOvbUXTGB"
      },
      "outputs": [],
      "source": [
        "# @title Initiate an Execution\n",
        "config_rid = \"2-5N6Y\" #@param {type: \"string\"}\n",
        "# RID of the configuration file from the Execution_Asset table\n",
        "configuration_records, cm = EA.execution_init(configuration_rid=config_rid)\n",
        "configuration_records\n"
      ]
    },
    {
      "cell_type": "code",
      "execution_count": 5,
      "metadata": {
        "id": "iUuTRgyg7Ys1"
      },
      "outputs": [],
      "source": [
        "# @title Data Preprocessing\n",
        "bag_path1 = configuration_records['bag_paths'][0]"
      ]
    },
    {
      "cell_type": "code",
      "source": [
        "# @title Execute ML Process\n",
        "from eye_ai_ml.glaucoma.model-file import ml_model_call\n",
        "with cm as exec:\n",
        "  ml_model_call(\n",
        "      param1,\n",
        "      param2,\n",
        "      ...\n",
        "      )"
      ],
      "metadata": {
        "id": "YIJj6Uj73sOm"
      },
      "execution_count": 6,
      "outputs": []
    },
    {
      "cell_type": "code",
      "execution_count": null,
      "metadata": {
        "id": "vT2etwRNVmjo"
      },
      "outputs": [],
      "source": [
        "# @title ML result analysis"
      ]
    },
    {
      "cell_type": "code",
      "execution_count": 7,
      "metadata": {
        "id": "PodDp0IvObZP"
      },
      "outputs": [],
      "source": [
        "# @title Upload ML results\n",
        "# Upload assets if needed\n",
        "EA.upload_assets('path/to/the/assets/folder')\n",
        "\n",
        "# Update table if needed\n",
        "EA.update_image_table()"
      ]
    },
    {
      "cell_type": "code",
      "source": [],
      "metadata": {
        "id": "Q8QMtZI_Volr"
      },
      "execution_count": null,
      "outputs": []
    }
  ],
  "metadata": {
    "colab": {
      "provenance": [],
      "include_colab_link": true
    },
    "kernelspec": {
      "display_name": "Python 3",
      "name": "python3"
    },
    "language_info": {
      "name": "python"
    }
  },
  "nbformat": 4,
  "nbformat_minor": 0
}