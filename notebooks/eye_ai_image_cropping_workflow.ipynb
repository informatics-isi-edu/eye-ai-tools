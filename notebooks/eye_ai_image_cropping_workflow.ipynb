{
  "cells": [
    {
      "cell_type": "markdown",
      "metadata": {
        "id": "view-in-github",
        "colab_type": "text"
      },
      "source": [
        "<a href=\"https://colab.research.google.com/github/informatics-isi-edu/eye-ai-tools/blob/main/notebooks/eye_ai_image_cropping_workflow.ipynb\" target=\"_parent\"><img src=\"https://colab.research.google.com/assets/colab-badge.svg\" alt=\"Open In Colab\"/></a>"
      ]
    },
    {
      "cell_type": "code",
      "execution_count": 1,
      "metadata": {
        "colab": {
          "base_uri": "https://localhost:8080/"
        },
        "id": "qBNfD8vlKgev",
        "outputId": "b39a3e2f-1a15-43c2-af43-85c0b77abe0e"
      },
      "outputs": [
        {
          "output_type": "stream",
          "name": "stdout",
          "text": [
            "Collecting git+https://github.com/fair-research/bdbag\n",
            "  Cloning https://github.com/fair-research/bdbag to /tmp/pip-req-build-3y7z2144\n",
            "  Running command git clone --filter=blob:none --quiet https://github.com/fair-research/bdbag /tmp/pip-req-build-3y7z2144\n",
            "  Resolved https://github.com/fair-research/bdbag to commit f8d81362ceaff7a0328dd89257655cfcb3f7d111\n",
            "  Preparing metadata (setup.py) ... \u001b[?25l\u001b[?25hdone\n",
            "Requirement already satisfied: pytz in /usr/local/lib/python3.10/dist-packages (from bdbag==1.7.2) (2023.3.post1)\n",
            "Requirement already satisfied: tzlocal in /usr/local/lib/python3.10/dist-packages (from bdbag==1.7.2) (5.2)\n",
            "Requirement already satisfied: certifi in /usr/local/lib/python3.10/dist-packages (from bdbag==1.7.2) (2023.11.17)\n",
            "Requirement already satisfied: packaging in /usr/local/lib/python3.10/dist-packages (from bdbag==1.7.2) (23.2)\n",
            "Requirement already satisfied: requests>=2.7.0 in /usr/local/lib/python3.10/dist-packages (from bdbag==1.7.2) (2.31.0)\n",
            "Collecting setuptools_scm<6.0 (from bdbag==1.7.2)\n",
            "  Downloading setuptools_scm-5.0.2-py2.py3-none-any.whl (29 kB)\n",
            "Collecting bagit==1.8.1 (from bdbag==1.7.2)\n",
            "  Downloading bagit-1.8.1-py2.py3-none-any.whl (35 kB)\n",
            "Collecting bagit-profile==1.3.1 (from bdbag==1.7.2)\n",
            "  Downloading bagit_profile-1.3.1-py3-none-any.whl (14 kB)\n",
            "Requirement already satisfied: charset-normalizer<4,>=2 in /usr/local/lib/python3.10/dist-packages (from requests>=2.7.0->bdbag==1.7.2) (3.3.2)\n",
            "Requirement already satisfied: idna<4,>=2.5 in /usr/local/lib/python3.10/dist-packages (from requests>=2.7.0->bdbag==1.7.2) (3.6)\n",
            "Requirement already satisfied: urllib3<3,>=1.21.1 in /usr/local/lib/python3.10/dist-packages (from requests>=2.7.0->bdbag==1.7.2) (2.0.7)\n",
            "Requirement already satisfied: setuptools in /usr/local/lib/python3.10/dist-packages (from setuptools_scm<6.0->bdbag==1.7.2) (67.7.2)\n",
            "Building wheels for collected packages: bdbag\n",
            "  Building wheel for bdbag (setup.py) ... \u001b[?25l\u001b[?25hdone\n",
            "  Created wheel for bdbag: filename=bdbag-1.7.2-py2.py3-none-any.whl size=74828 sha256=e396878bb27ff38fb802e4b61e922ddd6bd6e0f2a62e40c0f7975de071e41c7d\n",
            "  Stored in directory: /tmp/pip-ephem-wheel-cache-amb8lxtj/wheels/e6/37/a1/ed335483cf88440ed32b8f918cc20fa31b2ee2c81dd9504f7a\n",
            "Successfully built bdbag\n",
            "Installing collected packages: bagit, setuptools_scm, bagit-profile, bdbag\n",
            "Successfully installed bagit-1.8.1 bagit-profile-1.3.1 bdbag-1.7.2 setuptools_scm-5.0.2\n",
            "Collecting git+https://github.com/informatics-isi-edu/deriva-py\n",
            "  Cloning https://github.com/informatics-isi-edu/deriva-py to /tmp/pip-req-build-xrwa5sd6\n",
            "  Running command git clone --filter=blob:none --quiet https://github.com/informatics-isi-edu/deriva-py /tmp/pip-req-build-xrwa5sd6\n",
            "  Resolved https://github.com/informatics-isi-edu/deriva-py to commit 3dda9d8bda15f00434263d3509ef33895fdbdfd5\n",
            "  Preparing metadata (setup.py) ... \u001b[?25l\u001b[?25hdone\n",
            "Requirement already satisfied: setuptools>=20.2 in /usr/local/lib/python3.10/dist-packages (from deriva==1.6.4) (67.7.2)\n",
            "Requirement already satisfied: packaging in /usr/local/lib/python3.10/dist-packages (from deriva==1.6.4) (23.2)\n",
            "Requirement already satisfied: requests in /usr/local/lib/python3.10/dist-packages (from deriva==1.6.4) (2.31.0)\n",
            "Requirement already satisfied: certifi in /usr/local/lib/python3.10/dist-packages (from deriva==1.6.4) (2023.11.17)\n",
            "Collecting pika (from deriva==1.6.4)\n",
            "  Downloading pika-1.3.2-py3-none-any.whl (155 kB)\n",
            "\u001b[2K     \u001b[90m━━━━━━━━━━━━━━━━━━━━━━━━━━━━━━━━━━━━━━━━\u001b[0m \u001b[32m155.4/155.4 kB\u001b[0m \u001b[31m3.8 MB/s\u001b[0m eta \u001b[36m0:00:00\u001b[0m\n",
            "\u001b[?25hCollecting urllib3<2.0,>=1.26.0 (from deriva==1.6.4)\n",
            "  Downloading urllib3-1.26.18-py2.py3-none-any.whl (143 kB)\n",
            "\u001b[2K     \u001b[90m━━━━━━━━━━━━━━━━━━━━━━━━━━━━━━━━━━━━━━━━\u001b[0m \u001b[32m143.8/143.8 kB\u001b[0m \u001b[31m8.8 MB/s\u001b[0m eta \u001b[36m0:00:00\u001b[0m\n",
            "\u001b[?25hCollecting portalocker>=1.2.1 (from deriva==1.6.4)\n",
            "  Downloading portalocker-2.8.2-py3-none-any.whl (17 kB)\n",
            "Requirement already satisfied: bdbag>=1.6.0 in /usr/local/lib/python3.10/dist-packages (from deriva==1.6.4) (1.7.2)\n",
            "Collecting globus_sdk<4,>=3 (from deriva==1.6.4)\n",
            "  Downloading globus_sdk-3.35.0-py3-none-any.whl (292 kB)\n",
            "\u001b[2K     \u001b[90m━━━━━━━━━━━━━━━━━━━━━━━━━━━━━━━━━━━━━━━━\u001b[0m \u001b[32m292.4/292.4 kB\u001b[0m \u001b[31m10.1 MB/s\u001b[0m eta \u001b[36m0:00:00\u001b[0m\n",
            "\u001b[?25hCollecting fair-research-login>=0.2.6 (from deriva==1.6.4)\n",
            "  Downloading fair_research_login-0.3.1-py3-none-any.whl (39 kB)\n",
            "Collecting fair-identifiers-client>=0.5 (from deriva==1.6.4)\n",
            "  Downloading fair_identifiers_client-0.5.1-py3-none-any.whl (45 kB)\n",
            "\u001b[2K     \u001b[90m━━━━━━━━━━━━━━━━━━━━━━━━━━━━━━━━━━━━━━━━\u001b[0m \u001b[32m45.7/45.7 kB\u001b[0m \u001b[31m5.0 MB/s\u001b[0m eta \u001b[36m0:00:00\u001b[0m\n",
            "\u001b[?25hRequirement already satisfied: jsonschema>=3.1 in /usr/local/lib/python3.10/dist-packages (from deriva==1.6.4) (4.19.2)\n",
            "Requirement already satisfied: pytz in /usr/local/lib/python3.10/dist-packages (from bdbag>=1.6.0->deriva==1.6.4) (2023.3.post1)\n",
            "Requirement already satisfied: tzlocal in /usr/local/lib/python3.10/dist-packages (from bdbag>=1.6.0->deriva==1.6.4) (5.2)\n",
            "Requirement already satisfied: setuptools-scm<6.0 in /usr/local/lib/python3.10/dist-packages (from bdbag>=1.6.0->deriva==1.6.4) (5.0.2)\n",
            "Requirement already satisfied: bagit==1.8.1 in /usr/local/lib/python3.10/dist-packages (from bdbag>=1.6.0->deriva==1.6.4) (1.8.1)\n",
            "Requirement already satisfied: bagit-profile==1.3.1 in /usr/local/lib/python3.10/dist-packages (from bdbag>=1.6.0->deriva==1.6.4) (1.3.1)\n",
            "Requirement already satisfied: six<2.0.0,>=1.10.0 in /usr/local/lib/python3.10/dist-packages (from fair-identifiers-client>=0.5->deriva==1.6.4) (1.16.0)\n",
            "Requirement already satisfied: pyjwt[crypto]<3.0.0,>=2.0.0 in /usr/lib/python3/dist-packages (from globus_sdk<4,>=3->deriva==1.6.4) (2.3.0)\n",
            "Requirement already satisfied: cryptography!=3.4.0,>=3.3.1 in /usr/local/lib/python3.10/dist-packages (from globus_sdk<4,>=3->deriva==1.6.4) (42.0.1)\n",
            "Requirement already satisfied: attrs>=22.2.0 in /usr/local/lib/python3.10/dist-packages (from jsonschema>=3.1->deriva==1.6.4) (23.2.0)\n",
            "Requirement already satisfied: jsonschema-specifications>=2023.03.6 in /usr/local/lib/python3.10/dist-packages (from jsonschema>=3.1->deriva==1.6.4) (2023.12.1)\n",
            "Requirement already satisfied: referencing>=0.28.4 in /usr/local/lib/python3.10/dist-packages (from jsonschema>=3.1->deriva==1.6.4) (0.32.1)\n",
            "Requirement already satisfied: rpds-py>=0.7.1 in /usr/local/lib/python3.10/dist-packages (from jsonschema>=3.1->deriva==1.6.4) (0.17.1)\n",
            "Requirement already satisfied: charset-normalizer<4,>=2 in /usr/local/lib/python3.10/dist-packages (from requests->deriva==1.6.4) (3.3.2)\n",
            "Requirement already satisfied: idna<4,>=2.5 in /usr/local/lib/python3.10/dist-packages (from requests->deriva==1.6.4) (3.6)\n",
            "Requirement already satisfied: cffi>=1.12 in /usr/local/lib/python3.10/dist-packages (from cryptography!=3.4.0,>=3.3.1->globus_sdk<4,>=3->deriva==1.6.4) (1.16.0)\n",
            "Requirement already satisfied: pycparser in /usr/local/lib/python3.10/dist-packages (from cffi>=1.12->cryptography!=3.4.0,>=3.3.1->globus_sdk<4,>=3->deriva==1.6.4) (2.21)\n",
            "Building wheels for collected packages: deriva\n",
            "  Building wheel for deriva (setup.py) ... \u001b[?25l\u001b[?25hdone\n",
            "  Created wheel for deriva: filename=deriva-1.6.4-py2.py3-none-any.whl size=212102 sha256=c1647954de1b14dfdc20a696d9f32680dd987a711243ff7066a892f68376df8d\n",
            "  Stored in directory: /tmp/pip-ephem-wheel-cache-d1eiqpox/wheels/f5/4a/e4/12bf545b4525249722e860b95e934babd35df222684152f80d\n",
            "Successfully built deriva\n",
            "Installing collected packages: urllib3, portalocker, pika, globus_sdk, fair-research-login, fair-identifiers-client, deriva\n",
            "  Attempting uninstall: urllib3\n",
            "    Found existing installation: urllib3 2.0.7\n",
            "    Uninstalling urllib3-2.0.7:\n",
            "      Successfully uninstalled urllib3-2.0.7\n",
            "Successfully installed deriva-1.6.4 fair-identifiers-client-0.5.1 fair-research-login-0.3.1 globus_sdk-3.35.0 pika-1.3.2 portalocker-2.8.2 urllib3-1.26.18\n",
            "Collecting git+https://github.com/informatics-isi-edu/eye-ai-tools\n",
            "  Cloning https://github.com/informatics-isi-edu/eye-ai-tools to /tmp/pip-req-build-2mjbav6k\n",
            "  Running command git clone --filter=blob:none --quiet https://github.com/informatics-isi-edu/eye-ai-tools /tmp/pip-req-build-2mjbav6k\n",
            "  Resolved https://github.com/informatics-isi-edu/eye-ai-tools to commit 934151ba0c767138ae9e97987c92a0fbd137b0e7\n",
            "  Installing build dependencies ... \u001b[?25l\u001b[?25hdone\n",
            "  Getting requirements to build wheel ... \u001b[?25l\u001b[?25hdone\n",
            "  Preparing metadata (pyproject.toml) ... \u001b[?25l\u001b[?25hdone\n",
            "Building wheels for collected packages: eye-ai\n",
            "  Building wheel for eye-ai (pyproject.toml) ... \u001b[?25l\u001b[?25hdone\n",
            "  Created wheel for eye-ai: filename=eye_ai-0.0.1-py3-none-any.whl size=8788 sha256=06a77d00bfa23026e8d8fe6c0afe2789ada4573b66b495778dc693c697575131\n",
            "  Stored in directory: /tmp/pip-ephem-wheel-cache-1jf0nyux/wheels/b8/3d/ee/56cb93f0a37d21370f4ad75a02619f63503d0ba0c6987ccf30\n",
            "Successfully built eye-ai\n",
            "Installing collected packages: eye-ai\n",
            "Successfully installed eye-ai-0.0.1\n",
            "Collecting git+https://github.com/informatics-isi-edu/deriva-ml\n",
            "  Cloning https://github.com/informatics-isi-edu/deriva-ml to /tmp/pip-req-build-pcfqn7yz\n",
            "  Running command git clone --filter=blob:none --quiet https://github.com/informatics-isi-edu/deriva-ml /tmp/pip-req-build-pcfqn7yz\n",
            "  Resolved https://github.com/informatics-isi-edu/deriva-ml to commit cd78cddcce994c06bbbfca583104e686d9fdbbbf\n",
            "  Installing build dependencies ... \u001b[?25l\u001b[?25hdone\n",
            "  Getting requirements to build wheel ... \u001b[?25l\u001b[?25hdone\n",
            "  Preparing metadata (pyproject.toml) ... \u001b[?25l\u001b[?25hdone\n",
            "Building wheels for collected packages: deriva-ml\n",
            "  Building wheel for deriva-ml (pyproject.toml) ... \u001b[?25l\u001b[?25hdone\n",
            "  Created wheel for deriva-ml: filename=deriva_ml-0.0.1-py3-none-any.whl size=12198 sha256=6b024af68c1aa0916ef3fa6e0979d086c6cd1b568e1f357fe2e3992b644236c0\n",
            "  Stored in directory: /tmp/pip-ephem-wheel-cache-ffeas5r5/wheels/5e/44/fc/69aec1f5d3789673392eb399c637044c66aa264ce8ec4b43a7\n",
            "Successfully built deriva-ml\n",
            "Installing collected packages: deriva-ml\n",
            "Successfully installed deriva-ml-0.0.1\n"
          ]
        }
      ],
      "source": [
        "# Prerequisites\n",
        "!pip install git+https://github.com/fair-research/bdbag\n",
        "!pip install git+https://github.com/informatics-isi-edu/deriva-py\n",
        "!pip install 'git+https://github.com/informatics-isi-edu/eye-ai-tools' --upgrade --force\n",
        "!pip install 'git+https://github.com/informatics-isi-edu/deriva-ml' --upgrade --force\n",
        "\n",
        "import json\n",
        "import os\n",
        "from eye_ai import EyeAI\n",
        "import pandas as pd\n",
        "\n"
      ]
    },
    {
      "cell_type": "code",
      "execution_count": 2,
      "metadata": {
        "colab": {
          "base_uri": "https://localhost:8080/"
        },
        "id": "qw-bW4bORlqQ",
        "outputId": "9182b6b0-3a82-4471-ee43-009d40c6c5c0"
      },
      "outputs": [
        {
          "output_type": "stream",
          "name": "stdout",
          "text": [
            "2024-01-31 23:22:02,692 - INFO - No default configuration file found, attempting to create one at: /root/.deriva/config.json\n",
            "2024-01-31 23:22:03,448 - INFO - NoSavedTokens: No tokens were loaded\n",
            "Please paste the following URL in a browser:\n",
            "https://auth.globus.org/v2/oauth2/authorize?client_id=8ef15ba9-2b4a-469c-a163-7fd910c9d111&redirect_uri=https%3A%2F%2Fauth.globus.org%2Fv2%2Fweb%2Fauth-code&scope=https%3A%2F%2Fauth.globus.org%2Fscopes%2Fdev.eye-ai.org%2Fderiva_all+urn%3Aglobus%3Aauth%3Ascope%3Agroups.api.globus.org%3Aview_my_groups_and_memberships+openid&state=_default&response_type=code&code_challenge=tQrE3qk6P8PqMBGHZNsdUBqmfF6aZyKF3t1bz6yge1I&code_challenge_method=S256&access_type=online&prefill_named_grant=Login+from+deriva-client+on+a8637d751dfa+%5BLinux-6.1.58%2B-x86_64-with-glibc2.35%5D+to+hosts+%5Bdev.eye-ai.org%5D+with+requested+scopes+%5Bhttps%3A%2F%2Fauth.globus.org%2Fscopes%2Fdev.eye-ai.org%2Fderiva_all%2C+urn%3Aglobus%3Aauth%3Ascope%3Agroups.api.globus.org%3Aview_my_groups_and_memberships%2C+openid%5D+\n",
            "Please Paste your Auth Code Below: \n",
            "82QYbztmMB2MdobyfHnttxh6CNGKtX\n",
            "Login Successful\n"
          ]
        }
      ],
      "source": [
        "# @title login to DERIVA via Globus Auth\n",
        "\n",
        "DEBUG_MODE = True # False #@param\n",
        "catalog_id = \"eye-ai\" #@param\n",
        "DEFAULT_SERVER = 'dev.eye-ai.org' if DEBUG_MODE else 'www.eye-ai.org'\n",
        "\n",
        "!deriva-globus-auth-utils login --no-browser --host {DEFAULT_SERVER}\n"
      ]
    },
    {
      "cell_type": "code",
      "source": [
        "EA = EyeAI(hostname = DEFAULT_SERVER, catalog_id = catalog_id )"
      ],
      "metadata": {
        "id": "A1Cg1lLQiSk4"
      },
      "execution_count": 3,
      "outputs": []
    },
    {
      "cell_type": "code",
      "execution_count": 5,
      "metadata": {
        "id": "kCIfOvbUXTGB"
      },
      "outputs": [],
      "source": [
        "# @title Initiate an Execution\n",
        "metadata_records, cm = EA.execution_init(metadata_rid=\"2-5N48\")\n",
        "metadata_records\n"
      ]
    },
    {
      "cell_type": "code",
      "execution_count": 16,
      "metadata": {
        "colab": {
          "base_uri": "https://localhost:8080/"
        },
        "id": "ggE1q_I87XWC",
        "outputId": "77491945-dede-4e0e-e1e6-0bfffd96b448"
      },
      "outputs": [
        {
          "output_type": "stream",
          "name": "stdout",
          "text": [
            "fatal: destination path 'eye-ai-ml' already exists and is not an empty directory.\n",
            "fatal: destination path 'eye-ai-ml' already exists and is not an empty directory.\n"
          ]
        }
      ],
      "source": [
        "# @title Clone github repo\n",
        "for proc in EA.configuration.process:\n",
        "  !git clone https://github.com/{proc.owner}/{proc.repo}.git"
      ]
    },
    {
      "cell_type": "code",
      "execution_count": 7,
      "metadata": {
        "colab": {
          "base_uri": "https://localhost:8080/"
        },
        "id": "iUuTRgyg7Ys1",
        "outputId": "c0411276-84df-4fec-87a9-4477f96eaee7"
      },
      "outputs": [
        {
          "output_type": "stream",
          "name": "stdout",
          "text": [
            "5\n",
            "5\n"
          ]
        }
      ],
      "source": [
        "# @title Data Preprocessing (Filtering Image.csv for just Field_2 Images)\n",
        "\n",
        "# Selecting image of angle 2 (Field 2) -- Image angle vocab 2SK6;\n",
        "bag_path1 = metadata_records['bag_paths'][0]\n",
        "Dataset_Path = os.path.join(bag_path1, 'data/Image.csv')\n",
        "Dataset = pd.read_csv(Dataset_Path)\n",
        "\n",
        "Dataset_Field_2 = Dataset[Dataset['Image_Angle_Vocab'] == \"2SK6\"]\n",
        "\n",
        "# Dataset_Field_2.head()\n",
        "# for sanity check compare the filtered data length with just taking Filename column and filtering it with the same condition where it has Field 2 in it as a substring.\n",
        "\n",
        "print(len(Dataset_Field_2))\n",
        "print(len(Dataset[Dataset['Filename'].str.contains(\"Field 2\")]))\n",
        "\n",
        "file2_csv_path = f\"{bag_path1}_Field_2.csv\"\n",
        "Dataset_Field_2.to_csv(file2_csv_path, index=False)"
      ]
    },
    {
      "cell_type": "code",
      "execution_count": 24,
      "metadata": {
        "colab": {
          "base_uri": "https://localhost:8080/"
        },
        "id": "BObJgl4iSfUB",
        "outputId": "daace13f-5704-44a1-8c8d-487b26f7e3fb"
      },
      "outputs": [
        {
          "output_type": "stream",
          "name": "stdout",
          "text": [
            "2024-01-31 05:39:45.200072: E external/local_xla/xla/stream_executor/cuda/cuda_dnn.cc:9261] Unable to register cuDNN factory: Attempting to register factory for plugin cuDNN when one has already been registered\n",
            "2024-01-31 05:39:45.200139: E external/local_xla/xla/stream_executor/cuda/cuda_fft.cc:607] Unable to register cuFFT factory: Attempting to register factory for plugin cuFFT when one has already been registered\n",
            "2024-01-31 05:39:45.202254: E external/local_xla/xla/stream_executor/cuda/cuda_blas.cc:1515] Unable to register cuBLAS factory: Attempting to register factory for plugin cuBLAS when one has already been registered\n",
            "2024-01-31 05:39:45.214782: I tensorflow/core/platform/cpu_feature_guard.cc:182] This TensorFlow binary is optimized to use available CPU instructions in performance-critical operations.\n",
            "To enable the following instructions: AVX2 FMA, in other operations, rebuild TensorFlow with the appropriate compiler flags.\n",
            "2024-01-31 05:39:46.924660: W tensorflow/compiler/tf2tensorrt/utils/py_utils.cc:38] TF-TRT Warning: Could not find TensorRT\n",
            "Processing image 632534_873477_10000842_Left Field 2.jpg : , trial 1, color channel grey, resize function imgResize_primary\n",
            "1/1 [==============================] - 1s 1s/step\n",
            "SVG for 8GER saved.\n",
            "Image 632534_873477_10000842_Left Field 2.jpg (grey) cropped and saved at ../../output/Cropped_High_Resolution_8GER_632534_873477_10000842_Left Field 2_V9J0.jpg.\n",
            "Processing image 632534_873477_10000843_Right Field 2.jpg : , trial 1, color channel grey, resize function imgResize_primary\n",
            "1/1 [==============================] - 2s 2s/step\n",
            "Processing image 632534_873477_10000843_Right Field 2.jpg : , trial 2, color channel green, resize function imgResize_primary\n",
            "1/1 [==============================] - 1s 1s/step\n",
            "Processing image 632534_873477_10000843_Right Field 2.jpg : , trial 3, color channel red, resize function imgResize_primary\n",
            "1/1 [==============================] - 1s 1s/step\n",
            "Processing image 632534_873477_10000843_Right Field 2.jpg : , trial 4, color channel blue, resize function imgResize_primary\n",
            "1/1 [==============================] - 1s 1s/step\n",
            "Processing image 632534_873477_10000843_Right Field 2.jpg : , trial 1, color channel grey, resize function imgResize_secondary\n",
            "1/1 [==============================] - 1s 1s/step\n",
            "Processing image 632534_873477_10000843_Right Field 2.jpg : , trial 2, color channel green, resize function imgResize_secondary\n",
            "1/1 [==============================] - 1s 1s/step\n",
            "Processing image 632534_873477_10000843_Right Field 2.jpg : , trial 3, color channel red, resize function imgResize_secondary\n",
            "1/1 [==============================] - 1s 1s/step\n",
            "Processing image 632534_873477_10000843_Right Field 2.jpg : , trial 4, color channel blue, resize function imgResize_secondary\n",
            "1/1 [==============================] - 1s 1s/step\n",
            "Processing image 632534_873477_10000843_Right Field 2.jpg : , trial 1, color channel grey, resize function imgResize_primary\n",
            "1/1 [==============================] - 1s 1s/step\n",
            "Processing image 632534_873477_10000843_Right Field 2.jpg : , trial 2, color channel green, resize function imgResize_primary\n",
            "1/1 [==============================] - 1s 1s/step\n",
            "Processing image 632534_873477_10000843_Right Field 2.jpg : , trial 3, color channel red, resize function imgResize_primary\n",
            "1/1 [==============================] - 1s 1s/step\n",
            "Processing image 632534_873477_10000843_Right Field 2.jpg : , trial 4, color channel blue, resize function imgResize_primary\n",
            "1/1 [==============================] - 1s 1s/step\n",
            "Processing image 632534_873477_10000843_Right Field 2.jpg : , trial 1, color channel grey, resize function imgResize_secondary\n",
            "1/1 [==============================] - 1s 1s/step\n",
            "Processing image 632534_873477_10000843_Right Field 2.jpg : , trial 2, color channel green, resize function imgResize_secondary\n",
            "1/1 [==============================] - 2s 2s/step\n",
            "Processing image 632534_873477_10000843_Right Field 2.jpg : , trial 3, color channel red, resize function imgResize_secondary\n",
            "1/1 [==============================] - 1s 1s/step\n",
            "Processing image 632534_873477_10000843_Right Field 2.jpg : , trial 4, color channel blue, resize function imgResize_secondary\n",
            "1/1 [==============================] - 1s 1s/step\n",
            "Processing image 632534_873477_10000843_Right Field 2.jpg : , trial 1, color channel grey, resize function imgResize_primary\n",
            "1/1 [==============================] - 1s 1s/step\n",
            "Processing image 632534_873477_10000843_Right Field 2.jpg : , trial 2, color channel green, resize function imgResize_primary\n",
            "1/1 [==============================] - 1s 1s/step\n",
            "Processing image 632534_873477_10000843_Right Field 2.jpg : , trial 3, color channel red, resize function imgResize_primary\n",
            "1/1 [==============================] - 1s 1s/step\n",
            "Processing image 632534_873477_10000843_Right Field 2.jpg : , trial 4, color channel blue, resize function imgResize_primary\n",
            "1/1 [==============================] - 1s 1s/step\n",
            "Processing image 632534_873477_10000843_Right Field 2.jpg : , trial 1, color channel grey, resize function imgResize_secondary\n",
            "1/1 [==============================] - 1s 1s/step\n",
            "Processing image 632534_873477_10000843_Right Field 2.jpg : , trial 2, color channel green, resize function imgResize_secondary\n",
            "1/1 [==============================] - 1s 1s/step\n",
            "Processing image 632534_873477_10000843_Right Field 2.jpg : , trial 3, color channel red, resize function imgResize_secondary\n",
            "1/1 [==============================] - 1s 1s/step\n",
            "SVG for 8GET saved.\n",
            "Image 632534_873477_10000843_Right Field 2.jpg (red) cropped and saved at ../../output/Cropped_High_Resolution_8GET_632534_873477_10000843_Right Field 2_V9J0.jpg.\n",
            "Processing image 666736_1168008_12352757_Left Field 2.JPG : , trial 1, color channel grey, resize function imgResize_primary\n",
            "1/1 [==============================] - 1s 1s/step\n",
            "Processing image 666736_1168008_12352757_Left Field 2.JPG : , trial 2, color channel green, resize function imgResize_primary\n",
            "1/1 [==============================] - 1s 1s/step\n",
            "Processing image 666736_1168008_12352757_Left Field 2.JPG : , trial 3, color channel red, resize function imgResize_primary\n",
            "1/1 [==============================] - 1s 1s/step\n",
            "Processing image 666736_1168008_12352757_Left Field 2.JPG : , trial 4, color channel blue, resize function imgResize_primary\n",
            "1/1 [==============================] - 1s 1s/step\n",
            "Processing image 666736_1168008_12352757_Left Field 2.JPG : , trial 1, color channel grey, resize function imgResize_secondary\n",
            "1/1 [==============================] - 1s 1s/step\n",
            "Processing image 666736_1168008_12352757_Left Field 2.JPG : , trial 2, color channel green, resize function imgResize_secondary\n",
            "1/1 [==============================] - 1s 1s/step\n",
            "Processing image 666736_1168008_12352757_Left Field 2.JPG : , trial 3, color channel red, resize function imgResize_secondary\n",
            "1/1 [==============================] - 1s 1s/step\n",
            "Processing image 666736_1168008_12352757_Left Field 2.JPG : , trial 4, color channel blue, resize function imgResize_secondary\n",
            "1/1 [==============================] - 1s 1s/step\n",
            "Processing image 666736_1168008_12352757_Left Field 2.JPG : , trial 1, color channel grey, resize function imgResize_primary\n",
            "1/1 [==============================] - 1s 1s/step\n",
            "Processing image 666736_1168008_12352757_Left Field 2.JPG : , trial 2, color channel green, resize function imgResize_primary\n",
            "1/1 [==============================] - 1s 1s/step\n",
            "Processing image 666736_1168008_12352757_Left Field 2.JPG : , trial 3, color channel red, resize function imgResize_primary\n",
            "1/1 [==============================] - 2s 2s/step\n",
            "Processing image 666736_1168008_12352757_Left Field 2.JPG : , trial 4, color channel blue, resize function imgResize_primary\n",
            "1/1 [==============================] - 1s 1s/step\n",
            "Processing image 666736_1168008_12352757_Left Field 2.JPG : , trial 1, color channel grey, resize function imgResize_secondary\n",
            "1/1 [==============================] - 1s 1s/step\n",
            "Processing image 666736_1168008_12352757_Left Field 2.JPG : , trial 2, color channel green, resize function imgResize_secondary\n",
            "1/1 [==============================] - 1s 1s/step\n",
            "Processing image 666736_1168008_12352757_Left Field 2.JPG : , trial 3, color channel red, resize function imgResize_secondary\n",
            "1/1 [==============================] - 1s 1s/step\n",
            "Processing image 666736_1168008_12352757_Left Field 2.JPG : , trial 4, color channel blue, resize function imgResize_secondary\n",
            "1/1 [==============================] - 1s 1s/step\n",
            "Processing image 666736_1168008_12352757_Left Field 2.JPG : , trial 1, color channel grey, resize function imgResize_primary\n",
            "1/1 [==============================] - 1s 1s/step\n",
            "Processing image 666736_1168008_12352757_Left Field 2.JPG : , trial 2, color channel green, resize function imgResize_primary\n",
            "1/1 [==============================] - 1s 1s/step\n",
            "Processing image 666736_1168008_12352757_Left Field 2.JPG : , trial 3, color channel red, resize function imgResize_primary\n",
            "1/1 [==============================] - 1s 1s/step\n",
            "Processing image 666736_1168008_12352757_Left Field 2.JPG : , trial 4, color channel blue, resize function imgResize_primary\n",
            "1/1 [==============================] - 1s 1s/step\n",
            "Processing image 666736_1168008_12352757_Left Field 2.JPG : , trial 1, color channel grey, resize function imgResize_secondary\n",
            "1/1 [==============================] - 2s 2s/step\n",
            "Processing image 666736_1168008_12352757_Left Field 2.JPG : , trial 2, color channel green, resize function imgResize_secondary\n",
            "1/1 [==============================] - 1s 1s/step\n",
            "Processing image 666736_1168008_12352757_Left Field 2.JPG : , trial 3, color channel red, resize function imgResize_secondary\n",
            "1/1 [==============================] - 1s 1s/step\n",
            "Processing image 666736_1168008_12352757_Left Field 2.JPG : , trial 4, color channel blue, resize function imgResize_secondary\n",
            "1/1 [==============================] - 1s 1s/step\n",
            "Raw Image 666736_1168008_12352757_Left Field 2.JPG saved  at ../../output/Cropped_High_Resolution_9YS2_666736_1168008_12352757_Left Field 2_V9J0.JPG.\n",
            "SVG for 9YS2 saved.\n",
            "Processing image 666736_1168008_12352766_Right Field 2.JPG : , trial 1, color channel grey, resize function imgResize_primary\n",
            "1/1 [==============================] - 1s 1s/step\n",
            "SVG for 9YSC saved.\n",
            "Image 666736_1168008_12352766_Right Field 2.JPG (grey) cropped and saved at ../../output/Cropped_High_Resolution_9YSC_666736_1168008_12352766_Right Field 2_V9J0.JPG.\n",
            "Processing image 666736_924539_10399838_Left Field 2.JPG : , trial 1, color channel grey, resize function imgResize_primary\n",
            "1/1 [==============================] - 1s 1s/step\n",
            "SVG for 9YSP saved.\n",
            "Image 666736_924539_10399838_Left Field 2.JPG (grey) cropped and saved at ../../output/Cropped_High_Resolution_9YSP_666736_924539_10399838_Left Field 2_V9J0.JPG.\n",
            "Number of images in CSV: 5\n",
            "Number of images in directory: 18\n",
            "Number of images in output directory: 7\n",
            "Number of cropped images: 5\n",
            "--- 195.21738696098328 seconds ---\n"
          ]
        },
        {
          "output_type": "stream",
          "name": "stderr",
          "text": [
            "2024-01-31 05:43:06,378 - INFO - Initializing uploader: GenericUploader v1.6.4 [Python 3.10.12, Linux-6.1.58+-x86_64-with-glibc2.35]\n",
            "2024-01-31 05:43:06,384 - INFO - Creating client of type <class 'globus_sdk.services.auth.client.native_client.NativeAppAuthClient'> for service \"auth\"\n",
            "2024-01-31 05:43:06,387 - INFO - Finished initializing AuthLoginClient. client_id='8ef15ba9-2b4a-469c-a163-7fd910c9d111', type(authorizer)=<class 'globus_sdk.authorizers.base.NullAuthorizer'>\n",
            "2024-01-31 05:43:06,389 - INFO - Checking for updated configuration...\n"
          ]
        },
        {
          "output_type": "stream",
          "name": "stdout",
          "text": [
            "Exeption type: None, Exeption value: None, Exeption traceback: None\n"
          ]
        },
        {
          "output_type": "stream",
          "name": "stderr",
          "text": [
            "2024-01-31 05:43:07,209 - INFO - Updated configuration found.\n",
            "2024-01-31 05:43:07,212 - INFO - Attempting to acquire a dependent lock in [/content/ExecutionAssets]\n",
            "2024-01-31 05:43:07,214 - INFO - Scanning files in directory [/content/ExecutionAssets]...\n",
            "2024-01-31 05:43:07,218 - INFO - File upload processing completed: 0 files were uploaded successfully, 0 files failed to upload due to errors, 0 files were skipped because they did not satisfy the matching criteria of the configuration.\n"
          ]
        }
      ],
      "source": [
        "# @title Execute Proecss algorithm (Cropping)\n",
        "\n",
        "os.chdir('/content/eye-ai-ml/Glaucoma Suspect or No Glaaucoma/')\n",
        "with cm as exec:\n",
        "  !python 'Cleaned_Optic_Disc_Cropping_Algorithm_1_0_3_SVG.py' --bag_path '/content/Dataset_2-5K2C/data/assets/Image/' --csv_path '/content/Dataset_2-5K2C_Field_2.csv' --template_path '/content/template.jpg' --output_directory '../../output/' --model_path '/content/download/Merged_Cropped_Porper_or_Not_Dataset_TLBR_95_VGG19_Val_Accuracy.hdf5' --output_csv_path '../../output/output.csv' --process_rid {metadata_records[\"process\"][0]} --annotation_tag_rid {metadata_records[\"annotation_tag_rid\"]} --annotation_tag_name '{EA.configuration.annotation_tag.name}'\n",
        "\n",
        "os.chdir('/content')"
      ]
    },
    {
      "cell_type": "code",
      "execution_count": 25,
      "metadata": {
        "id": "vT2etwRNVmjo"
      },
      "outputs": [],
      "source": [
        "# @title ML result analysis\n",
        "import numpy as np\n",
        "output_csv_path = \"output/output.csv\"\n",
        "cropped_info = pd.read_csv(output_csv_path)[[\"Image RID\", \"Worked Image Cropping Function\"]]\n",
        "\n",
        "cropped_info['Cropped'] = np.where(cropped_info['Worked Image Cropping Function'] == 'Raw Cropped to Eye', 'False', 'True')\n",
        "cropped_info = cropped_info[[\"Image RID\", \"Cropped\"]]\n",
        "cropped_info.rename(columns={'Image RID': 'RID'}, inplace=True)"
      ]
    },
    {
      "cell_type": "code",
      "execution_count": 26,
      "metadata": {
        "colab": {
          "base_uri": "https://localhost:8080/"
        },
        "id": "PodDp0IvObZP",
        "outputId": "95c1bd7f-163f-41ac-daed-cd35bc71cd58"
      },
      "outputs": [
        {
          "output_type": "stream",
          "name": "stderr",
          "text": [
            "2024-01-31 05:43:53,807 - INFO - Initializing uploader: GenericUploader v1.6.4 [Python 3.10.12, Linux-6.1.58+-x86_64-with-glibc2.35]\n",
            "2024-01-31 05:43:53,810 - INFO - Creating client of type <class 'globus_sdk.services.auth.client.native_client.NativeAppAuthClient'> for service \"auth\"\n",
            "2024-01-31 05:43:53,813 - INFO - Finished initializing AuthLoginClient. client_id='8ef15ba9-2b4a-469c-a163-7fd910c9d111', type(authorizer)=<class 'globus_sdk.authorizers.base.NullAuthorizer'>\n",
            "2024-01-31 05:43:54,007 - INFO - Checking for updated configuration...\n",
            "2024-01-31 05:43:54,490 - INFO - Updated configuration found.\n",
            "2024-01-31 05:43:54,494 - INFO - Scanning files in directory [/content/output/2-5N0Y]...\n",
            "2024-01-31 05:43:54,502 - INFO - Including file: [/content/output/2-5N0Y/2-5N4E_8GET_imgResize_secondary.svg].\n",
            "2024-01-31 05:43:54,504 - INFO - Including file: [/content/output/2-5N0Y/2-5N4E_9YSC_imgResize_primary.svg].\n",
            "2024-01-31 05:43:54,507 - INFO - Including file: [/content/output/2-5N0Y/2-5N4E_9YS2_Raw_Cropped_to_Eye.svg].\n",
            "2024-01-31 05:43:54,511 - INFO - Including file: [/content/output/2-5N0Y/2-5N4E_8GER_imgResize_primary.svg].\n",
            "2024-01-31 05:43:54,513 - INFO - Including file: [/content/output/2-5N0Y/2-5N4E_9YSP_imgResize_primary.svg].\n",
            "2024-01-31 05:43:54,515 - INFO - Processing: [/content/output/2-5N0Y/2-5N4E_8GET_imgResize_secondary.svg]\n",
            "2024-01-31 05:43:54,516 - INFO - Computing checksums for file: [/content/output/2-5N0Y/2-5N4E_8GET_imgResize_secondary.svg]. Please wait...\n",
            "2024-01-31 05:43:54,580 - INFO - Uploading file: [/content/output/2-5N0Y/2-5N4E_8GET_imgResize_secondary.svg] to host https://dev.eye-ai.org. Please wait...\n",
            "2024-01-31 05:43:55,221 - INFO - Processing: [/content/output/2-5N0Y/2-5N4E_9YSC_imgResize_primary.svg]\n",
            "2024-01-31 05:43:55,223 - INFO - Computing checksums for file: [/content/output/2-5N0Y/2-5N4E_9YSC_imgResize_primary.svg]. Please wait...\n",
            "2024-01-31 05:43:55,281 - INFO - Uploading file: [/content/output/2-5N0Y/2-5N4E_9YSC_imgResize_primary.svg] to host https://dev.eye-ai.org. Please wait...\n",
            "2024-01-31 05:43:55,634 - INFO - Processing: [/content/output/2-5N0Y/2-5N4E_9YS2_Raw_Cropped_to_Eye.svg]\n",
            "2024-01-31 05:43:55,636 - INFO - Computing checksums for file: [/content/output/2-5N0Y/2-5N4E_9YS2_Raw_Cropped_to_Eye.svg]. Please wait...\n",
            "2024-01-31 05:43:55,690 - INFO - Uploading file: [/content/output/2-5N0Y/2-5N4E_9YS2_Raw_Cropped_to_Eye.svg] to host https://dev.eye-ai.org. Please wait...\n",
            "2024-01-31 05:43:55,949 - INFO - Processing: [/content/output/2-5N0Y/2-5N4E_8GER_imgResize_primary.svg]\n",
            "2024-01-31 05:43:55,951 - INFO - Computing checksums for file: [/content/output/2-5N0Y/2-5N4E_8GER_imgResize_primary.svg]. Please wait...\n",
            "2024-01-31 05:43:56,012 - INFO - Uploading file: [/content/output/2-5N0Y/2-5N4E_8GER_imgResize_primary.svg] to host https://dev.eye-ai.org. Please wait...\n",
            "2024-01-31 05:43:56,289 - INFO - Processing: [/content/output/2-5N0Y/2-5N4E_9YSP_imgResize_primary.svg]\n",
            "2024-01-31 05:43:56,292 - INFO - Computing checksums for file: [/content/output/2-5N0Y/2-5N4E_9YSP_imgResize_primary.svg]. Please wait...\n",
            "2024-01-31 05:43:56,348 - INFO - Uploading file: [/content/output/2-5N0Y/2-5N4E_9YSP_imgResize_primary.svg] to host https://dev.eye-ai.org. Please wait...\n",
            "2024-01-31 05:43:56,617 - INFO - File upload processing completed: 5 files were uploaded successfully, 0 files failed to upload due to errors, 0 files were skipped because they did not satisfy the matching criteria of the configuration.\n"
          ]
        }
      ],
      "source": [
        "# @title Upload ML results\n",
        "# upload cropping bounding box\n",
        "EA.upload_assets(f'/content/output/{metadata_records[\"process\"][0]}')\n",
        "\n",
        "# upload cropping metadata\n",
        "EA.update_image_table(cropped_info)"
      ]
    },
    {
      "cell_type": "code",
      "source": [],
      "metadata": {
        "id": "Q8QMtZI_Volr"
      },
      "execution_count": null,
      "outputs": []
    }
  ],
  "metadata": {
    "colab": {
      "provenance": [],
      "include_colab_link": true
    },
    "kernelspec": {
      "display_name": "Python 3",
      "name": "python3"
    },
    "language_info": {
      "name": "python"
    }
  },
  "nbformat": 4,
  "nbformat_minor": 0
}