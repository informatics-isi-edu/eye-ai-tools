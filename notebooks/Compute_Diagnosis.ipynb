{
  "cells": [
    {
      "cell_type": "markdown",
      "metadata": {
        "id": "view-in-github",
        "colab_type": "text"
      },
      "source": [
        "<a href=\"https://colab.research.google.com/github/informatics-isi-edu/eye-ai-tools/blob/main/notebooks/Compute_Diagnosis.ipynb\" target=\"_parent\"><img src=\"https://colab.research.google.com/assets/colab-badge.svg\" alt=\"Open In Colab\"/></a>"
      ]
    },
    {
      "cell_type": "code",
      "execution_count": 1,
      "metadata": {
        "id": "QxhaFfawhfE2",
        "outputId": "475e176e-67bb-45bc-f9d1-ae297e5c2b6a",
        "colab": {
          "base_uri": "https://localhost:8080/"
        }
      },
      "outputs": [
        {
          "output_type": "stream",
          "name": "stdout",
          "text": [
            "Collecting git+https://github.com/fair-research/bdbag\n",
            "  Cloning https://github.com/fair-research/bdbag to /tmp/pip-req-build-43cre3b8\n",
            "  Running command git clone --filter=blob:none --quiet https://github.com/fair-research/bdbag /tmp/pip-req-build-43cre3b8\n",
            "  Resolved https://github.com/fair-research/bdbag to commit 8ee285059caa71a0789179b8d57b03010ac00e7f\n",
            "  Preparing metadata (setup.py) ... \u001b[?25l\u001b[?25hdone\n",
            "Requirement already satisfied: pytz in /usr/local/lib/python3.10/dist-packages (from bdbag==1.7.1) (2023.3.post1)\n",
            "Requirement already satisfied: tzlocal in /usr/local/lib/python3.10/dist-packages (from bdbag==1.7.1) (5.2)\n",
            "Requirement already satisfied: certifi in /usr/local/lib/python3.10/dist-packages (from bdbag==1.7.1) (2023.11.17)\n",
            "Requirement already satisfied: packaging in /usr/local/lib/python3.10/dist-packages (from bdbag==1.7.1) (23.2)\n",
            "Requirement already satisfied: requests>=2.7.0 in /usr/local/lib/python3.10/dist-packages (from bdbag==1.7.1) (2.31.0)\n",
            "Collecting setuptools_scm<6.0 (from bdbag==1.7.1)\n",
            "  Downloading setuptools_scm-5.0.2-py2.py3-none-any.whl (29 kB)\n",
            "Collecting bagit==1.8.1 (from bdbag==1.7.1)\n",
            "  Downloading bagit-1.8.1-py2.py3-none-any.whl (35 kB)\n",
            "Collecting bagit-profile==1.3.1 (from bdbag==1.7.1)\n",
            "  Downloading bagit_profile-1.3.1-py3-none-any.whl (14 kB)\n",
            "Requirement already satisfied: charset-normalizer<4,>=2 in /usr/local/lib/python3.10/dist-packages (from requests>=2.7.0->bdbag==1.7.1) (3.3.2)\n",
            "Requirement already satisfied: idna<4,>=2.5 in /usr/local/lib/python3.10/dist-packages (from requests>=2.7.0->bdbag==1.7.1) (3.6)\n",
            "Requirement already satisfied: urllib3<3,>=1.21.1 in /usr/local/lib/python3.10/dist-packages (from requests>=2.7.0->bdbag==1.7.1) (2.0.7)\n",
            "Requirement already satisfied: setuptools in /usr/local/lib/python3.10/dist-packages (from setuptools_scm<6.0->bdbag==1.7.1) (67.7.2)\n",
            "Building wheels for collected packages: bdbag\n",
            "  Building wheel for bdbag (setup.py) ... \u001b[?25l\u001b[?25hdone\n",
            "  Created wheel for bdbag: filename=bdbag-1.7.1-py2.py3-none-any.whl size=72695 sha256=792d41b704e679cb6ee82fc7bccad6cc71dd4861ee403b486673ba97b2e8aa38\n",
            "  Stored in directory: /tmp/pip-ephem-wheel-cache-pxnqgxbi/wheels/e6/37/a1/ed335483cf88440ed32b8f918cc20fa31b2ee2c81dd9504f7a\n",
            "Successfully built bdbag\n",
            "Installing collected packages: bagit, setuptools_scm, bagit-profile, bdbag\n",
            "Successfully installed bagit-1.8.1 bagit-profile-1.3.1 bdbag-1.7.1 setuptools_scm-5.0.2\n",
            "Collecting deriva\n",
            "  Downloading deriva-1.6.3-py2.py3-none-any.whl (210 kB)\n",
            "\u001b[2K     \u001b[90m━━━━━━━━━━━━━━━━━━━━━━━━━━━━━━━━━━━━━━━━\u001b[0m \u001b[32m210.4/210.4 kB\u001b[0m \u001b[31m2.5 MB/s\u001b[0m eta \u001b[36m0:00:00\u001b[0m\n",
            "\u001b[?25hRequirement already satisfied: setuptools>=20.2 in /usr/local/lib/python3.10/dist-packages (from deriva) (67.7.2)\n",
            "Requirement already satisfied: packaging in /usr/local/lib/python3.10/dist-packages (from deriva) (23.2)\n",
            "Requirement already satisfied: requests in /usr/local/lib/python3.10/dist-packages (from deriva) (2.31.0)\n",
            "Requirement already satisfied: certifi in /usr/local/lib/python3.10/dist-packages (from deriva) (2023.11.17)\n",
            "Collecting pika (from deriva)\n",
            "  Downloading pika-1.3.2-py3-none-any.whl (155 kB)\n",
            "\u001b[2K     \u001b[90m━━━━━━━━━━━━━━━━━━━━━━━━━━━━━━━━━━━━━━━━\u001b[0m \u001b[32m155.4/155.4 kB\u001b[0m \u001b[31m16.5 MB/s\u001b[0m eta \u001b[36m0:00:00\u001b[0m\n",
            "\u001b[?25hCollecting urllib3<2.0,>=1.26.0 (from deriva)\n",
            "  Downloading urllib3-1.26.18-py2.py3-none-any.whl (143 kB)\n",
            "\u001b[2K     \u001b[90m━━━━━━━━━━━━━━━━━━━━━━━━━━━━━━━━━━━━━━━━\u001b[0m \u001b[32m143.8/143.8 kB\u001b[0m \u001b[31m17.3 MB/s\u001b[0m eta \u001b[36m0:00:00\u001b[0m\n",
            "\u001b[?25hCollecting portalocker>=1.2.1 (from deriva)\n",
            "  Downloading portalocker-2.8.2-py3-none-any.whl (17 kB)\n",
            "Requirement already satisfied: bdbag>=1.6.0 in /usr/local/lib/python3.10/dist-packages (from deriva) (1.7.1)\n",
            "Collecting globus-sdk<4 (from deriva)\n",
            "  Downloading globus_sdk-3.33.0.post0-py3-none-any.whl (296 kB)\n",
            "\u001b[2K     \u001b[90m━━━━━━━━━━━━━━━━━━━━━━━━━━━━━━━━━━━━━━━━\u001b[0m \u001b[32m296.8/296.8 kB\u001b[0m \u001b[31m27.6 MB/s\u001b[0m eta \u001b[36m0:00:00\u001b[0m\n",
            "\u001b[?25hCollecting fair-research-login>=0.2.6 (from deriva)\n",
            "  Downloading fair_research_login-0.3.1-py3-none-any.whl (39 kB)\n",
            "Collecting fair-identifiers-client>=0.5 (from deriva)\n",
            "  Downloading fair_identifiers_client-0.5.0-py3-none-any.whl (45 kB)\n",
            "\u001b[2K     \u001b[90m━━━━━━━━━━━━━━━━━━━━━━━━━━━━━━━━━━━━━━━━\u001b[0m \u001b[32m45.7/45.7 kB\u001b[0m \u001b[31m5.6 MB/s\u001b[0m eta \u001b[36m0:00:00\u001b[0m\n",
            "\u001b[?25hRequirement already satisfied: jsonschema>=3.1 in /usr/local/lib/python3.10/dist-packages (from deriva) (4.19.2)\n",
            "Requirement already satisfied: pytz in /usr/local/lib/python3.10/dist-packages (from bdbag>=1.6.0->deriva) (2023.3.post1)\n",
            "Requirement already satisfied: tzlocal in /usr/local/lib/python3.10/dist-packages (from bdbag>=1.6.0->deriva) (5.2)\n",
            "Requirement already satisfied: setuptools-scm<6.0 in /usr/local/lib/python3.10/dist-packages (from bdbag>=1.6.0->deriva) (5.0.2)\n",
            "Requirement already satisfied: bagit==1.8.1 in /usr/local/lib/python3.10/dist-packages (from bdbag>=1.6.0->deriva) (1.8.1)\n",
            "Requirement already satisfied: bagit-profile==1.3.1 in /usr/local/lib/python3.10/dist-packages (from bdbag>=1.6.0->deriva) (1.3.1)\n",
            "Requirement already satisfied: six<2.0.0,>=1.10.0 in /usr/local/lib/python3.10/dist-packages (from fair-identifiers-client>=0.5->deriva) (1.16.0)\n",
            "Requirement already satisfied: pyjwt[crypto]<3.0.0,>=2.0.0 in /usr/lib/python3/dist-packages (from globus-sdk<4->deriva) (2.3.0)\n",
            "Requirement already satisfied: cryptography!=3.4.0,>=3.3.1 in /usr/local/lib/python3.10/dist-packages (from globus-sdk<4->deriva) (41.0.7)\n",
            "Requirement already satisfied: attrs>=22.2.0 in /usr/local/lib/python3.10/dist-packages (from jsonschema>=3.1->deriva) (23.1.0)\n",
            "Requirement already satisfied: jsonschema-specifications>=2023.03.6 in /usr/local/lib/python3.10/dist-packages (from jsonschema>=3.1->deriva) (2023.11.2)\n",
            "Requirement already satisfied: referencing>=0.28.4 in /usr/local/lib/python3.10/dist-packages (from jsonschema>=3.1->deriva) (0.31.1)\n",
            "Requirement already satisfied: rpds-py>=0.7.1 in /usr/local/lib/python3.10/dist-packages (from jsonschema>=3.1->deriva) (0.13.2)\n",
            "Requirement already satisfied: charset-normalizer<4,>=2 in /usr/local/lib/python3.10/dist-packages (from requests->deriva) (3.3.2)\n",
            "Requirement already satisfied: idna<4,>=2.5 in /usr/local/lib/python3.10/dist-packages (from requests->deriva) (3.6)\n",
            "Requirement already satisfied: cffi>=1.12 in /usr/local/lib/python3.10/dist-packages (from cryptography!=3.4.0,>=3.3.1->globus-sdk<4->deriva) (1.16.0)\n",
            "Requirement already satisfied: pycparser in /usr/local/lib/python3.10/dist-packages (from cffi>=1.12->cryptography!=3.4.0,>=3.3.1->globus-sdk<4->deriva) (2.21)\n",
            "Installing collected packages: urllib3, portalocker, pika, globus-sdk, fair-research-login, fair-identifiers-client, deriva\n",
            "  Attempting uninstall: urllib3\n",
            "    Found existing installation: urllib3 2.0.7\n",
            "    Uninstalling urllib3-2.0.7:\n",
            "      Successfully uninstalled urllib3-2.0.7\n",
            "Successfully installed deriva-1.6.3 fair-identifiers-client-0.5.0 fair-research-login-0.3.1 globus-sdk-3.33.0.post0 pika-1.3.2 portalocker-2.8.2 urllib3-1.26.18\n",
            "Collecting git+https://github.com/informatics-isi-edu/eye-ai-tools@main\n",
            "  Cloning https://github.com/informatics-isi-edu/eye-ai-tools (to revision main) to /tmp/pip-req-build-bonnqwjy\n",
            "  Running command git clone --filter=blob:none --quiet https://github.com/informatics-isi-edu/eye-ai-tools /tmp/pip-req-build-bonnqwjy\n",
            "  Resolved https://github.com/informatics-isi-edu/eye-ai-tools to commit 8f76806e5c1efe14c4d2b19e27b553542199458b\n",
            "  Installing build dependencies ... \u001b[?25l\u001b[?25hdone\n",
            "  Getting requirements to build wheel ... \u001b[?25l\u001b[?25hdone\n",
            "  Preparing metadata (pyproject.toml) ... \u001b[?25l\u001b[?25hdone\n",
            "Building wheels for collected packages: ml-utils\n",
            "  Building wheel for ml-utils (pyproject.toml) ... \u001b[?25l\u001b[?25hdone\n",
            "  Created wheel for ml-utils: filename=ml_utils-0.0.1-py3-none-any.whl size=8503 sha256=b7f429cf5a3587a1fd61b13930185d6a0a653ec924b03c3e49ef471cddd404ac\n",
            "  Stored in directory: /tmp/pip-ephem-wheel-cache-ev79in8d/wheels/3d/dc/99/a716ccef594936f244bb8d36b94d55b3738bf015788d2da867\n",
            "Successfully built ml-utils\n",
            "Installing collected packages: ml-utils\n",
            "Successfully installed ml-utils-0.0.1\n"
          ]
        }
      ],
      "source": [
        "# Prerequisites\n",
        "!pip install git+https://github.com/fair-research/bdbag\n",
        "!pip install deriva\n",
        "#!git clone https://github.com/informatics-isi-edu/eye-ai-tools.git\n",
        "#!pip install ./eye-ai-tools --upgrade\n",
        "!pip install 'git+https://github.com/informatics-isi-edu/eye-ai-tools@main' --upgrade --force\n"
      ]
    },
    {
      "cell_type": "code",
      "execution_count": 5,
      "metadata": {
        "id": "mVLFcQpzhi_0",
        "outputId": "d587d796-1842-4034-cd49-53c0d1f965fa",
        "colab": {
          "base_uri": "https://localhost:8080/"
        }
      },
      "outputs": [
        {
          "output_type": "stream",
          "name": "stdout",
          "text": [
            "You are already logged in.\n"
          ]
        }
      ],
      "source": [
        "# login to DERIVA via Globus Auth\n",
        "DEBUG_MODE = True #@param\n",
        "DEFAULT_SERVER = 'dev.eye-ai.org' if DEBUG_MODE else 'www.eye-ai.org'\n",
        "!deriva-globus-auth-utils login --no-browser --host {DEFAULT_SERVER}\n"
      ]
    },
    {
      "cell_type": "markdown",
      "metadata": {
        "id": "kiBJIR0E7XUE"
      },
      "source": [
        "Make a connection to the Eye AI catalog and get a reference to the main schema: eye-ai"
      ]
    },
    {
      "cell_type": "code",
      "execution_count": 6,
      "metadata": {
        "id": "7vyUQWbIA79J"
      },
      "outputs": [],
      "source": [
        "# @title Configure Grader groups\n",
        "grader_list = [\"Benjamin Xu\", \"Kendra Hong\", \"Kent Nguyen\"] # @param\n",
        "dataset_rid = \"2-277M\" # @param {type:\"string\"}\n",
        "diagnosis_tag_rid = \"2-35RM\" # @param {type:\"string\"}\n"
      ]
    },
    {
      "cell_type": "code",
      "source": [
        "# @title Configure Process and\n",
        "process_tag_name = \"Test Diagnosis Generation\" # @param {type:\"string\"}\n",
        "Metadata = \"Test Diagnosis Generation\" # @param {type:\"string\"}\n",
        "Github_URL=\"\" # @param {type:\"string\"}\n",
        "Process_Tag = \"\" # @param {type: \"string\"}\n",
        "Description = \"\" # @param {type: \"string\"}\n",
        "Github_Checksum = \"\" # @param {type: \"string\"}\n",
        "\n",
        "\n",
        "\n",
        "Diagnosis_Tag_name = \"Test Diagnosis Generation\" # @param {type:\"string\"}\n",
        "Description = \"Generate new diagnosis based on a group of graders: \"+str(grader_list)\n",
        "synonyms = [] # @param\n"
      ],
      "metadata": {
        "id": "F-WtiyLWgHHl"
      },
      "execution_count": 7,
      "outputs": []
    },
    {
      "cell_type": "code",
      "source": [
        "from ml_utils import EyeAI\n",
        "EA = EyeAI(hostname = DEFAULT_SERVER, catalog_number = 'eye-ai')"
      ],
      "metadata": {
        "id": "szzQ3ItUb2il"
      },
      "execution_count": 8,
      "outputs": []
    },
    {
      "cell_type": "code",
      "source": [
        "# @title Define generation rule\n",
        "def CDR_func(values):\n",
        "    return values.mean()\n",
        "\n",
        "def Diag_func(values):\n",
        "    # Use the mode function to get the most frequent diagnosis value\n",
        "    mode_diagnosis = values.mode()\n",
        "\n",
        "    # If there are multiple modes, take the first one\n",
        "    if not mode_diagnosis.empty:\n",
        "        return mode_diagnosis.iloc[0]\n",
        "    else:\n",
        "        # Handle the case where there is no mode (e.g., all values are unique)\n",
        "        return 'Unknown'\n",
        "\n",
        "def ImageQuality_func(values):\n",
        "    mode_quality = values.mode()\n",
        "    if not mode_quality.empty:\n",
        "        return mode_quality.iloc[0]\n",
        "    else:\n",
        "        return \"Unknown\""
      ],
      "metadata": {
        "id": "TiGtTYw5cyyQ"
      },
      "execution_count": 10,
      "outputs": []
    },
    {
      "cell_type": "code",
      "source": [
        "# @title Extract the diagnosis in the catalog and generate new Diagnosis\n",
        "all_diag = EA.image_tall(dataset_rid, diagnosis_tag_rid)\n",
        "result = EA.compute_diagnosis(all_diag[all_diag[\"Full_Name\"].isin(grader_list)],\n",
        "                                 Diag_func,\n",
        "                                 CDR_func,\n",
        "                                 ImageQuality_func)"
      ],
      "metadata": {
        "id": "JtoHFwVscdLQ"
      },
      "execution_count": 11,
      "outputs": []
    },
    {
      "cell_type": "code",
      "source": [
        "# @title Insert New Process_Tag, Proecess, and Diagnosis_Tag\n",
        "new_process_tag_RID = EA.add_term('Process_Tag', name=process_tag_name, description=grader_list, synonyms=[], exist_ok=False)\n",
        "Process_RID = EA.add_process(Metadata, Github_URL, new_process_tag_RID, Description, Github_Checksum)\n",
        "\n",
        "new_diag_tag_RID = EA.add_term('Diagnosis_Tag', Diagnosis_Tag_name, Description, exist_ok=False)\n"
      ],
      "metadata": {
        "id": "8jTE1iy9c19R"
      },
      "execution_count": 12,
      "outputs": []
    },
    {
      "cell_type": "markdown",
      "source": [
        "# New Section"
      ],
      "metadata": {
        "id": "Z78HePWLJBVM"
      }
    },
    {
      "cell_type": "code",
      "source": [
        "entities = EA.insert_new_diagnosis(result, new_diag_tag_RID, Process_RID)"
      ],
      "metadata": {
        "id": "nwwG4pVSehMc"
      },
      "execution_count": 13,
      "outputs": []
    }
  ],
  "metadata": {
    "colab": {
      "provenance": [],
      "toc_visible": true,
      "include_colab_link": true
    },
    "kernelspec": {
      "display_name": "Python 3",
      "name": "python3"
    },
    "language_info": {
      "name": "python"
    }
  },
  "nbformat": 4,
  "nbformat_minor": 0
}