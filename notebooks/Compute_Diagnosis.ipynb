{
  "cells": [
    {
      "cell_type": "markdown",
      "metadata": {
        "id": "view-in-github",
        "colab_type": "text"
      },
      "source": [
        "<a href=\"https://colab.research.google.com/github/informatics-isi-edu/eye-ai-tools/blob/main/notebooks/Compute_Diagnosis.ipynb\" target=\"_parent\"><img src=\"https://colab.research.google.com/assets/colab-badge.svg\" alt=\"Open In Colab\"/></a>"
      ]
    },
    {
      "cell_type": "code",
      "execution_count": null,
      "metadata": {
        "id": "QxhaFfawhfE2"
      },
      "outputs": [],
      "source": [
        "# Prerequisites\n",
        "!pip install git+https://github.com/fair-research/bdbag\n",
        "!pip install deriva\n",
        "!pip install 'git+https://github.com/informatics-isi-edu/eye-ai-tools.git'\n"
      ]
    },
    {
      "cell_type": "code",
      "execution_count": null,
      "metadata": {
        "id": "mVLFcQpzhi_0"
      },
      "outputs": [],
      "source": [
        "# login to DERIVA via Globus Auth\n",
        "host = 'dev.eye-ai.org' #@param {type:\"string\"}\n",
        "!deriva-globus-auth-utils login --no-browser --host {host}"
      ]
    },
    {
      "cell_type": "markdown",
      "metadata": {
        "id": "kiBJIR0E7XUE"
      },
      "source": [
        "Make a connection to the Eye AI catalog and get a reference to the main schema: eye-ai"
      ]
    },
    {
      "cell_type": "code",
      "execution_count": null,
      "metadata": {
        "id": "7vyUQWbIA79J"
      },
      "outputs": [],
      "source": [
        "# @title Configure Grader groups\n",
        "grader_list = [\"Benjamin Xu\", \"Kendra Hong\", \"Kent Nguyen\"] # @param\n",
        "dataset_rid = \"2-277M\" # @param {type:\"string\"}\n",
        "diagnosis_tag_rid = \"2-35RM\" # @param {type:\"string\"}\n"
      ]
    },
    {
      "cell_type": "code",
      "source": [
        "# @title Configure Process and\n",
        "process_tag_name = \"Test Diagnosis Generation\" # @param {type:\"string\"}\n",
        "Metadata = \"Test Diagnosis Generation\" # @param {type:\"string\"}\n",
        "Github_URL=\"\" # @param {type:\"string\"}\n",
        "Process_Tag = \"\" # @param {type: \"string\"}\n",
        "Description = \"\" # @param {type: \"string\"}\n",
        "Github_Checksum = \"\" # @param {type: \"string\"}\n",
        "\n",
        "\n",
        "\n",
        "Diagnosis_Tag_name = \"Test Diagnosis Generation\" # @param {type:\"string\"}\n",
        "Description = \"Generate new diagnosis based on a group of graders: \"+str(grader_list)\n",
        "synonyms = [] # @param\n"
      ],
      "metadata": {
        "id": "F-WtiyLWgHHl"
      },
      "execution_count": null,
      "outputs": []
    },
    {
      "cell_type": "code",
      "source": [
        "from ml_utils import EyeAI\n",
        "EA = EyeAI(hostname = 'dev.eye-ai.org', catalog_number = 'eye-ai')"
      ],
      "metadata": {
        "id": "szzQ3ItUb2il"
      },
      "execution_count": null,
      "outputs": []
    },
    {
      "cell_type": "code",
      "source": [
        "# @title Define generation rule\n",
        "def CDR_rule(values):\n",
        "    return values.mean()\n",
        "\n",
        "def Diag_rule(values):\n",
        "    # Use the mode function to get the most frequent diagnosis value\n",
        "    mode_diagnosis = values.mode()\n",
        "\n",
        "    # If there are multiple modes, take the first one\n",
        "    if not mode_diagnosis.empty:\n",
        "        return mode_diagnosis.iloc[0]\n",
        "    else:\n",
        "        # Handle the case where there is no mode (e.g., all values are unique)\n",
        "        return 'suspect/Not'\n",
        "\n",
        "def ImageQuality_rule(values):\n",
        "    mode_quality = values.mode()\n",
        "    if not mode_quality.empty:\n",
        "        return mode_quality.iloc[0]\n",
        "    else:\n",
        "        return \"Good/Bad\""
      ],
      "metadata": {
        "id": "TiGtTYw5cyyQ"
      },
      "execution_count": null,
      "outputs": []
    },
    {
      "cell_type": "code",
      "source": [
        "# @title Extract the diagnosis in the catalog and generate new Diagnosis\n",
        "all_diag = EA.image_tall(dataset_rid, diagnosis_tag_rid)\n",
        "result = EA.generate_Diagnosis(all_diag[all_diag[\"Full_Name\"].isin(grader_list)], Diag_rule, CDR_rule, ImageQuality_rule)"
      ],
      "metadata": {
        "id": "JtoHFwVscdLQ"
      },
      "execution_count": null,
      "outputs": []
    },
    {
      "cell_type": "code",
      "source": [
        "# @title Insert New Process_Tag, Proecess, and Diagnosis_Tag\n",
        "new_process_tag_RID = EA.insert_new_process(table_name='Process_Tag', name=process_tag_name, description=grader_list, synonyms=[], exist_ok=False)\n",
        "Process_RID = EA.insert_new_process(Metadata, Github_URL, new_process_tag_RID, Description, Github_Checksum)\n",
        "\n",
        "new_diag_tag_RID = EA.insert_new_tag('Diagnosis_Tag', Diagnosis_Tag_name, Description, exist_ok=False)\n"
      ],
      "metadata": {
        "id": "8jTE1iy9c19R"
      },
      "execution_count": null,
      "outputs": []
    },
    {
      "cell_type": "code",
      "source": [
        "entities = EA.insert_new_diag(result[:5], new_diag_tag_RID, Process_RID)"
      ],
      "metadata": {
        "id": "nwwG4pVSehMc"
      },
      "execution_count": null,
      "outputs": []
    },
    {
      "cell_type": "code",
      "source": [],
      "metadata": {
        "id": "EnxnXvtKeuD0"
      },
      "execution_count": null,
      "outputs": []
    }
  ],
  "metadata": {
    "colab": {
      "provenance": [],
      "include_colab_link": true
    },
    "kernelspec": {
      "display_name": "Python 3",
      "name": "python3"
    },
    "language_info": {
      "name": "python"
    }
  },
  "nbformat": 4,
  "nbformat_minor": 0
}