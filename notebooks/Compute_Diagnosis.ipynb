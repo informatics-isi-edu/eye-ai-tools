{
  "cells": [
    {
      "cell_type": "markdown",
      "metadata": {
        "id": "view-in-github",
        "colab_type": "text"
      },
      "source": [
        "<a href=\"https://colab.research.google.com/github/informatics-isi-edu/eye-ai-tools/blob/main/notebooks/Compute_Diagnosis.ipynb\" target=\"_parent\"><img src=\"https://colab.research.google.com/assets/colab-badge.svg\" alt=\"Open In Colab\"/></a>"
      ]
    },
    {
      "cell_type": "code",
      "execution_count": 2,
      "metadata": {
        "id": "QxhaFfawhfE2",
        "outputId": "df0dcf55-5cef-4336-c965-3b3e69d9db31",
        "colab": {
          "base_uri": "https://localhost:8080/"
        }
      },
      "outputs": [
        {
          "output_type": "stream",
          "name": "stdout",
          "text": [
            "Collecting git+https://github.com/fair-research/bdbag\n",
            "  Cloning https://github.com/fair-research/bdbag to /tmp/pip-req-build-xtxw0fkn\n",
            "  Running command git clone --filter=blob:none --quiet https://github.com/fair-research/bdbag /tmp/pip-req-build-xtxw0fkn\n",
            "  Resolved https://github.com/fair-research/bdbag to commit 8ee285059caa71a0789179b8d57b03010ac00e7f\n",
            "  Preparing metadata (setup.py) ... \u001b[?25l\u001b[?25hdone\n",
            "Requirement already satisfied: pytz in /usr/local/lib/python3.10/dist-packages (from bdbag==1.7.1) (2023.3.post1)\n",
            "Requirement already satisfied: tzlocal in /usr/local/lib/python3.10/dist-packages (from bdbag==1.7.1) (5.2)\n",
            "Requirement already satisfied: certifi in /usr/local/lib/python3.10/dist-packages (from bdbag==1.7.1) (2023.11.17)\n",
            "Requirement already satisfied: packaging in /usr/local/lib/python3.10/dist-packages (from bdbag==1.7.1) (23.2)\n",
            "Requirement already satisfied: requests>=2.7.0 in /usr/local/lib/python3.10/dist-packages (from bdbag==1.7.1) (2.31.0)\n",
            "Requirement already satisfied: setuptools_scm<6.0 in /usr/local/lib/python3.10/dist-packages (from bdbag==1.7.1) (5.0.2)\n",
            "Requirement already satisfied: bagit==1.8.1 in /usr/local/lib/python3.10/dist-packages (from bdbag==1.7.1) (1.8.1)\n",
            "Requirement already satisfied: bagit-profile==1.3.1 in /usr/local/lib/python3.10/dist-packages (from bdbag==1.7.1) (1.3.1)\n",
            "Requirement already satisfied: charset-normalizer<4,>=2 in /usr/local/lib/python3.10/dist-packages (from requests>=2.7.0->bdbag==1.7.1) (3.3.2)\n",
            "Requirement already satisfied: idna<4,>=2.5 in /usr/local/lib/python3.10/dist-packages (from requests>=2.7.0->bdbag==1.7.1) (3.6)\n",
            "Requirement already satisfied: urllib3<3,>=1.21.1 in /usr/local/lib/python3.10/dist-packages (from requests>=2.7.0->bdbag==1.7.1) (1.26.18)\n",
            "Requirement already satisfied: setuptools in /usr/local/lib/python3.10/dist-packages (from setuptools_scm<6.0->bdbag==1.7.1) (67.7.2)\n",
            "Requirement already satisfied: deriva in /usr/local/lib/python3.10/dist-packages (1.6.3)\n",
            "Requirement already satisfied: setuptools>=20.2 in /usr/local/lib/python3.10/dist-packages (from deriva) (67.7.2)\n",
            "Requirement already satisfied: packaging in /usr/local/lib/python3.10/dist-packages (from deriva) (23.2)\n",
            "Requirement already satisfied: requests in /usr/local/lib/python3.10/dist-packages (from deriva) (2.31.0)\n",
            "Requirement already satisfied: certifi in /usr/local/lib/python3.10/dist-packages (from deriva) (2023.11.17)\n",
            "Requirement already satisfied: pika in /usr/local/lib/python3.10/dist-packages (from deriva) (1.3.2)\n",
            "Requirement already satisfied: urllib3<2.0,>=1.26.0 in /usr/local/lib/python3.10/dist-packages (from deriva) (1.26.18)\n",
            "Requirement already satisfied: portalocker>=1.2.1 in /usr/local/lib/python3.10/dist-packages (from deriva) (2.8.2)\n",
            "Requirement already satisfied: bdbag>=1.6.0 in /usr/local/lib/python3.10/dist-packages (from deriva) (1.7.1)\n",
            "Requirement already satisfied: globus-sdk<4 in /usr/local/lib/python3.10/dist-packages (from deriva) (3.33.0.post0)\n",
            "Requirement already satisfied: fair-research-login>=0.2.6 in /usr/local/lib/python3.10/dist-packages (from deriva) (0.3.1)\n",
            "Requirement already satisfied: fair-identifiers-client>=0.5 in /usr/local/lib/python3.10/dist-packages (from deriva) (0.5.0)\n",
            "Requirement already satisfied: jsonschema>=3.1 in /usr/local/lib/python3.10/dist-packages (from deriva) (4.19.2)\n",
            "Requirement already satisfied: pytz in /usr/local/lib/python3.10/dist-packages (from bdbag>=1.6.0->deriva) (2023.3.post1)\n",
            "Requirement already satisfied: tzlocal in /usr/local/lib/python3.10/dist-packages (from bdbag>=1.6.0->deriva) (5.2)\n",
            "Requirement already satisfied: setuptools-scm<6.0 in /usr/local/lib/python3.10/dist-packages (from bdbag>=1.6.0->deriva) (5.0.2)\n",
            "Requirement already satisfied: bagit==1.8.1 in /usr/local/lib/python3.10/dist-packages (from bdbag>=1.6.0->deriva) (1.8.1)\n",
            "Requirement already satisfied: bagit-profile==1.3.1 in /usr/local/lib/python3.10/dist-packages (from bdbag>=1.6.0->deriva) (1.3.1)\n",
            "Requirement already satisfied: six<2.0.0,>=1.10.0 in /usr/local/lib/python3.10/dist-packages (from fair-identifiers-client>=0.5->deriva) (1.16.0)\n",
            "Requirement already satisfied: pyjwt[crypto]<3.0.0,>=2.0.0 in /usr/lib/python3/dist-packages (from globus-sdk<4->deriva) (2.3.0)\n",
            "Requirement already satisfied: cryptography!=3.4.0,>=3.3.1 in /usr/local/lib/python3.10/dist-packages (from globus-sdk<4->deriva) (41.0.7)\n",
            "Requirement already satisfied: attrs>=22.2.0 in /usr/local/lib/python3.10/dist-packages (from jsonschema>=3.1->deriva) (23.1.0)\n",
            "Requirement already satisfied: jsonschema-specifications>=2023.03.6 in /usr/local/lib/python3.10/dist-packages (from jsonschema>=3.1->deriva) (2023.11.2)\n",
            "Requirement already satisfied: referencing>=0.28.4 in /usr/local/lib/python3.10/dist-packages (from jsonschema>=3.1->deriva) (0.31.1)\n",
            "Requirement already satisfied: rpds-py>=0.7.1 in /usr/local/lib/python3.10/dist-packages (from jsonschema>=3.1->deriva) (0.13.2)\n",
            "Requirement already satisfied: charset-normalizer<4,>=2 in /usr/local/lib/python3.10/dist-packages (from requests->deriva) (3.3.2)\n",
            "Requirement already satisfied: idna<4,>=2.5 in /usr/local/lib/python3.10/dist-packages (from requests->deriva) (3.6)\n",
            "Requirement already satisfied: cffi>=1.12 in /usr/local/lib/python3.10/dist-packages (from cryptography!=3.4.0,>=3.3.1->globus-sdk<4->deriva) (1.16.0)\n",
            "Requirement already satisfied: pycparser in /usr/local/lib/python3.10/dist-packages (from cffi>=1.12->cryptography!=3.4.0,>=3.3.1->globus-sdk<4->deriva) (2.21)\n",
            "Collecting git+https://github.com/informatics-isi-edu/eye-ai-tools@main\n",
            "  Cloning https://github.com/informatics-isi-edu/eye-ai-tools (to revision main) to /tmp/pip-req-build-289s5zrc\n",
            "  Running command git clone --filter=blob:none --quiet https://github.com/informatics-isi-edu/eye-ai-tools /tmp/pip-req-build-289s5zrc\n",
            "  Resolved https://github.com/informatics-isi-edu/eye-ai-tools to commit 84aa120aa5cf805f30a1e2ae20350a61cb36d7a2\n",
            "  Installing build dependencies ... \u001b[?25l\u001b[?25hdone\n",
            "  Getting requirements to build wheel ... \u001b[?25l\u001b[?25hdone\n",
            "  Preparing metadata (pyproject.toml) ... \u001b[?25l\u001b[?25hdone\n",
            "Building wheels for collected packages: ml-utils\n",
            "  Building wheel for ml-utils (pyproject.toml) ... \u001b[?25l\u001b[?25hdone\n",
            "  Created wheel for ml-utils: filename=ml_utils-0.0.1-py3-none-any.whl size=9592 sha256=5a5a20bea33da4617d3631a8bd2254bfdbb0e65ff93162b53eb29cf50bbbf7e0\n",
            "  Stored in directory: /tmp/pip-ephem-wheel-cache-qss78htz/wheels/3d/dc/99/a716ccef594936f244bb8d36b94d55b3738bf015788d2da867\n",
            "Successfully built ml-utils\n",
            "Installing collected packages: ml-utils\n",
            "  Attempting uninstall: ml-utils\n",
            "    Found existing installation: ml-utils 0.0.1\n",
            "    Uninstalling ml-utils-0.0.1:\n",
            "      Successfully uninstalled ml-utils-0.0.1\n",
            "Successfully installed ml-utils-0.0.1\n"
          ]
        }
      ],
      "source": [
        "# Prerequisites\n",
        "!pip install git+https://github.com/fair-research/bdbag\n",
        "!pip install deriva\n",
        "!pip install 'git+https://github.com/informatics-isi-edu/eye-ai-tools@main' --upgrade --force\n"
      ]
    },
    {
      "cell_type": "code",
      "execution_count": 3,
      "metadata": {
        "id": "mVLFcQpzhi_0",
        "outputId": "ba220d66-9367-4890-80d9-68a966955976",
        "colab": {
          "base_uri": "https://localhost:8080/"
        }
      },
      "outputs": [
        {
          "output_type": "stream",
          "name": "stdout",
          "text": [
            "2023-12-06 21:55:23,665 - INFO - No default configuration file found, attempting to create one at: /root/.deriva/config.json\n",
            "2023-12-06 21:55:24,291 - INFO - NoSavedTokens: No tokens were loaded\n",
            "Please paste the following URL in a browser:\n",
            "https://auth.globus.org/v2/oauth2/authorize?client_id=8ef15ba9-2b4a-469c-a163-7fd910c9d111&redirect_uri=https%3A%2F%2Fauth.globus.org%2Fv2%2Fweb%2Fauth-code&scope=openid+https%3A%2F%2Fauth.globus.org%2Fscopes%2Fdev.eye-ai.org%2Fderiva_all+urn%3Aglobus%3Aauth%3Ascope%3Agroups.api.globus.org%3Aview_my_groups_and_memberships&state=_default&response_type=code&code_challenge=PNjiByb1olCRDU91AhzytMDujWvAE_Yjqw3lVbbHmkA&code_challenge_method=S256&access_type=online&prefill_named_grant=Login+from+deriva-client+on+bd2822ae384d+%5BLinux-6.1.58%2B-x86_64-with-glibc2.35%5D+to+hosts+%5Bdev.eye-ai.org%5D+with+requested+scopes+%5Bopenid%2C+https%3A%2F%2Fauth.globus.org%2Fscopes%2Fdev.eye-ai.org%2Fderiva_all%2C+urn%3Aglobus%3Aauth%3Ascope%3Agroups.api.globus.org%3Aview_my_groups_and_memberships%5D+\n",
            "Please Paste your Auth Code Below: \n",
            "ud5AIFFx6WzCexmT8TmSpkb9ZOyE8Q\n",
            "Login Successful\n"
          ]
        }
      ],
      "source": [
        "# login to DERIVA via Globus Auth\n",
        "DEBUG_MODE = True #@param\n",
        "DEFAULT_SERVER = 'dev.eye-ai.org' if DEBUG_MODE else 'www.eye-ai.org'\n",
        "!deriva-globus-auth-utils login --no-browser --host {DEFAULT_SERVER}\n"
      ]
    },
    {
      "cell_type": "markdown",
      "metadata": {
        "id": "kiBJIR0E7XUE"
      },
      "source": [
        "Make a connection to the Eye AI catalog and get a reference to the main schema: eye-ai"
      ]
    },
    {
      "cell_type": "code",
      "execution_count": 4,
      "metadata": {
        "id": "7vyUQWbIA79J"
      },
      "outputs": [],
      "source": [
        "# @title Configure Grader groups\n",
        "grader_list = [\"Benjamin Xu\", \"Kendra Hong\", \"Kent Nguyen\"] # @param\n",
        "dataset_rid = \"2-277M\" # @param {type:\"string\"}\n",
        "diagnosis_tag_rid = \"2-35RM\" # @param {type:\"string\"}\n"
      ]
    },
    {
      "cell_type": "code",
      "source": [
        "# @title Configure Process and Diagnosis Tag\n",
        "process_tag_name = \"Test Diagnosis Generation\" # @param {type:\"string\"}\n",
        "Metadata = \"Test Diagnosis Generation\" # @param {type:\"string\"}\n",
        "Github_URL=\"\" # @param {type:\"string\"}\n",
        "Process_Tag = \"\" # @param {type: \"string\"}\n",
        "Description = \"\" # @param {type: \"string\"}\n",
        "Github_Checksum = \"\" # @param {type: \"string\"}\n",
        "\n",
        "\n",
        "\n",
        "Diagnosis_Tag_name = \"Test Diagnosis Generation\" # @param {type:\"string\"}\n",
        "Description = \"Generate new diagnosis based on a group of graders: \"+str(grader_list) # @param {type:\"string\"}\n",
        "synonyms = [] # @param\n"
      ],
      "metadata": {
        "id": "F-WtiyLWgHHl"
      },
      "execution_count": 5,
      "outputs": []
    },
    {
      "cell_type": "code",
      "source": [
        "from ml_utils import EyeAI\n",
        "EA = EyeAI(hostname = DEFAULT_SERVER, catalog_number = 'eye-ai')"
      ],
      "metadata": {
        "id": "szzQ3ItUb2il"
      },
      "execution_count": 6,
      "outputs": []
    },
    {
      "cell_type": "code",
      "source": [
        "# @title Define Diagnosis Generation Rule\n",
        "def CDR_func(values):\n",
        "    return values.mean()\n",
        "\n",
        "def Diag_func(values):\n",
        "    # Use the mode function to get the most frequent diagnosis value\n",
        "    mode_diagnosis = values.mode()\n",
        "\n",
        "    # If there are multiple modes, take the first one\n",
        "    if not mode_diagnosis.empty:\n",
        "        return mode_diagnosis.iloc[0]\n",
        "    else:\n",
        "        # Handle the case where there is no mode (e.g., all values are unique)\n",
        "        return 'Unknown'\n",
        "\n",
        "def ImageQuality_func(values):\n",
        "    mode_quality = values.mode()\n",
        "    if not mode_quality.empty:\n",
        "        return mode_quality.iloc[0]\n",
        "    else:\n",
        "        return \"Unknown\""
      ],
      "metadata": {
        "id": "TiGtTYw5cyyQ"
      },
      "execution_count": 7,
      "outputs": []
    },
    {
      "cell_type": "code",
      "source": [
        "# @title Extract the diagnosis in the catalog and generate new Diagnosis\n",
        "all_diag = EA.image_tall(dataset_rid, diagnosis_tag_rid)\n",
        "result = EA.compute_diagnosis(all_diag[all_diag[\"Full_Name\"].isin(grader_list)],\n",
        "                                 Diag_func,\n",
        "                                 CDR_func,\n",
        "                                 ImageQuality_func)"
      ],
      "metadata": {
        "id": "JtoHFwVscdLQ"
      },
      "execution_count": 8,
      "outputs": []
    },
    {
      "cell_type": "code",
      "source": [
        "# @title Insert New Process_Tag, Proecess, and Diagnosis_Tag\n",
        "new_process_tag_RID = EA.add_term('Process_Tag', name=process_tag_name, description=grader_list, synonyms=[], exist_ok=False)\n",
        "Process_RID = EA.add_process(Metadata, Github_URL, new_process_tag_RID, Description, Github_Checksum, exist_ok=False)\n",
        "\n",
        "new_diag_tag_RID = EA.add_term('Diagnosis_Tag', Diagnosis_Tag_name, Description, exist_ok=False)\n"
      ],
      "metadata": {
        "id": "8jTE1iy9c19R"
      },
      "execution_count": 10,
      "outputs": []
    },
    {
      "cell_type": "markdown",
      "source": [
        "# New Section"
      ],
      "metadata": {
        "id": "Z78HePWLJBVM"
      }
    },
    {
      "cell_type": "code",
      "source": [
        "entities = EA.insert_new_diagnosis(result, new_diag_tag_RID, Process_RID)"
      ],
      "metadata": {
        "id": "nwwG4pVSehMc"
      },
      "execution_count": 11,
      "outputs": []
    },
    {
      "cell_type": "code",
      "source": [],
      "metadata": {
        "id": "MLE2uTL-Lnph"
      },
      "execution_count": null,
      "outputs": []
    }
  ],
  "metadata": {
    "colab": {
      "provenance": [],
      "toc_visible": true,
      "include_colab_link": true
    },
    "kernelspec": {
      "display_name": "Python 3",
      "name": "python3"
    },
    "language_info": {
      "name": "python"
    }
  },
  "nbformat": 4,
  "nbformat_minor": 0
}